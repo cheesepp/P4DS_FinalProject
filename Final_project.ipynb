{
 "cells": [
  {
   "cell_type": "markdown",
   "id": "1f5cffce-b22a-4226-ad62-26d053cc2ead",
   "metadata": {},
   "source": [
    "**<p style = \"text-align: center\">TRƯỜNG ĐẠI HỌC KHOA HỌC TỰ NHIÊN - ĐẠI HỌC QUỐC GIA TPHCM</p>**"
   ]
  },
  {
   "cell_type": "markdown",
   "id": "d2bba034-0c31-4656-aa37-e2d352d8d45e",
   "metadata": {},
   "source": [
    "# **<p style = \"text-align: center\">LẬP TRÌNH KHOA HỌC DỮ LIỆU</p>**\n",
    "## **<p style = \"text-align: center\">Đồ án Cuối kì</p>**\n",
    "### <p style = \"text-align: center\"> <b>Đề tài:</b> Xử lí, phân tích và khám phá dữ liệu về sức khỏe tinh thần của nhân viên công nghệ (Mental Health in Tech)</p>\n",
    "*<p style = \"text-align: center\">Bộ dữ liệu này là từ một cuộc khảo sát năm 2014 đo lường thái độ đối với sức khỏe tâm thần và tần suất rối loạn sức khỏe tâm thần của những người làm việc trong lĩnh vực công nghệ.</p>*\n",
    "**Sinh viên thực hiện:**\n",
    "\n",
    "| Mã số sinh viên | Họ và tên |\n",
    "| --- | --- |\n",
    "| 21120576 | Trần Đình Nhật Trí |\n",
    "| 21120590 | Nguyễn Thủy Uyên |\n",
    "| 21120501 | Nguyễn Ngọc Gia Minh |"
   ]
  },
  {
   "cell_type": "markdown",
   "id": "e87a37d7-bc57-4427-af95-9bcabb3a1e4e",
   "metadata": {},
   "source": [
    "<div style=\"text-align: center; background-color: #b1d1ff; font-family: 'Trebuchet MS', Arial, sans-serif; color: white; padding: 20px; font-size: 40px; font-weight: bold; border-radius: 0 0 0 0; box-shadow: 0px 6px 8px rgba(0, 0, 0, 0.2);\">\n",
    "   Preprocessing\n",
    "</div>"
   ]
  },
  {
   "cell_type": "markdown",
   "id": "ccf1169f-1763-4657-a3b0-6ab7e12aee5a",
   "metadata": {},
   "source": [
    "## Import thư viện"
   ]
  },
  {
   "cell_type": "code",
   "execution_count": 15,
   "id": "df58e81e-cf34-46bf-9016-c85d0a0e962b",
   "metadata": {},
   "outputs": [],
   "source": [
    "import numpy as np\n",
    "import pandas as pd\n",
    "import matplotlib.pyplot as plt\n",
    "import plotly.express as px\n",
    "import plotly.graph_objects as go\n",
    "from plotly.subplots import make_subplots\n",
    "%matplotlib inline\n",
    "import seaborn as sns\n",
    "import warnings\n",
    "warnings.filterwarnings('ignore')"
   ]
  },
  {
   "cell_type": "code",
   "execution_count": 16,
   "id": "d9300526-02b4-4aae-a20d-a3218c413d4f",
   "metadata": {},
   "outputs": [
    {
     "data": {
      "text/html": [
       "<div>\n",
       "<style scoped>\n",
       "    .dataframe tbody tr th:only-of-type {\n",
       "        vertical-align: middle;\n",
       "    }\n",
       "\n",
       "    .dataframe tbody tr th {\n",
       "        vertical-align: top;\n",
       "    }\n",
       "\n",
       "    .dataframe thead th {\n",
       "        text-align: right;\n",
       "    }\n",
       "</style>\n",
       "<table border=\"1\" class=\"dataframe\">\n",
       "  <thead>\n",
       "    <tr style=\"text-align: right;\">\n",
       "      <th></th>\n",
       "      <th>Timestamp</th>\n",
       "      <th>Age</th>\n",
       "      <th>Gender</th>\n",
       "      <th>Country</th>\n",
       "      <th>state</th>\n",
       "      <th>self_employed</th>\n",
       "      <th>family_history</th>\n",
       "      <th>treatment</th>\n",
       "      <th>work_interfere</th>\n",
       "      <th>no_employees</th>\n",
       "      <th>...</th>\n",
       "      <th>leave</th>\n",
       "      <th>mental_health_consequence</th>\n",
       "      <th>phys_health_consequence</th>\n",
       "      <th>coworkers</th>\n",
       "      <th>supervisor</th>\n",
       "      <th>mental_health_interview</th>\n",
       "      <th>phys_health_interview</th>\n",
       "      <th>mental_vs_physical</th>\n",
       "      <th>obs_consequence</th>\n",
       "      <th>comments</th>\n",
       "    </tr>\n",
       "  </thead>\n",
       "  <tbody>\n",
       "    <tr>\n",
       "      <th>0</th>\n",
       "      <td>2014-08-27 11:29:31</td>\n",
       "      <td>37</td>\n",
       "      <td>Female</td>\n",
       "      <td>United States</td>\n",
       "      <td>IL</td>\n",
       "      <td>NaN</td>\n",
       "      <td>No</td>\n",
       "      <td>Yes</td>\n",
       "      <td>Often</td>\n",
       "      <td>6-25</td>\n",
       "      <td>...</td>\n",
       "      <td>Somewhat easy</td>\n",
       "      <td>No</td>\n",
       "      <td>No</td>\n",
       "      <td>Some of them</td>\n",
       "      <td>Yes</td>\n",
       "      <td>No</td>\n",
       "      <td>Maybe</td>\n",
       "      <td>Yes</td>\n",
       "      <td>No</td>\n",
       "      <td>NaN</td>\n",
       "    </tr>\n",
       "    <tr>\n",
       "      <th>1</th>\n",
       "      <td>2014-08-27 11:29:37</td>\n",
       "      <td>44</td>\n",
       "      <td>M</td>\n",
       "      <td>United States</td>\n",
       "      <td>IN</td>\n",
       "      <td>NaN</td>\n",
       "      <td>No</td>\n",
       "      <td>No</td>\n",
       "      <td>Rarely</td>\n",
       "      <td>More than 1000</td>\n",
       "      <td>...</td>\n",
       "      <td>Don't know</td>\n",
       "      <td>Maybe</td>\n",
       "      <td>No</td>\n",
       "      <td>No</td>\n",
       "      <td>No</td>\n",
       "      <td>No</td>\n",
       "      <td>No</td>\n",
       "      <td>Don't know</td>\n",
       "      <td>No</td>\n",
       "      <td>NaN</td>\n",
       "    </tr>\n",
       "    <tr>\n",
       "      <th>2</th>\n",
       "      <td>2014-08-27 11:29:44</td>\n",
       "      <td>32</td>\n",
       "      <td>Male</td>\n",
       "      <td>Canada</td>\n",
       "      <td>NaN</td>\n",
       "      <td>NaN</td>\n",
       "      <td>No</td>\n",
       "      <td>No</td>\n",
       "      <td>Rarely</td>\n",
       "      <td>6-25</td>\n",
       "      <td>...</td>\n",
       "      <td>Somewhat difficult</td>\n",
       "      <td>No</td>\n",
       "      <td>No</td>\n",
       "      <td>Yes</td>\n",
       "      <td>Yes</td>\n",
       "      <td>Yes</td>\n",
       "      <td>Yes</td>\n",
       "      <td>No</td>\n",
       "      <td>No</td>\n",
       "      <td>NaN</td>\n",
       "    </tr>\n",
       "    <tr>\n",
       "      <th>3</th>\n",
       "      <td>2014-08-27 11:29:46</td>\n",
       "      <td>31</td>\n",
       "      <td>Male</td>\n",
       "      <td>United Kingdom</td>\n",
       "      <td>NaN</td>\n",
       "      <td>NaN</td>\n",
       "      <td>Yes</td>\n",
       "      <td>Yes</td>\n",
       "      <td>Often</td>\n",
       "      <td>26-100</td>\n",
       "      <td>...</td>\n",
       "      <td>Somewhat difficult</td>\n",
       "      <td>Yes</td>\n",
       "      <td>Yes</td>\n",
       "      <td>Some of them</td>\n",
       "      <td>No</td>\n",
       "      <td>Maybe</td>\n",
       "      <td>Maybe</td>\n",
       "      <td>No</td>\n",
       "      <td>Yes</td>\n",
       "      <td>NaN</td>\n",
       "    </tr>\n",
       "    <tr>\n",
       "      <th>4</th>\n",
       "      <td>2014-08-27 11:30:22</td>\n",
       "      <td>31</td>\n",
       "      <td>Male</td>\n",
       "      <td>United States</td>\n",
       "      <td>TX</td>\n",
       "      <td>NaN</td>\n",
       "      <td>No</td>\n",
       "      <td>No</td>\n",
       "      <td>Never</td>\n",
       "      <td>100-500</td>\n",
       "      <td>...</td>\n",
       "      <td>Don't know</td>\n",
       "      <td>No</td>\n",
       "      <td>No</td>\n",
       "      <td>Some of them</td>\n",
       "      <td>Yes</td>\n",
       "      <td>Yes</td>\n",
       "      <td>Yes</td>\n",
       "      <td>Don't know</td>\n",
       "      <td>No</td>\n",
       "      <td>NaN</td>\n",
       "    </tr>\n",
       "  </tbody>\n",
       "</table>\n",
       "<p>5 rows × 27 columns</p>\n",
       "</div>"
      ],
      "text/plain": [
       "             Timestamp  Age  Gender         Country state self_employed  \\\n",
       "0  2014-08-27 11:29:31   37  Female   United States    IL           NaN   \n",
       "1  2014-08-27 11:29:37   44       M   United States    IN           NaN   \n",
       "2  2014-08-27 11:29:44   32    Male          Canada   NaN           NaN   \n",
       "3  2014-08-27 11:29:46   31    Male  United Kingdom   NaN           NaN   \n",
       "4  2014-08-27 11:30:22   31    Male   United States    TX           NaN   \n",
       "\n",
       "  family_history treatment work_interfere    no_employees  ...  \\\n",
       "0             No       Yes          Often            6-25  ...   \n",
       "1             No        No         Rarely  More than 1000  ...   \n",
       "2             No        No         Rarely            6-25  ...   \n",
       "3            Yes       Yes          Often          26-100  ...   \n",
       "4             No        No          Never         100-500  ...   \n",
       "\n",
       "                leave mental_health_consequence phys_health_consequence  \\\n",
       "0       Somewhat easy                        No                      No   \n",
       "1          Don't know                     Maybe                      No   \n",
       "2  Somewhat difficult                        No                      No   \n",
       "3  Somewhat difficult                       Yes                     Yes   \n",
       "4          Don't know                        No                      No   \n",
       "\n",
       "      coworkers supervisor mental_health_interview phys_health_interview  \\\n",
       "0  Some of them        Yes                      No                 Maybe   \n",
       "1            No         No                      No                    No   \n",
       "2           Yes        Yes                     Yes                   Yes   \n",
       "3  Some of them         No                   Maybe                 Maybe   \n",
       "4  Some of them        Yes                     Yes                   Yes   \n",
       "\n",
       "  mental_vs_physical obs_consequence comments  \n",
       "0                Yes              No      NaN  \n",
       "1         Don't know              No      NaN  \n",
       "2                 No              No      NaN  \n",
       "3                 No             Yes      NaN  \n",
       "4         Don't know              No      NaN  \n",
       "\n",
       "[5 rows x 27 columns]"
      ]
     },
     "execution_count": 16,
     "metadata": {},
     "output_type": "execute_result"
    }
   ],
   "source": [
    "raw_df = pd.read_csv('Data/survey.csv')\n",
    "raw_df.head()"
   ]
  },
  {
   "cell_type": "markdown",
   "id": "f8279683-b93f-4da0-9fab-4a4f7f934db9",
   "metadata": {},
   "source": [
    "### Dataset có bao nhiêu dòng và cột?"
   ]
  },
  {
   "cell_type": "code",
   "execution_count": 17,
   "id": "7dc33855-04e7-439d-b50e-ce57df738214",
   "metadata": {},
   "outputs": [
    {
     "data": {
      "text/plain": [
       "(1259, 27)"
      ]
     },
     "execution_count": 17,
     "metadata": {},
     "output_type": "execute_result"
    }
   ],
   "source": [
    "raw_df.shape"
   ]
  },
  {
   "cell_type": "markdown",
   "id": "300b1062-166b-4d63-9734-ad08a465e64d",
   "metadata": {},
   "source": [
    "Có 1259 dòng và 27 cột dữ liệu\n",
    "\n",
    "### Ý nghĩa của từng dòng dữ liệu\n",
    "\n",
    "- Tập dữ liệu này lấy từ một cuộc khảo sát năm 2014 nhằm đo lường thái độ đối với sức khỏe tâm thần và tần suất rối loạn sức khỏe tâm thần tại nơi làm việc.\n",
    "- Mỗi dòng là câu trả lời của một người tham gia khảo sát, và thể hiện được các phần như: Thông tin cơ bản của người trả lời (ẩn danh); Thái độ đối với vấn đề sức khỏe tinh thần của chính mình; Cách các công ty, tổ chức cung cấp quyền lợi cho nhân viên có vấn đề sức khỏe tinh thần và thể chất như thế nào;..."
   ]
  },
  {
   "cell_type": "markdown",
   "id": "396484ba-61b6-46b2-8025-ff1dbc59106c",
   "metadata": {},
   "source": [
    "### Ý nghĩa các trường dữ liệu\n",
    "\n",
    "Đọc file `description.csv` trong để hiểu rõ hơn về các cột ta đang làm việc. Lưu vào DataFrame `col_meaning_df` và index chính là `Title` - tên các trường dữ liệu."
   ]
  },
  {
   "cell_type": "code",
   "execution_count": 18,
   "id": "c188afa3-647c-4bac-a9df-362a75c02562",
   "metadata": {},
   "outputs": [
    {
     "data": {
      "text/html": [
       "<div>\n",
       "<style scoped>\n",
       "    .dataframe tbody tr th:only-of-type {\n",
       "        vertical-align: middle;\n",
       "    }\n",
       "\n",
       "    .dataframe tbody tr th {\n",
       "        vertical-align: top;\n",
       "    }\n",
       "\n",
       "    .dataframe thead th {\n",
       "        text-align: right;\n",
       "    }\n",
       "</style>\n",
       "<table border=\"1\" class=\"dataframe\">\n",
       "  <thead>\n",
       "    <tr style=\"text-align: right;\">\n",
       "      <th></th>\n",
       "      <th>Meaning</th>\n",
       "    </tr>\n",
       "    <tr>\n",
       "      <th>Title</th>\n",
       "      <th></th>\n",
       "    </tr>\n",
       "  </thead>\n",
       "  <tbody>\n",
       "    <tr>\n",
       "      <th>Timestamp</th>\n",
       "      <td>Thời gian nộp khảo sát</td>\n",
       "    </tr>\n",
       "    <tr>\n",
       "      <th>Age</th>\n",
       "      <td>Tuổi</td>\n",
       "    </tr>\n",
       "    <tr>\n",
       "      <th>Gender</th>\n",
       "      <td>Giới tính</td>\n",
       "    </tr>\n",
       "    <tr>\n",
       "      <th>Country</th>\n",
       "      <td>Quốc gia sinh sống</td>\n",
       "    </tr>\n",
       "    <tr>\n",
       "      <th>state</th>\n",
       "      <td>Tên tiểu bang sinh sống</td>\n",
       "    </tr>\n",
       "    <tr>\n",
       "      <th>self_employed</th>\n",
       "      <td>Bạn có tự kinh doanh không?</td>\n",
       "    </tr>\n",
       "    <tr>\n",
       "      <th>family_history</th>\n",
       "      <td>Gia đình có tiền sử bệnh tâm thần không?</td>\n",
       "    </tr>\n",
       "    <tr>\n",
       "      <th>treatment</th>\n",
       "      <td>Bạn đã tìm cách điều trị tình trạng sức khỏe tâm thần chưa?</td>\n",
       "    </tr>\n",
       "    <tr>\n",
       "      <th>work_interfere</th>\n",
       "      <td>Nếu bạn có vấn đề về sức khỏe tâm thần, bạn có cảm thấy nó cản trở công việc của mình không?</td>\n",
       "    </tr>\n",
       "    <tr>\n",
       "      <th>no_employees</th>\n",
       "      <td>Công ty hoặc tổ chức của bạn có bao nhiêu nhân viên?</td>\n",
       "    </tr>\n",
       "    <tr>\n",
       "      <th>remote_work</th>\n",
       "      <td>Bạn có làm việc từ xa (bên ngoài văn phòng) ít nhất 50% thời gian không?</td>\n",
       "    </tr>\n",
       "    <tr>\n",
       "      <th>tech_company</th>\n",
       "      <td>Chủ lao động của bạn chủ yếu là một công ty/tổ chức công nghệ phải không?</td>\n",
       "    </tr>\n",
       "    <tr>\n",
       "      <th>benefits</th>\n",
       "      <td>Chủ lao động của bạn có cung cấp các phúc lợi về sức khỏe tâm thần không?</td>\n",
       "    </tr>\n",
       "    <tr>\n",
       "      <th>care_options</th>\n",
       "      <td>Bạn có biết các lựa chọn chăm sóc sức khỏe tâm thần mà chủ lao động của bạn cung cấp không?</td>\n",
       "    </tr>\n",
       "    <tr>\n",
       "      <th>wellness_program</th>\n",
       "      <td>Chủ lao động của bạn đã bao giờ thảo luận về sức khỏe tâm thần như một phần của chương trình chăm sóc sức khỏe cho nhân viên chưa?</td>\n",
       "    </tr>\n",
       "    <tr>\n",
       "      <th>seek_help</th>\n",
       "      <td>Chủ lao động của bạn có cung cấp các nguồn lực để tìm hiểu thêm về các vấn đề sức khỏe tâm thần và cách tìm kiếm sự giúp đỡ không?</td>\n",
       "    </tr>\n",
       "    <tr>\n",
       "      <th>anonymity</th>\n",
       "      <td>Danh tính của bạn có được bảo vệ nếu bạn chọn tận dụng các nguồn lực điều trị sức khỏe tâm thần hoặc lạm dụng thuốc không?</td>\n",
       "    </tr>\n",
       "    <tr>\n",
       "      <th>leave</th>\n",
       "      <td>Bạn có thể xin nghỉ phép vì tình trạng sức khỏe tâm thần dễ dàng không?</td>\n",
       "    </tr>\n",
       "    <tr>\n",
       "      <th>mental_health_consequence</th>\n",
       "      <td>Bạn có nghĩ rằng việc thảo luận về vấn đề sức khỏe tâm thần với chủ lao động của bạn sẽ gây ra hậu quả tiêu cực không?</td>\n",
       "    </tr>\n",
       "    <tr>\n",
       "      <th>phys_health_consequence</th>\n",
       "      <td>Bạn có nghĩ rằng việc thảo luận về vấn đề sức khỏe thể chất với chủ lao động của bạn sẽ gây ra hậu quả tiêu cực không?</td>\n",
       "    </tr>\n",
       "    <tr>\n",
       "      <th>coworkers</th>\n",
       "      <td>Bạn có sẵn lòng thảo luận vấn đề sức khỏe tâm thần với đồng nghiệp của mình không?</td>\n",
       "    </tr>\n",
       "    <tr>\n",
       "      <th>supervisor</th>\n",
       "      <td>Bạn có sẵn lòng thảo luận vấn đề sức khỏe tâm thần với (những) người giám sát trực tiếp của bạn không?</td>\n",
       "    </tr>\n",
       "    <tr>\n",
       "      <th>mental_health_interview</th>\n",
       "      <td>Bạn có nêu vấn đề sức khỏe tâm thần với nhà tuyển dụng tiềm năng trong một cuộc phỏng vấn không?</td>\n",
       "    </tr>\n",
       "    <tr>\n",
       "      <th>phys_health_interview</th>\n",
       "      <td>Bạn có nêu vấn đề sức khỏe thể chất với nhà tuyển dụng tiềm năng trong một cuộc phỏng vấn không?</td>\n",
       "    </tr>\n",
       "    <tr>\n",
       "      <th>mental_vs_physical</th>\n",
       "      <td>Bạn có cảm thấy rằng chủ lao động của bạn coi trọng sức khỏe tinh thần cũng như sức khỏe thể chất không?</td>\n",
       "    </tr>\n",
       "    <tr>\n",
       "      <th>obs_consequence</th>\n",
       "      <td>Bạn đã từng nghe hoặc quan sát thấy những hậu quả tiêu cực đối với đồng nghiệp mắc bệnh tâm thần ở nơi làm việc của bạn chưa?</td>\n",
       "    </tr>\n",
       "    <tr>\n",
       "      <th>comments</th>\n",
       "      <td>Bất kỳ ghi chú hoặc ý kiến ​​bổ sung.</td>\n",
       "    </tr>\n",
       "  </tbody>\n",
       "</table>\n",
       "</div>"
      ],
      "text/plain": [
       "                                                                                                                                                      Meaning\n",
       "Title                                                                                                                                                        \n",
       "Timestamp                                                                                                                              Thời gian nộp khảo sát\n",
       "Age                                                                                                                                                      Tuổi\n",
       "Gender                                                                                                                                              Giới tính\n",
       "Country                                                                                                                                    Quốc gia sinh sống\n",
       "state                                                                                                                                 Tên tiểu bang sinh sống\n",
       "self_employed                                                                                                                     Bạn có tự kinh doanh không?\n",
       "family_history                                                                                                       Gia đình có tiền sử bệnh tâm thần không?\n",
       "treatment                                                                                         Bạn đã tìm cách điều trị tình trạng sức khỏe tâm thần chưa?\n",
       "work_interfere                                                   Nếu bạn có vấn đề về sức khỏe tâm thần, bạn có cảm thấy nó cản trở công việc của mình không?\n",
       "no_employees                                                                                             Công ty hoặc tổ chức của bạn có bao nhiêu nhân viên?\n",
       "remote_work                                                                          Bạn có làm việc từ xa (bên ngoài văn phòng) ít nhất 50% thời gian không?\n",
       "tech_company                                                                        Chủ lao động của bạn chủ yếu là một công ty/tổ chức công nghệ phải không?\n",
       "benefits                                                                            Chủ lao động của bạn có cung cấp các phúc lợi về sức khỏe tâm thần không?\n",
       "care_options                                                      Bạn có biết các lựa chọn chăm sóc sức khỏe tâm thần mà chủ lao động của bạn cung cấp không?\n",
       "wellness_program           Chủ lao động của bạn đã bao giờ thảo luận về sức khỏe tâm thần như một phần của chương trình chăm sóc sức khỏe cho nhân viên chưa?\n",
       "seek_help                  Chủ lao động của bạn có cung cấp các nguồn lực để tìm hiểu thêm về các vấn đề sức khỏe tâm thần và cách tìm kiếm sự giúp đỡ không?\n",
       "anonymity                          Danh tính của bạn có được bảo vệ nếu bạn chọn tận dụng các nguồn lực điều trị sức khỏe tâm thần hoặc lạm dụng thuốc không?\n",
       "leave                                                                                 Bạn có thể xin nghỉ phép vì tình trạng sức khỏe tâm thần dễ dàng không?\n",
       "mental_health_consequence              Bạn có nghĩ rằng việc thảo luận về vấn đề sức khỏe tâm thần với chủ lao động của bạn sẽ gây ra hậu quả tiêu cực không?\n",
       "phys_health_consequence                Bạn có nghĩ rằng việc thảo luận về vấn đề sức khỏe thể chất với chủ lao động của bạn sẽ gây ra hậu quả tiêu cực không?\n",
       "coworkers                                                                  Bạn có sẵn lòng thảo luận vấn đề sức khỏe tâm thần với đồng nghiệp của mình không?\n",
       "supervisor                                             Bạn có sẵn lòng thảo luận vấn đề sức khỏe tâm thần với (những) người giám sát trực tiếp của bạn không?\n",
       "mental_health_interview                                      Bạn có nêu vấn đề sức khỏe tâm thần với nhà tuyển dụng tiềm năng trong một cuộc phỏng vấn không?\n",
       "phys_health_interview                                        Bạn có nêu vấn đề sức khỏe thể chất với nhà tuyển dụng tiềm năng trong một cuộc phỏng vấn không?\n",
       "mental_vs_physical                                   Bạn có cảm thấy rằng chủ lao động của bạn coi trọng sức khỏe tinh thần cũng như sức khỏe thể chất không?\n",
       "obs_consequence                 Bạn đã từng nghe hoặc quan sát thấy những hậu quả tiêu cực đối với đồng nghiệp mắc bệnh tâm thần ở nơi làm việc của bạn chưa?\n",
       "comments                                                                                                                Bất kỳ ghi chú hoặc ý kiến ​​bổ sung."
      ]
     },
     "execution_count": 18,
     "metadata": {},
     "output_type": "execute_result"
    }
   ],
   "source": [
    "pd.set_option('display.max_colwidth', 500)\n",
    "\n",
    "col_meaning_df = pd.read_csv('Data/description.csv', index_col='Title')\n",
    "col_meaning_df "
   ]
  },
  {
   "cell_type": "markdown",
   "id": "c914f145-5309-4650-b32c-015eeb334bd3",
   "metadata": {},
   "source": [
    "### Xem thử các dòng trong data có bị trùng lặp hay không"
   ]
  },
  {
   "cell_type": "code",
   "execution_count": 19,
   "id": "4d26d3a6-5fc8-4369-ae97-5247fab7bc5b",
   "metadata": {},
   "outputs": [
    {
     "data": {
      "text/plain": [
       "False"
      ]
     },
     "execution_count": 19,
     "metadata": {},
     "output_type": "execute_result"
    }
   ],
   "source": [
    "duplicated = raw_df.duplicated().any()\n",
    "duplicated"
   ]
  },
  {
   "cell_type": "markdown",
   "id": "296dd7c2-1735-4594-9c74-e972982f7e26",
   "metadata": {},
   "source": [
    "Vậy dữ liệu không có dòng trùng lặp. Ta tiến hành bước tiếp theo\n",
    "\n",
    "### Loại dữ liệu của mỗi cột là gì? Chúng có phù hợp để xử lí sau này không?\n",
    "\n",
    "Ta xem xét loại dữ liệu của toàn bộ các cột"
   ]
  },
  {
   "cell_type": "code",
   "execution_count": 20,
   "id": "79784214-c71c-4b61-8068-834a72408c3d",
   "metadata": {},
   "outputs": [
    {
     "data": {
      "text/plain": [
       "Timestamp                    object\n",
       "Age                           int64\n",
       "Gender                       object\n",
       "Country                      object\n",
       "state                        object\n",
       "self_employed                object\n",
       "family_history               object\n",
       "treatment                    object\n",
       "work_interfere               object\n",
       "no_employees                 object\n",
       "remote_work                  object\n",
       "tech_company                 object\n",
       "benefits                     object\n",
       "care_options                 object\n",
       "wellness_program             object\n",
       "seek_help                    object\n",
       "anonymity                    object\n",
       "leave                        object\n",
       "mental_health_consequence    object\n",
       "phys_health_consequence      object\n",
       "coworkers                    object\n",
       "supervisor                   object\n",
       "mental_health_interview      object\n",
       "phys_health_interview        object\n",
       "mental_vs_physical           object\n",
       "obs_consequence              object\n",
       "comments                     object\n",
       "dtype: object"
      ]
     },
     "execution_count": 20,
     "metadata": {},
     "output_type": "execute_result"
    }
   ],
   "source": [
    "raw_df.dtypes"
   ]
  },
  {
   "cell_type": "markdown",
   "id": "b042e694-937c-4410-9141-208ae3f6c0d2",
   "metadata": {},
   "source": [
    "Các cột có kiểu dữ liệu phù hợp. Tuy nhiên ở cột `Timestamp` ta sẽ chuyển thành kiểu `datetime`."
   ]
  },
  {
   "cell_type": "code",
   "execution_count": 21,
   "id": "ca9c4625-2704-41c6-92c4-f808f675a65f",
   "metadata": {},
   "outputs": [
    {
     "data": {
      "text/plain": [
       "Timestamp                    datetime64[ns]\n",
       "Age                                   int64\n",
       "Gender                               object\n",
       "Country                              object\n",
       "state                                object\n",
       "self_employed                        object\n",
       "family_history                       object\n",
       "treatment                            object\n",
       "work_interfere                       object\n",
       "no_employees                         object\n",
       "remote_work                          object\n",
       "tech_company                         object\n",
       "benefits                             object\n",
       "care_options                         object\n",
       "wellness_program                     object\n",
       "seek_help                            object\n",
       "anonymity                            object\n",
       "leave                                object\n",
       "mental_health_consequence            object\n",
       "phys_health_consequence              object\n",
       "coworkers                            object\n",
       "supervisor                           object\n",
       "mental_health_interview              object\n",
       "phys_health_interview                object\n",
       "mental_vs_physical                   object\n",
       "obs_consequence                      object\n",
       "comments                             object\n",
       "dtype: object"
      ]
     },
     "execution_count": 21,
     "metadata": {},
     "output_type": "execute_result"
    }
   ],
   "source": [
    "raw_df['Timestamp'] = pd.to_datetime(raw_df['Timestamp'])\n",
    "raw_df.dtypes"
   ]
  },
  {
   "cell_type": "markdown",
   "id": "83012913-d677-4b73-b0fe-b8f431d1c89c",
   "metadata": {},
   "source": [
    "Các cột đã được đưa về đúng kiểu dữ liệu."
   ]
  },
  {
   "cell_type": "markdown",
   "id": "be6e5d64-b83e-4fcc-8820-b107719e5819",
   "metadata": {},
   "source": [
    "## Với mỗi cột có kiểu là dữ liệu số, những giá trị trong cột đó được phân bố như thế nào?\n",
    "Để trả lời câu hỏi này, trước tiên ta sẽ lọc những cột có kiểu dữ liệu số có trong `raw_df`:"
   ]
  },
  {
   "cell_type": "code",
   "execution_count": 22,
   "id": "d196650c-cd16-4b78-a585-a53d3d2dbafa",
   "metadata": {},
   "outputs": [
    {
     "data": {
      "text/html": [
       "<div>\n",
       "<style scoped>\n",
       "    .dataframe tbody tr th:only-of-type {\n",
       "        vertical-align: middle;\n",
       "    }\n",
       "\n",
       "    .dataframe tbody tr th {\n",
       "        vertical-align: top;\n",
       "    }\n",
       "\n",
       "    .dataframe thead th {\n",
       "        text-align: right;\n",
       "    }\n",
       "</style>\n",
       "<table border=\"1\" class=\"dataframe\">\n",
       "  <thead>\n",
       "    <tr style=\"text-align: right;\">\n",
       "      <th></th>\n",
       "      <th>Age</th>\n",
       "    </tr>\n",
       "  </thead>\n",
       "  <tbody>\n",
       "    <tr>\n",
       "      <th>0</th>\n",
       "      <td>37</td>\n",
       "    </tr>\n",
       "    <tr>\n",
       "      <th>1</th>\n",
       "      <td>44</td>\n",
       "    </tr>\n",
       "    <tr>\n",
       "      <th>2</th>\n",
       "      <td>32</td>\n",
       "    </tr>\n",
       "    <tr>\n",
       "      <th>3</th>\n",
       "      <td>31</td>\n",
       "    </tr>\n",
       "    <tr>\n",
       "      <th>4</th>\n",
       "      <td>31</td>\n",
       "    </tr>\n",
       "    <tr>\n",
       "      <th>...</th>\n",
       "      <td>...</td>\n",
       "    </tr>\n",
       "    <tr>\n",
       "      <th>1254</th>\n",
       "      <td>26</td>\n",
       "    </tr>\n",
       "    <tr>\n",
       "      <th>1255</th>\n",
       "      <td>32</td>\n",
       "    </tr>\n",
       "    <tr>\n",
       "      <th>1256</th>\n",
       "      <td>34</td>\n",
       "    </tr>\n",
       "    <tr>\n",
       "      <th>1257</th>\n",
       "      <td>46</td>\n",
       "    </tr>\n",
       "    <tr>\n",
       "      <th>1258</th>\n",
       "      <td>25</td>\n",
       "    </tr>\n",
       "  </tbody>\n",
       "</table>\n",
       "<p>1259 rows × 1 columns</p>\n",
       "</div>"
      ],
      "text/plain": [
       "      Age\n",
       "0      37\n",
       "1      44\n",
       "2      32\n",
       "3      31\n",
       "4      31\n",
       "...   ...\n",
       "1254   26\n",
       "1255   32\n",
       "1256   34\n",
       "1257   46\n",
       "1258   25\n",
       "\n",
       "[1259 rows x 1 columns]"
      ]
     },
     "execution_count": 22,
     "metadata": {},
     "output_type": "execute_result"
    }
   ],
   "source": [
    "numeric_cols = raw_df.select_dtypes(include='number')\n",
    "numeric_cols"
   ]
  },
  {
   "cell_type": "markdown",
   "id": "b0ab8730-b8e5-44cd-8899-b6dd7ec51464",
   "metadata": {},
   "source": [
    "Như ta thấy, chỉ có duy nhất cột `Age` là cột có dữ liệu số.\n",
    "Ta sẽ kiểm tra tổng quan giá trị trong `Age` được phân bố như thế nào:"
   ]
  },
  {
   "cell_type": "code",
   "execution_count": 23,
   "id": "d0e712d7-d426-4d9b-82d0-bc8b568088de",
   "metadata": {},
   "outputs": [
    {
     "data": {
      "text/html": [
       "<div>\n",
       "<style scoped>\n",
       "    .dataframe tbody tr th:only-of-type {\n",
       "        vertical-align: middle;\n",
       "    }\n",
       "\n",
       "    .dataframe tbody tr th {\n",
       "        vertical-align: top;\n",
       "    }\n",
       "\n",
       "    .dataframe thead th {\n",
       "        text-align: right;\n",
       "    }\n",
       "</style>\n",
       "<table border=\"1\" class=\"dataframe\">\n",
       "  <thead>\n",
       "    <tr style=\"text-align: right;\">\n",
       "      <th></th>\n",
       "      <th>Age</th>\n",
       "    </tr>\n",
       "  </thead>\n",
       "  <tbody>\n",
       "    <tr>\n",
       "      <th>count</th>\n",
       "      <td>1259.00</td>\n",
       "    </tr>\n",
       "    <tr>\n",
       "      <th>mean</th>\n",
       "      <td>79428148.31</td>\n",
       "    </tr>\n",
       "    <tr>\n",
       "      <th>std</th>\n",
       "      <td>2818299442.98</td>\n",
       "    </tr>\n",
       "    <tr>\n",
       "      <th>min</th>\n",
       "      <td>-1726.00</td>\n",
       "    </tr>\n",
       "    <tr>\n",
       "      <th>25%</th>\n",
       "      <td>27.00</td>\n",
       "    </tr>\n",
       "    <tr>\n",
       "      <th>50%</th>\n",
       "      <td>31.00</td>\n",
       "    </tr>\n",
       "    <tr>\n",
       "      <th>75%</th>\n",
       "      <td>36.00</td>\n",
       "    </tr>\n",
       "    <tr>\n",
       "      <th>max</th>\n",
       "      <td>99999999999.00</td>\n",
       "    </tr>\n",
       "  </tbody>\n",
       "</table>\n",
       "</div>"
      ],
      "text/plain": [
       "                 Age\n",
       "count        1259.00\n",
       "mean     79428148.31\n",
       "std    2818299442.98\n",
       "min         -1726.00\n",
       "25%            27.00\n",
       "50%            31.00\n",
       "75%            36.00\n",
       "max   99999999999.00"
      ]
     },
     "execution_count": 23,
     "metadata": {},
     "output_type": "execute_result"
    }
   ],
   "source": [
    "# plt.figsize=(15,2)\n",
    "# sns.histplot(numeric_col, x='Age')\n",
    "pd.set_option('display.float_format', lambda x : '%.2f' %x)\n",
    "numeric_cols.describe()"
   ]
  },
  {
   "cell_type": "markdown",
   "id": "8f803b34-9b85-4631-a622-609e67b2c61f",
   "metadata": {},
   "source": [
    "Trong cột `Age` có dữ liệu bất bình thường, nguyên nhân là do: Số tuổi **lớn nhất** `Max` là rất lớn và số tuổi **bé nhất** `Min` là một số âm. Hai giá trị này là rất vô lý khi nó xuất hiện trong thuộc tính độ tuổi."
   ]
  },
  {
   "cell_type": "markdown",
   "id": "dbc1dd73-af80-498d-bd04-d8d990b90553",
   "metadata": {},
   "source": [
    "Tiếp theo ta kiểm tra tỉ lệ missing values chiếm trong cột này là bao nhiêu:"
   ]
  },
  {
   "cell_type": "code",
   "execution_count": 24,
   "id": "99061fbb-14c5-4b6c-9daa-f7f426b1f7df",
   "metadata": {},
   "outputs": [
    {
     "data": {
      "text/plain": [
       "Age   0.00\n",
       "dtype: float64"
      ]
     },
     "execution_count": 24,
     "metadata": {},
     "output_type": "execute_result"
    }
   ],
   "source": [
    "percent_missing = numeric_cols.isnull().sum() * 100 / len(numeric_cols)\n",
    "percent_missing"
   ]
  },
  {
   "cell_type": "markdown",
   "id": "360aaa8c-4163-4e34-b05e-3a4a5820e920",
   "metadata": {},
   "source": [
    "Không có missing values nào tồn tại trong `Age`."
   ]
  },
  {
   "cell_type": "markdown",
   "id": "38019852-ec0c-4e4b-bcc3-685dfcfa0bd0",
   "metadata": {},
   "source": [
    "**Nhận xét:**\n",
    "- Cột dữ liệu số trong bộ dữ liệu này là bất bình thường do xuất hiện những giá trị vô lý trong bảng dữ liệu, khiến dữ liệu bị sai lệch. Chúng được gọi là các giá trị ngoại lai `outliers`.\n",
    "- Độ tuổi làm việc trong môi trường công nghệ thường nằm trong phạm vi **18 đến 75 tuổi**. Do đó trong quá trình tìm hiểu và phân tích dữ liệu để trả lời câu hỏi, nếu sử dụng cột này, ta sẽ cần phải loại bỏ những `outliers` này."
   ]
  },
  {
   "cell_type": "markdown",
   "id": "c470553d",
   "metadata": {},
   "source": [
    "## Với các cột dữ liệu kiểu categorical, ta xem xét sự phân bố"
   ]
  },
  {
   "cell_type": "code",
   "execution_count": 25,
   "id": "73ae0a17",
   "metadata": {},
   "outputs": [
    {
     "data": {
      "text/html": [
       "<div>\n",
       "<style scoped>\n",
       "    .dataframe tbody tr th:only-of-type {\n",
       "        vertical-align: middle;\n",
       "    }\n",
       "\n",
       "    .dataframe tbody tr th {\n",
       "        vertical-align: top;\n",
       "    }\n",
       "\n",
       "    .dataframe thead th {\n",
       "        text-align: right;\n",
       "    }\n",
       "</style>\n",
       "<table border=\"1\" class=\"dataframe\">\n",
       "  <thead>\n",
       "    <tr style=\"text-align: right;\">\n",
       "      <th></th>\n",
       "      <th>Timestamp</th>\n",
       "      <th>Gender</th>\n",
       "      <th>Country</th>\n",
       "      <th>state</th>\n",
       "      <th>self_employed</th>\n",
       "      <th>family_history</th>\n",
       "      <th>treatment</th>\n",
       "      <th>work_interfere</th>\n",
       "      <th>no_employees</th>\n",
       "      <th>remote_work</th>\n",
       "      <th>...</th>\n",
       "      <th>leave</th>\n",
       "      <th>mental_health_consequence</th>\n",
       "      <th>phys_health_consequence</th>\n",
       "      <th>coworkers</th>\n",
       "      <th>supervisor</th>\n",
       "      <th>mental_health_interview</th>\n",
       "      <th>phys_health_interview</th>\n",
       "      <th>mental_vs_physical</th>\n",
       "      <th>obs_consequence</th>\n",
       "      <th>comments</th>\n",
       "    </tr>\n",
       "  </thead>\n",
       "  <tbody>\n",
       "    <tr>\n",
       "      <th>0</th>\n",
       "      <td>2014-08-27 11:29:31</td>\n",
       "      <td>Female</td>\n",
       "      <td>United States</td>\n",
       "      <td>IL</td>\n",
       "      <td>NaN</td>\n",
       "      <td>No</td>\n",
       "      <td>Yes</td>\n",
       "      <td>Often</td>\n",
       "      <td>6-25</td>\n",
       "      <td>No</td>\n",
       "      <td>...</td>\n",
       "      <td>Somewhat easy</td>\n",
       "      <td>No</td>\n",
       "      <td>No</td>\n",
       "      <td>Some of them</td>\n",
       "      <td>Yes</td>\n",
       "      <td>No</td>\n",
       "      <td>Maybe</td>\n",
       "      <td>Yes</td>\n",
       "      <td>No</td>\n",
       "      <td>NaN</td>\n",
       "    </tr>\n",
       "    <tr>\n",
       "      <th>1</th>\n",
       "      <td>2014-08-27 11:29:37</td>\n",
       "      <td>M</td>\n",
       "      <td>United States</td>\n",
       "      <td>IN</td>\n",
       "      <td>NaN</td>\n",
       "      <td>No</td>\n",
       "      <td>No</td>\n",
       "      <td>Rarely</td>\n",
       "      <td>More than 1000</td>\n",
       "      <td>No</td>\n",
       "      <td>...</td>\n",
       "      <td>Don't know</td>\n",
       "      <td>Maybe</td>\n",
       "      <td>No</td>\n",
       "      <td>No</td>\n",
       "      <td>No</td>\n",
       "      <td>No</td>\n",
       "      <td>No</td>\n",
       "      <td>Don't know</td>\n",
       "      <td>No</td>\n",
       "      <td>NaN</td>\n",
       "    </tr>\n",
       "    <tr>\n",
       "      <th>2</th>\n",
       "      <td>2014-08-27 11:29:44</td>\n",
       "      <td>Male</td>\n",
       "      <td>Canada</td>\n",
       "      <td>NaN</td>\n",
       "      <td>NaN</td>\n",
       "      <td>No</td>\n",
       "      <td>No</td>\n",
       "      <td>Rarely</td>\n",
       "      <td>6-25</td>\n",
       "      <td>No</td>\n",
       "      <td>...</td>\n",
       "      <td>Somewhat difficult</td>\n",
       "      <td>No</td>\n",
       "      <td>No</td>\n",
       "      <td>Yes</td>\n",
       "      <td>Yes</td>\n",
       "      <td>Yes</td>\n",
       "      <td>Yes</td>\n",
       "      <td>No</td>\n",
       "      <td>No</td>\n",
       "      <td>NaN</td>\n",
       "    </tr>\n",
       "    <tr>\n",
       "      <th>3</th>\n",
       "      <td>2014-08-27 11:29:46</td>\n",
       "      <td>Male</td>\n",
       "      <td>United Kingdom</td>\n",
       "      <td>NaN</td>\n",
       "      <td>NaN</td>\n",
       "      <td>Yes</td>\n",
       "      <td>Yes</td>\n",
       "      <td>Often</td>\n",
       "      <td>26-100</td>\n",
       "      <td>No</td>\n",
       "      <td>...</td>\n",
       "      <td>Somewhat difficult</td>\n",
       "      <td>Yes</td>\n",
       "      <td>Yes</td>\n",
       "      <td>Some of them</td>\n",
       "      <td>No</td>\n",
       "      <td>Maybe</td>\n",
       "      <td>Maybe</td>\n",
       "      <td>No</td>\n",
       "      <td>Yes</td>\n",
       "      <td>NaN</td>\n",
       "    </tr>\n",
       "    <tr>\n",
       "      <th>4</th>\n",
       "      <td>2014-08-27 11:30:22</td>\n",
       "      <td>Male</td>\n",
       "      <td>United States</td>\n",
       "      <td>TX</td>\n",
       "      <td>NaN</td>\n",
       "      <td>No</td>\n",
       "      <td>No</td>\n",
       "      <td>Never</td>\n",
       "      <td>100-500</td>\n",
       "      <td>Yes</td>\n",
       "      <td>...</td>\n",
       "      <td>Don't know</td>\n",
       "      <td>No</td>\n",
       "      <td>No</td>\n",
       "      <td>Some of them</td>\n",
       "      <td>Yes</td>\n",
       "      <td>Yes</td>\n",
       "      <td>Yes</td>\n",
       "      <td>Don't know</td>\n",
       "      <td>No</td>\n",
       "      <td>NaN</td>\n",
       "    </tr>\n",
       "    <tr>\n",
       "      <th>...</th>\n",
       "      <td>...</td>\n",
       "      <td>...</td>\n",
       "      <td>...</td>\n",
       "      <td>...</td>\n",
       "      <td>...</td>\n",
       "      <td>...</td>\n",
       "      <td>...</td>\n",
       "      <td>...</td>\n",
       "      <td>...</td>\n",
       "      <td>...</td>\n",
       "      <td>...</td>\n",
       "      <td>...</td>\n",
       "      <td>...</td>\n",
       "      <td>...</td>\n",
       "      <td>...</td>\n",
       "      <td>...</td>\n",
       "      <td>...</td>\n",
       "      <td>...</td>\n",
       "      <td>...</td>\n",
       "      <td>...</td>\n",
       "      <td>...</td>\n",
       "    </tr>\n",
       "    <tr>\n",
       "      <th>1254</th>\n",
       "      <td>2015-09-12 11:17:21</td>\n",
       "      <td>male</td>\n",
       "      <td>United Kingdom</td>\n",
       "      <td>NaN</td>\n",
       "      <td>No</td>\n",
       "      <td>No</td>\n",
       "      <td>Yes</td>\n",
       "      <td>NaN</td>\n",
       "      <td>26-100</td>\n",
       "      <td>No</td>\n",
       "      <td>...</td>\n",
       "      <td>Somewhat easy</td>\n",
       "      <td>No</td>\n",
       "      <td>No</td>\n",
       "      <td>Some of them</td>\n",
       "      <td>Some of them</td>\n",
       "      <td>No</td>\n",
       "      <td>No</td>\n",
       "      <td>Don't know</td>\n",
       "      <td>No</td>\n",
       "      <td>NaN</td>\n",
       "    </tr>\n",
       "    <tr>\n",
       "      <th>1255</th>\n",
       "      <td>2015-09-26 01:07:35</td>\n",
       "      <td>Male</td>\n",
       "      <td>United States</td>\n",
       "      <td>IL</td>\n",
       "      <td>No</td>\n",
       "      <td>Yes</td>\n",
       "      <td>Yes</td>\n",
       "      <td>Often</td>\n",
       "      <td>26-100</td>\n",
       "      <td>Yes</td>\n",
       "      <td>...</td>\n",
       "      <td>Somewhat difficult</td>\n",
       "      <td>No</td>\n",
       "      <td>No</td>\n",
       "      <td>Some of them</td>\n",
       "      <td>Yes</td>\n",
       "      <td>No</td>\n",
       "      <td>No</td>\n",
       "      <td>Yes</td>\n",
       "      <td>No</td>\n",
       "      <td>NaN</td>\n",
       "    </tr>\n",
       "    <tr>\n",
       "      <th>1256</th>\n",
       "      <td>2015-11-07 12:36:58</td>\n",
       "      <td>male</td>\n",
       "      <td>United States</td>\n",
       "      <td>CA</td>\n",
       "      <td>No</td>\n",
       "      <td>Yes</td>\n",
       "      <td>Yes</td>\n",
       "      <td>Sometimes</td>\n",
       "      <td>More than 1000</td>\n",
       "      <td>No</td>\n",
       "      <td>...</td>\n",
       "      <td>Somewhat difficult</td>\n",
       "      <td>Yes</td>\n",
       "      <td>Yes</td>\n",
       "      <td>No</td>\n",
       "      <td>No</td>\n",
       "      <td>No</td>\n",
       "      <td>No</td>\n",
       "      <td>No</td>\n",
       "      <td>No</td>\n",
       "      <td>NaN</td>\n",
       "    </tr>\n",
       "    <tr>\n",
       "      <th>1257</th>\n",
       "      <td>2015-11-30 21:25:06</td>\n",
       "      <td>f</td>\n",
       "      <td>United States</td>\n",
       "      <td>NC</td>\n",
       "      <td>No</td>\n",
       "      <td>No</td>\n",
       "      <td>No</td>\n",
       "      <td>NaN</td>\n",
       "      <td>100-500</td>\n",
       "      <td>Yes</td>\n",
       "      <td>...</td>\n",
       "      <td>Don't know</td>\n",
       "      <td>Yes</td>\n",
       "      <td>No</td>\n",
       "      <td>No</td>\n",
       "      <td>No</td>\n",
       "      <td>No</td>\n",
       "      <td>No</td>\n",
       "      <td>No</td>\n",
       "      <td>No</td>\n",
       "      <td>NaN</td>\n",
       "    </tr>\n",
       "    <tr>\n",
       "      <th>1258</th>\n",
       "      <td>2016-02-01 23:04:31</td>\n",
       "      <td>Male</td>\n",
       "      <td>United States</td>\n",
       "      <td>IL</td>\n",
       "      <td>No</td>\n",
       "      <td>Yes</td>\n",
       "      <td>Yes</td>\n",
       "      <td>Sometimes</td>\n",
       "      <td>26-100</td>\n",
       "      <td>No</td>\n",
       "      <td>...</td>\n",
       "      <td>Don't know</td>\n",
       "      <td>Maybe</td>\n",
       "      <td>No</td>\n",
       "      <td>Some of them</td>\n",
       "      <td>No</td>\n",
       "      <td>No</td>\n",
       "      <td>No</td>\n",
       "      <td>Don't know</td>\n",
       "      <td>No</td>\n",
       "      <td>NaN</td>\n",
       "    </tr>\n",
       "  </tbody>\n",
       "</table>\n",
       "<p>1259 rows × 26 columns</p>\n",
       "</div>"
      ],
      "text/plain": [
       "               Timestamp  Gender         Country state self_employed  \\\n",
       "0    2014-08-27 11:29:31  Female   United States    IL           NaN   \n",
       "1    2014-08-27 11:29:37       M   United States    IN           NaN   \n",
       "2    2014-08-27 11:29:44    Male          Canada   NaN           NaN   \n",
       "3    2014-08-27 11:29:46    Male  United Kingdom   NaN           NaN   \n",
       "4    2014-08-27 11:30:22    Male   United States    TX           NaN   \n",
       "...                  ...     ...             ...   ...           ...   \n",
       "1254 2015-09-12 11:17:21    male  United Kingdom   NaN            No   \n",
       "1255 2015-09-26 01:07:35    Male   United States    IL            No   \n",
       "1256 2015-11-07 12:36:58    male   United States    CA            No   \n",
       "1257 2015-11-30 21:25:06       f   United States    NC            No   \n",
       "1258 2016-02-01 23:04:31    Male   United States    IL            No   \n",
       "\n",
       "     family_history treatment work_interfere    no_employees remote_work  ...  \\\n",
       "0                No       Yes          Often            6-25          No  ...   \n",
       "1                No        No         Rarely  More than 1000          No  ...   \n",
       "2                No        No         Rarely            6-25          No  ...   \n",
       "3               Yes       Yes          Often          26-100          No  ...   \n",
       "4                No        No          Never         100-500         Yes  ...   \n",
       "...             ...       ...            ...             ...         ...  ...   \n",
       "1254             No       Yes            NaN          26-100          No  ...   \n",
       "1255            Yes       Yes          Often          26-100         Yes  ...   \n",
       "1256            Yes       Yes      Sometimes  More than 1000          No  ...   \n",
       "1257             No        No            NaN         100-500         Yes  ...   \n",
       "1258            Yes       Yes      Sometimes          26-100          No  ...   \n",
       "\n",
       "                   leave mental_health_consequence phys_health_consequence  \\\n",
       "0          Somewhat easy                        No                      No   \n",
       "1             Don't know                     Maybe                      No   \n",
       "2     Somewhat difficult                        No                      No   \n",
       "3     Somewhat difficult                       Yes                     Yes   \n",
       "4             Don't know                        No                      No   \n",
       "...                  ...                       ...                     ...   \n",
       "1254       Somewhat easy                        No                      No   \n",
       "1255  Somewhat difficult                        No                      No   \n",
       "1256  Somewhat difficult                       Yes                     Yes   \n",
       "1257          Don't know                       Yes                      No   \n",
       "1258          Don't know                     Maybe                      No   \n",
       "\n",
       "         coworkers    supervisor mental_health_interview  \\\n",
       "0     Some of them           Yes                      No   \n",
       "1               No            No                      No   \n",
       "2              Yes           Yes                     Yes   \n",
       "3     Some of them            No                   Maybe   \n",
       "4     Some of them           Yes                     Yes   \n",
       "...            ...           ...                     ...   \n",
       "1254  Some of them  Some of them                      No   \n",
       "1255  Some of them           Yes                      No   \n",
       "1256            No            No                      No   \n",
       "1257            No            No                      No   \n",
       "1258  Some of them            No                      No   \n",
       "\n",
       "     phys_health_interview mental_vs_physical obs_consequence comments  \n",
       "0                    Maybe                Yes              No      NaN  \n",
       "1                       No         Don't know              No      NaN  \n",
       "2                      Yes                 No              No      NaN  \n",
       "3                    Maybe                 No             Yes      NaN  \n",
       "4                      Yes         Don't know              No      NaN  \n",
       "...                    ...                ...             ...      ...  \n",
       "1254                    No         Don't know              No      NaN  \n",
       "1255                    No                Yes              No      NaN  \n",
       "1256                    No                 No              No      NaN  \n",
       "1257                    No                 No              No      NaN  \n",
       "1258                    No         Don't know              No      NaN  \n",
       "\n",
       "[1259 rows x 26 columns]"
      ]
     },
     "execution_count": 25,
     "metadata": {},
     "output_type": "execute_result"
    }
   ],
   "source": [
    "cate_cols_df =  raw_df.select_dtypes(exclude = 'number')\n",
    "cate_cols_df"
   ]
  },
  {
   "cell_type": "markdown",
   "id": "6bd25250",
   "metadata": {},
   "source": [
    "### Kiểm tra tỉ lệ giá trị bị thiếu, số các giá trị khác biệt, sự phân bố dữ liệu ở các cột kiểu categorical\n",
    "Nhận xét: Ta nhận thấy ở cột **Gender** có một số giá trị ngoại lai (bất thường như *mail, m, msle, csi-male, non-binary, All ...*). Đối với các cột còn lại ngoại trừ cột **comments** các giá trị trông có vẻ không có gì đáng ngại"
   ]
  },
  {
   "cell_type": "code",
   "execution_count": 26,
   "id": "918e9898",
   "metadata": {},
   "outputs": [
    {
     "data": {
      "text/html": [
       "<div>\n",
       "<style scoped>\n",
       "    .dataframe tbody tr th:only-of-type {\n",
       "        vertical-align: middle;\n",
       "    }\n",
       "\n",
       "    .dataframe tbody tr th {\n",
       "        vertical-align: top;\n",
       "    }\n",
       "\n",
       "    .dataframe thead th {\n",
       "        text-align: right;\n",
       "    }\n",
       "</style>\n",
       "<table border=\"1\" class=\"dataframe\">\n",
       "  <thead>\n",
       "    <tr style=\"text-align: right;\">\n",
       "      <th></th>\n",
       "      <th>Timestamp</th>\n",
       "      <th>Gender</th>\n",
       "      <th>Country</th>\n",
       "      <th>state</th>\n",
       "      <th>self_employed</th>\n",
       "      <th>family_history</th>\n",
       "      <th>treatment</th>\n",
       "      <th>work_interfere</th>\n",
       "      <th>no_employees</th>\n",
       "      <th>remote_work</th>\n",
       "      <th>...</th>\n",
       "      <th>leave</th>\n",
       "      <th>mental_health_consequence</th>\n",
       "      <th>phys_health_consequence</th>\n",
       "      <th>coworkers</th>\n",
       "      <th>supervisor</th>\n",
       "      <th>mental_health_interview</th>\n",
       "      <th>phys_health_interview</th>\n",
       "      <th>mental_vs_physical</th>\n",
       "      <th>obs_consequence</th>\n",
       "      <th>comments</th>\n",
       "    </tr>\n",
       "  </thead>\n",
       "  <tbody>\n",
       "    <tr>\n",
       "      <th>num_diff_vals</th>\n",
       "      <td>1246</td>\n",
       "      <td>49</td>\n",
       "      <td>48</td>\n",
       "      <td>45</td>\n",
       "      <td>2</td>\n",
       "      <td>2</td>\n",
       "      <td>2</td>\n",
       "      <td>4</td>\n",
       "      <td>6</td>\n",
       "      <td>2</td>\n",
       "      <td>...</td>\n",
       "      <td>5</td>\n",
       "      <td>3</td>\n",
       "      <td>3</td>\n",
       "      <td>3</td>\n",
       "      <td>3</td>\n",
       "      <td>3</td>\n",
       "      <td>3</td>\n",
       "      <td>3</td>\n",
       "      <td>2</td>\n",
       "      <td>160</td>\n",
       "    </tr>\n",
       "    <tr>\n",
       "      <th>distribution</th>\n",
       "      <td>{2014-08-27 12:44:51: 2, 2014-08-27 14:22:43: 2, 2014-08-27 12:31:41: 2, 2014-08-28 16:52:34: 2, 2014-08-27 17:33:52: 2, 2014-08-27 12:54:11: 2, 2014-08-27 15:55:07: 2, 2014-08-27 12:37:50: 2, 2014-08-27 15:23:51: 2, 2014-08-28 09:59:39: 2, 2014-08-27 15:24:47: 2, 2014-08-28 16:58:33: 2, 2014-08-27 12:43:28: 2, 2014-08-28 17:02:29: 1, 2014-08-28 16:56:57: 1, 2014-08-28 17:10:00: 1, 2014-08-28 16:17:09: 1, 2014-08-28 16:31:00: 1, 2014-08-28 16:42:49: 1, 2014-08-28 16:52:23: 1, 2014-08-28 17:0...</td>\n",
       "      <td>{'Male': 615, 'male': 206, 'Female': 121, 'M': 116, 'female': 62, 'F': 38, 'm': 34, 'f': 15, 'Make': 4, 'Male ': 3, 'Woman': 3, 'Cis Male': 2, 'Man': 2, 'Female (trans)': 2, 'Female ': 2, 'Trans woman': 1, 'msle': 1, 'male leaning androgynous': 1, 'Neuter': 1, 'cis male': 1, 'queer': 1, 'Female (cis)': 1, 'Mail': 1, 'cis-female/femme': 1, 'A little about you': 1, 'Malr': 1, 'p': 1, 'femail': 1, 'Cis Man': 1, 'Guy (-ish) ^_^': 1, 'Enby': 1, 'Agender': 1, 'Androgyne': 1, 'Male-ish': 1, 'maile'...</td>\n",
       "      <td>{'United States': 751, 'United Kingdom': 185, 'Canada': 72, 'Germany': 45, 'Ireland': 27, 'Netherlands': 27, 'Australia': 21, 'France': 13, 'India': 10, 'New Zealand': 8, 'Poland': 7, 'Switzerland': 7, 'Sweden': 7, 'Italy': 7, 'South Africa': 6, 'Belgium': 6, 'Brazil': 6, 'Israel': 5, 'Singapore': 4, 'Bulgaria': 4, 'Austria': 3, 'Finland': 3, 'Mexico': 3, 'Russia': 3, 'Denmark': 2, 'Greece': 2, 'Colombia': 2, 'Croatia': 2, 'Portugal': 2, 'Moldova': 1, 'Georgia': 1, 'Bahamas, The': 1, 'China'...</td>\n",
       "      <td>{'CA': 138, 'WA': 70, 'NY': 57, 'TN': 45, 'TX': 44, 'OH': 30, 'IL': 29, 'OR': 29, 'PA': 29, 'IN': 27, 'MI': 22, 'MN': 21, 'MA': 20, 'FL': 15, 'NC': 14, 'VA': 14, 'WI': 12, 'GA': 12, 'MO': 12, 'UT': 11, 'CO': 9, 'MD': 8, 'AL': 8, 'AZ': 7, 'OK': 6, 'NJ': 6, 'KY': 5, 'SC': 5, 'IA': 4, 'CT': 4, 'DC': 4, 'NV': 3, 'VT': 3, 'SD': 3, 'KS': 3, 'NH': 3, 'WY': 2, 'NM': 2, 'NE': 2, 'WV': 1, 'ID': 1, 'MS': 1, 'RI': 1, 'LA': 1, 'ME': 1}</td>\n",
       "      <td>{'No': 1095, 'Yes': 146}</td>\n",
       "      <td>{'No': 767, 'Yes': 492}</td>\n",
       "      <td>{'Yes': 637, 'No': 622}</td>\n",
       "      <td>{'Sometimes': 465, 'Never': 213, 'Rarely': 173, 'Often': 144}</td>\n",
       "      <td>{'6-25': 290, '26-100': 289, 'More than 1000': 282, '100-500': 176, '1-5': 162, '500-1000': 60}</td>\n",
       "      <td>{'No': 883, 'Yes': 376}</td>\n",
       "      <td>...</td>\n",
       "      <td>{'Don't know': 563, 'Somewhat easy': 266, 'Very easy': 206, 'Somewhat difficult': 126, 'Very difficult': 98}</td>\n",
       "      <td>{'No': 490, 'Maybe': 477, 'Yes': 292}</td>\n",
       "      <td>{'No': 925, 'Maybe': 273, 'Yes': 61}</td>\n",
       "      <td>{'Some of them': 774, 'No': 260, 'Yes': 225}</td>\n",
       "      <td>{'Yes': 516, 'No': 393, 'Some of them': 350}</td>\n",
       "      <td>{'No': 1008, 'Maybe': 207, 'Yes': 44}</td>\n",
       "      <td>{'Maybe': 557, 'No': 500, 'Yes': 202}</td>\n",
       "      <td>{'Don't know': 576, 'Yes': 343, 'No': 340}</td>\n",
       "      <td>{'No': 1075, 'Yes': 184}</td>\n",
       "      <td>{'* Small family business - YMMV.': 5, 'I'm not on my company's health insurance which could be part of the reason I answered Don't know to so many questions.': 1, '(yes but the situation was unusual and involved a change in leadership at a very high level in the organization as well as an extended leave of absence)': 1, 'None of us who are already in marginal groups in tech--the non-young the non-male the non-white--will risk our careers to admit another source of stigma: poor health.': 1, ...</td>\n",
       "    </tr>\n",
       "    <tr>\n",
       "      <th>missing_ratio</th>\n",
       "      <td>0.00</td>\n",
       "      <td>0.00</td>\n",
       "      <td>0.00</td>\n",
       "      <td>40.91</td>\n",
       "      <td>1.43</td>\n",
       "      <td>0.00</td>\n",
       "      <td>0.00</td>\n",
       "      <td>20.97</td>\n",
       "      <td>0.00</td>\n",
       "      <td>0.00</td>\n",
       "      <td>...</td>\n",
       "      <td>0.00</td>\n",
       "      <td>0.00</td>\n",
       "      <td>0.00</td>\n",
       "      <td>0.00</td>\n",
       "      <td>0.00</td>\n",
       "      <td>0.00</td>\n",
       "      <td>0.00</td>\n",
       "      <td>0.00</td>\n",
       "      <td>0.00</td>\n",
       "      <td>86.97</td>\n",
       "    </tr>\n",
       "  </tbody>\n",
       "</table>\n",
       "<p>3 rows × 26 columns</p>\n",
       "</div>"
      ],
      "text/plain": [
       "                                                                                                                                                                                                                                                                                                                                                                                                                                                                                                                         Timestamp  \\\n",
       "num_diff_vals                                                                                                                                                                                                                                                                                                                                                                                                                                                                                                                 1246   \n",
       "distribution   {2014-08-27 12:44:51: 2, 2014-08-27 14:22:43: 2, 2014-08-27 12:31:41: 2, 2014-08-28 16:52:34: 2, 2014-08-27 17:33:52: 2, 2014-08-27 12:54:11: 2, 2014-08-27 15:55:07: 2, 2014-08-27 12:37:50: 2, 2014-08-27 15:23:51: 2, 2014-08-28 09:59:39: 2, 2014-08-27 15:24:47: 2, 2014-08-28 16:58:33: 2, 2014-08-27 12:43:28: 2, 2014-08-28 17:02:29: 1, 2014-08-28 16:56:57: 1, 2014-08-28 17:10:00: 1, 2014-08-28 16:17:09: 1, 2014-08-28 16:31:00: 1, 2014-08-28 16:42:49: 1, 2014-08-28 16:52:23: 1, 2014-08-28 17:0...   \n",
       "missing_ratio                                                                                                                                                                                                                                                                                                                                                                                                                                                                                                                 0.00   \n",
       "\n",
       "                                                                                                                                                                                                                                                                                                                                                                                                                                                                                                                            Gender  \\\n",
       "num_diff_vals                                                                                                                                                                                                                                                                                                                                                                                                                                                                                                                   49   \n",
       "distribution   {'Male': 615, 'male': 206, 'Female': 121, 'M': 116, 'female': 62, 'F': 38, 'm': 34, 'f': 15, 'Make': 4, 'Male ': 3, 'Woman': 3, 'Cis Male': 2, 'Man': 2, 'Female (trans)': 2, 'Female ': 2, 'Trans woman': 1, 'msle': 1, 'male leaning androgynous': 1, 'Neuter': 1, 'cis male': 1, 'queer': 1, 'Female (cis)': 1, 'Mail': 1, 'cis-female/femme': 1, 'A little about you': 1, 'Malr': 1, 'p': 1, 'femail': 1, 'Cis Man': 1, 'Guy (-ish) ^_^': 1, 'Enby': 1, 'Agender': 1, 'Androgyne': 1, 'Male-ish': 1, 'maile'...   \n",
       "missing_ratio                                                                                                                                                                                                                                                                                                                                                                                                                                                                                                                 0.00   \n",
       "\n",
       "                                                                                                                                                                                                                                                                                                                                                                                                                                                                                                                           Country  \\\n",
       "num_diff_vals                                                                                                                                                                                                                                                                                                                                                                                                                                                                                                                   48   \n",
       "distribution   {'United States': 751, 'United Kingdom': 185, 'Canada': 72, 'Germany': 45, 'Ireland': 27, 'Netherlands': 27, 'Australia': 21, 'France': 13, 'India': 10, 'New Zealand': 8, 'Poland': 7, 'Switzerland': 7, 'Sweden': 7, 'Italy': 7, 'South Africa': 6, 'Belgium': 6, 'Brazil': 6, 'Israel': 5, 'Singapore': 4, 'Bulgaria': 4, 'Austria': 3, 'Finland': 3, 'Mexico': 3, 'Russia': 3, 'Denmark': 2, 'Greece': 2, 'Colombia': 2, 'Croatia': 2, 'Portugal': 2, 'Moldova': 1, 'Georgia': 1, 'Bahamas, The': 1, 'China'...   \n",
       "missing_ratio                                                                                                                                                                                                                                                                                                                                                                                                                                                                                                                 0.00   \n",
       "\n",
       "                                                                                                                                                                                                                                                                                                                                                                                                                                                    state  \\\n",
       "num_diff_vals                                                                                                                                                                                                                                                                                                                                                                                                                                          45   \n",
       "distribution   {'CA': 138, 'WA': 70, 'NY': 57, 'TN': 45, 'TX': 44, 'OH': 30, 'IL': 29, 'OR': 29, 'PA': 29, 'IN': 27, 'MI': 22, 'MN': 21, 'MA': 20, 'FL': 15, 'NC': 14, 'VA': 14, 'WI': 12, 'GA': 12, 'MO': 12, 'UT': 11, 'CO': 9, 'MD': 8, 'AL': 8, 'AZ': 7, 'OK': 6, 'NJ': 6, 'KY': 5, 'SC': 5, 'IA': 4, 'CT': 4, 'DC': 4, 'NV': 3, 'VT': 3, 'SD': 3, 'KS': 3, 'NH': 3, 'WY': 2, 'NM': 2, 'NE': 2, 'WV': 1, 'ID': 1, 'MS': 1, 'RI': 1, 'LA': 1, 'ME': 1}   \n",
       "missing_ratio                                                                                                                                                                                                                                                                                                                                                                                                                                       40.91   \n",
       "\n",
       "                          self_employed           family_history  \\\n",
       "num_diff_vals                         2                        2   \n",
       "distribution   {'No': 1095, 'Yes': 146}  {'No': 767, 'Yes': 492}   \n",
       "missing_ratio                      1.43                     0.00   \n",
       "\n",
       "                             treatment  \\\n",
       "num_diff_vals                        2   \n",
       "distribution   {'Yes': 637, 'No': 622}   \n",
       "missing_ratio                     0.00   \n",
       "\n",
       "                                                              work_interfere  \\\n",
       "num_diff_vals                                                              4   \n",
       "distribution   {'Sometimes': 465, 'Never': 213, 'Rarely': 173, 'Often': 144}   \n",
       "missing_ratio                                                          20.97   \n",
       "\n",
       "                                                                                                  no_employees  \\\n",
       "num_diff_vals                                                                                                6   \n",
       "distribution   {'6-25': 290, '26-100': 289, 'More than 1000': 282, '100-500': 176, '1-5': 162, '500-1000': 60}   \n",
       "missing_ratio                                                                                             0.00   \n",
       "\n",
       "                           remote_work  ...  \\\n",
       "num_diff_vals                        2  ...   \n",
       "distribution   {'No': 883, 'Yes': 376}  ...   \n",
       "missing_ratio                     0.00  ...   \n",
       "\n",
       "                                                                                                                      leave  \\\n",
       "num_diff_vals                                                                                                             5   \n",
       "distribution   {'Don't know': 563, 'Somewhat easy': 266, 'Very easy': 206, 'Somewhat difficult': 126, 'Very difficult': 98}   \n",
       "missing_ratio                                                                                                          0.00   \n",
       "\n",
       "                           mental_health_consequence  \\\n",
       "num_diff_vals                                      3   \n",
       "distribution   {'No': 490, 'Maybe': 477, 'Yes': 292}   \n",
       "missing_ratio                                   0.00   \n",
       "\n",
       "                            phys_health_consequence  \\\n",
       "num_diff_vals                                     3   \n",
       "distribution   {'No': 925, 'Maybe': 273, 'Yes': 61}   \n",
       "missing_ratio                                  0.00   \n",
       "\n",
       "                                                  coworkers  \\\n",
       "num_diff_vals                                             3   \n",
       "distribution   {'Some of them': 774, 'No': 260, 'Yes': 225}   \n",
       "missing_ratio                                          0.00   \n",
       "\n",
       "                                                 supervisor  \\\n",
       "num_diff_vals                                             3   \n",
       "distribution   {'Yes': 516, 'No': 393, 'Some of them': 350}   \n",
       "missing_ratio                                          0.00   \n",
       "\n",
       "                             mental_health_interview  \\\n",
       "num_diff_vals                                      3   \n",
       "distribution   {'No': 1008, 'Maybe': 207, 'Yes': 44}   \n",
       "missing_ratio                                   0.00   \n",
       "\n",
       "                               phys_health_interview  \\\n",
       "num_diff_vals                                      3   \n",
       "distribution   {'Maybe': 557, 'No': 500, 'Yes': 202}   \n",
       "missing_ratio                                   0.00   \n",
       "\n",
       "                                       mental_vs_physical  \\\n",
       "num_diff_vals                                           3   \n",
       "distribution   {'Don't know': 576, 'Yes': 343, 'No': 340}   \n",
       "missing_ratio                                        0.00   \n",
       "\n",
       "                        obs_consequence  \\\n",
       "num_diff_vals                         2   \n",
       "distribution   {'No': 1075, 'Yes': 184}   \n",
       "missing_ratio                      0.00   \n",
       "\n",
       "                                                                                                                                                                                                                                                                                                                                                                                                                                                                                                                          comments  \n",
       "num_diff_vals                                                                                                                                                                                                                                                                                                                                                                                                                                                                                                                  160  \n",
       "distribution   {'* Small family business - YMMV.': 5, 'I'm not on my company's health insurance which could be part of the reason I answered Don't know to so many questions.': 1, '(yes but the situation was unusual and involved a change in leadership at a very high level in the organization as well as an extended leave of absence)': 1, 'None of us who are already in marginal groups in tech--the non-young the non-male the non-white--will risk our careers to admit another source of stigma: poor health.': 1, ...  \n",
       "missing_ratio                                                                                                                                                                                                                                                                                                                                                                                                                                                                                                                86.97  \n",
       "\n",
       "[3 rows x 26 columns]"
      ]
     },
     "execution_count": 26,
     "metadata": {},
     "output_type": "execute_result"
    }
   ],
   "source": [
    "def missing_ratios(col):\n",
    "    return col.isnull().sum() * 100 / len(col)\n",
    "\n",
    "\n",
    "cate_cols = cate_cols_df.agg(['nunique', lambda x: x.value_counts().to_dict(), missing_ratios])\n",
    "cate_cols.index = ['num_diff_vals', 'distribution', 'missing_ratio']\n",
    "cate_cols"
   ]
  },
  {
   "cell_type": "code",
   "execution_count": 27,
   "id": "4411e423",
   "metadata": {},
   "outputs": [
    {
     "data": {
      "text/html": [
       "<div>\n",
       "<style scoped>\n",
       "    .dataframe tbody tr th:only-of-type {\n",
       "        vertical-align: middle;\n",
       "    }\n",
       "\n",
       "    .dataframe tbody tr th {\n",
       "        vertical-align: top;\n",
       "    }\n",
       "\n",
       "    .dataframe thead th {\n",
       "        text-align: right;\n",
       "    }\n",
       "</style>\n",
       "<table border=\"1\" class=\"dataframe\">\n",
       "  <thead>\n",
       "    <tr style=\"text-align: right;\">\n",
       "      <th></th>\n",
       "      <th>Gender</th>\n",
       "      <th>Country</th>\n",
       "      <th>state</th>\n",
       "      <th>self_employed</th>\n",
       "      <th>family_history</th>\n",
       "      <th>treatment</th>\n",
       "      <th>work_interfere</th>\n",
       "      <th>no_employees</th>\n",
       "      <th>remote_work</th>\n",
       "      <th>tech_company</th>\n",
       "      <th>benefits</th>\n",
       "      <th>care_options</th>\n",
       "      <th>wellness_program</th>\n",
       "      <th>seek_help</th>\n",
       "      <th>anonymity</th>\n",
       "      <th>leave</th>\n",
       "      <th>mental_health_consequence</th>\n",
       "      <th>phys_health_consequence</th>\n",
       "      <th>coworkers</th>\n",
       "      <th>supervisor</th>\n",
       "      <th>mental_health_interview</th>\n",
       "      <th>phys_health_interview</th>\n",
       "      <th>mental_vs_physical</th>\n",
       "      <th>obs_consequence</th>\n",
       "      <th>comments</th>\n",
       "    </tr>\n",
       "  </thead>\n",
       "  <tbody>\n",
       "    <tr>\n",
       "      <th>count</th>\n",
       "      <td>1259</td>\n",
       "      <td>1259</td>\n",
       "      <td>744</td>\n",
       "      <td>1241</td>\n",
       "      <td>1259</td>\n",
       "      <td>1259</td>\n",
       "      <td>995</td>\n",
       "      <td>1259</td>\n",
       "      <td>1259</td>\n",
       "      <td>1259</td>\n",
       "      <td>1259</td>\n",
       "      <td>1259</td>\n",
       "      <td>1259</td>\n",
       "      <td>1259</td>\n",
       "      <td>1259</td>\n",
       "      <td>1259</td>\n",
       "      <td>1259</td>\n",
       "      <td>1259</td>\n",
       "      <td>1259</td>\n",
       "      <td>1259</td>\n",
       "      <td>1259</td>\n",
       "      <td>1259</td>\n",
       "      <td>1259</td>\n",
       "      <td>1259</td>\n",
       "      <td>164</td>\n",
       "    </tr>\n",
       "    <tr>\n",
       "      <th>unique</th>\n",
       "      <td>49</td>\n",
       "      <td>48</td>\n",
       "      <td>45</td>\n",
       "      <td>2</td>\n",
       "      <td>2</td>\n",
       "      <td>2</td>\n",
       "      <td>4</td>\n",
       "      <td>6</td>\n",
       "      <td>2</td>\n",
       "      <td>2</td>\n",
       "      <td>3</td>\n",
       "      <td>3</td>\n",
       "      <td>3</td>\n",
       "      <td>3</td>\n",
       "      <td>3</td>\n",
       "      <td>5</td>\n",
       "      <td>3</td>\n",
       "      <td>3</td>\n",
       "      <td>3</td>\n",
       "      <td>3</td>\n",
       "      <td>3</td>\n",
       "      <td>3</td>\n",
       "      <td>3</td>\n",
       "      <td>2</td>\n",
       "      <td>160</td>\n",
       "    </tr>\n",
       "    <tr>\n",
       "      <th>top</th>\n",
       "      <td>Male</td>\n",
       "      <td>United States</td>\n",
       "      <td>CA</td>\n",
       "      <td>No</td>\n",
       "      <td>No</td>\n",
       "      <td>Yes</td>\n",
       "      <td>Sometimes</td>\n",
       "      <td>6-25</td>\n",
       "      <td>No</td>\n",
       "      <td>Yes</td>\n",
       "      <td>Yes</td>\n",
       "      <td>No</td>\n",
       "      <td>No</td>\n",
       "      <td>No</td>\n",
       "      <td>Don't know</td>\n",
       "      <td>Don't know</td>\n",
       "      <td>No</td>\n",
       "      <td>No</td>\n",
       "      <td>Some of them</td>\n",
       "      <td>Yes</td>\n",
       "      <td>No</td>\n",
       "      <td>Maybe</td>\n",
       "      <td>Don't know</td>\n",
       "      <td>No</td>\n",
       "      <td>* Small family business - YMMV.</td>\n",
       "    </tr>\n",
       "    <tr>\n",
       "      <th>freq</th>\n",
       "      <td>615</td>\n",
       "      <td>751</td>\n",
       "      <td>138</td>\n",
       "      <td>1095</td>\n",
       "      <td>767</td>\n",
       "      <td>637</td>\n",
       "      <td>465</td>\n",
       "      <td>290</td>\n",
       "      <td>883</td>\n",
       "      <td>1031</td>\n",
       "      <td>477</td>\n",
       "      <td>501</td>\n",
       "      <td>842</td>\n",
       "      <td>646</td>\n",
       "      <td>819</td>\n",
       "      <td>563</td>\n",
       "      <td>490</td>\n",
       "      <td>925</td>\n",
       "      <td>774</td>\n",
       "      <td>516</td>\n",
       "      <td>1008</td>\n",
       "      <td>557</td>\n",
       "      <td>576</td>\n",
       "      <td>1075</td>\n",
       "      <td>5</td>\n",
       "    </tr>\n",
       "  </tbody>\n",
       "</table>\n",
       "</div>"
      ],
      "text/plain": [
       "       Gender        Country state self_employed family_history treatment  \\\n",
       "count    1259           1259   744          1241           1259      1259   \n",
       "unique     49             48    45             2              2         2   \n",
       "top      Male  United States    CA            No             No       Yes   \n",
       "freq      615            751   138          1095            767       637   \n",
       "\n",
       "       work_interfere no_employees remote_work tech_company benefits  \\\n",
       "count             995         1259        1259         1259     1259   \n",
       "unique              4            6           2            2        3   \n",
       "top         Sometimes         6-25          No          Yes      Yes   \n",
       "freq              465          290         883         1031      477   \n",
       "\n",
       "       care_options wellness_program seek_help   anonymity       leave  \\\n",
       "count          1259             1259      1259        1259        1259   \n",
       "unique            3                3         3           3           5   \n",
       "top              No               No        No  Don't know  Don't know   \n",
       "freq            501              842       646         819         563   \n",
       "\n",
       "       mental_health_consequence phys_health_consequence     coworkers  \\\n",
       "count                       1259                    1259          1259   \n",
       "unique                         3                       3             3   \n",
       "top                           No                      No  Some of them   \n",
       "freq                         490                     925           774   \n",
       "\n",
       "       supervisor mental_health_interview phys_health_interview  \\\n",
       "count        1259                    1259                  1259   \n",
       "unique          3                       3                     3   \n",
       "top           Yes                      No                 Maybe   \n",
       "freq          516                    1008                   557   \n",
       "\n",
       "       mental_vs_physical obs_consequence                         comments  \n",
       "count                1259            1259                              164  \n",
       "unique                  3               2                              160  \n",
       "top            Don't know              No  * Small family business - YMMV.  \n",
       "freq                  576            1075                                5  "
      ]
     },
     "execution_count": 27,
     "metadata": {},
     "output_type": "execute_result"
    }
   ],
   "source": [
    "pd.set_option('display.max_columns', None)\n",
    "pd.set_option('display.max_colwidth', None)\n",
    "raw_df.describe(include = 'object')"
   ]
  },
  {
   "cell_type": "markdown",
   "id": "e2be39d7-6405-40ef-8af9-a14aeaea4f9c",
   "metadata": {},
   "source": [
    "<div style=\"text-align: center; background-color: #b1d1ff; font-family: 'Trebuchet MS', Arial, sans-serif; color: white; padding: 20px; font-size: 40px; font-weight: bold; border-radius: 0 0 0 0; box-shadow: 0px 6px 8px rgba(0, 0, 0, 0.2);\">\n",
    "   Frame The Problems\n",
    "</div>"
   ]
  },
  {
   "cell_type": "markdown",
   "id": "d2e13382-3447-4104-a92a-e417a3450864",
   "metadata": {},
   "source": [
    "## Một số vấn đề được đặt ra trong dữ liệu"
   ]
  },
  {
   "cell_type": "markdown",
   "id": "15b35b71-735b-4fca-a937-de6f63f97030",
   "metadata": {},
   "source": [
    "**Câu 1:** Các công ty công nghệ có đang quan tâm vào sức khỏe tâm thần của nhân viên trong công ty hay không?\n",
    "- Mục tiêu: Giúp nhận biết được tình trạng chung về những phúc lợi và chính sách về bảo vệ sức khỏe tâm thần của nhân viên trong các công ty về công nghệ.\n",
    "- Hướng phân tích:\n",
    "  - Ta lọc những người khảo sát đang làm việc trong các công ty công nghệ.\n",
    "  - Lựa chọn những cột giúp cung cấp một số thông tin về chế độ bảo vệ sức khỏe tâm thần: `leave`, `benefits`, `mental_health_consequence`, `wellness_program`, `seek_help`.\n",
    "\n",
    "**Câu 2:** Các vấn đề về tâm thần gây ảnh hưởng đến công việc của những người làm việc từ xa khác như thế nào so với những người làm việc trong văn phòng (theo mỗi giới tính)?\n",
    "- Mục tiêu: Giúp tìm hiểu sự khác biệt về môi trường làm việc của mỗi giới tính có tác động như thế nào đối với sức khỏe tâm thần và mức độ bị cản trở công việc của những người làm việc về lĩnh vực công nghệ.\n",
    "- Hướng phân tích:\n",
    "  - Lựa chọn những cột phù hợp cho câu hỏi: `work_interfere`, `Gender`, `remote_work`.\n",
    "  - Xử lí những giá trị bị thiếu có trong `work_interfere`.\n",
    "  - Xử lí những giá trị lạ có trong `Gender`.\n",
    "\n",
    "**Câu 3**: Tình trạng sức khỏe tâm thần của nhân viên (từng giới) công ty công nghệ hiện nay như thế nào và họ quan tâm thế nào đến sức khỏe tâm thần của bản thân ?\n",
    "\n",
    "- Mục tiêu: Nhận biết tình trạng chung sức khỏe tâm thần chung của nhân viên công ty công nghệ, nhân viên với trạng thái tinh thần ổn định, khỏe mạnh thì mới có thể làm việc năng suất và hiệu quả nhất được. Và tính nhận thức về sức khỏe của bản thân mỗi nhân viên, bản thân còn không chăm sóc được thì làm sao có thể lo nghĩ cho công ty và phát triển về lâu dài\n",
    "\n",
    "- Các cột sử dụng: `Gender`, `family_history`, `treatment`, `mental_health_interview`, `care_options`, `tech_company`\n",
    "\n",
    "- Hướng thực hiện:\n",
    "  - Lọc lấy cái dòng dữ liệu của công ty công nghệ. \n",
    "  - Xử lý cột `Gender` trước khi sử dụng. \n",
    "  - Với 3 cột `Gender`, `family_history`, `treatment` xem xét sức khỏe tâm thần của nhân viên theo giới.\n",
    "  - Với các cột còn lại sẽ trả lời cho việc nhân viên quan tâm thế nào đến bản thân."
   ]
  },
  {
   "cell_type": "markdown",
   "id": "5898791e",
   "metadata": {},
   "source": [
    "***Trong các câu hỏi được đặt ra ở trên, có một số câu hỏi sẽ sử dụng chung một số cột, do đó để tiện lợi cho việc trả lời câu hỏi, ta sẽ thực hiện tiền xử lí các cột này trước.***"
   ]
  },
  {
   "cell_type": "markdown",
   "id": "2de87358",
   "metadata": {},
   "source": [
    "#### Xử lí cột `Gender`"
   ]
  },
  {
   "cell_type": "code",
   "execution_count": 31,
   "id": "7a8e32c6-0681-4fdd-af33-670b142cf21e",
   "metadata": {},
   "outputs": [
    {
     "data": {
      "text/plain": [
       "array(['Female', 'M', 'Male', 'male', 'female', 'm', 'Male-ish', 'maile',\n",
       "       'Trans-female', 'Cis Female', 'F', 'something kinda male?',\n",
       "       'Cis Male', 'Woman', 'f', 'Mal', 'Male (CIS)', 'queer/she/they',\n",
       "       'non-binary', 'Femake', 'woman', 'Make', 'Nah', 'All', 'Enby',\n",
       "       'fluid', 'Genderqueer', 'Female ', 'Androgyne', 'Agender',\n",
       "       'cis-female/femme', 'Guy (-ish) ^_^', 'male leaning androgynous',\n",
       "       'Male ', 'Man', 'Trans woman', 'msle', 'Neuter', 'Female (trans)',\n",
       "       'queer', 'Female (cis)', 'Mail', 'cis male', 'A little about you',\n",
       "       'Malr', 'p', 'femail', 'Cis Man',\n",
       "       'ostensibly male, unsure what that really means'], dtype=object)"
      ]
     },
     "execution_count": 31,
     "metadata": {},
     "output_type": "execute_result"
    }
   ],
   "source": [
    "raw_df['Gender'].unique()"
   ]
  },
  {
   "cell_type": "markdown",
   "id": "7d489b3c",
   "metadata": {},
   "source": [
    "Ta thấy ở đây có rất nhiều giá trị kì lạ, một số còn không biểu thị thông tin gì có nghĩa. Do đó ta sẽ lọc dữ liệu theo 3 loại sau:\n",
    "- Female: những giá trị mang ý nghĩa là giới tính nữ.\n",
    "- Male: những giá trị mang ý nghĩa là giới tính nam.\n",
    "- Others: những giá trị không mang 2 ý nghĩa trên."
   ]
  },
  {
   "cell_type": "code",
   "execution_count": 32,
   "id": "82a4d8b9",
   "metadata": {},
   "outputs": [
    {
     "data": {
      "text/html": [
       "<div>\n",
       "<style scoped>\n",
       "    .dataframe tbody tr th:only-of-type {\n",
       "        vertical-align: middle;\n",
       "    }\n",
       "\n",
       "    .dataframe tbody tr th {\n",
       "        vertical-align: top;\n",
       "    }\n",
       "\n",
       "    .dataframe thead th {\n",
       "        text-align: right;\n",
       "    }\n",
       "</style>\n",
       "<table border=\"1\" class=\"dataframe\">\n",
       "  <thead>\n",
       "    <tr style=\"text-align: right;\">\n",
       "      <th></th>\n",
       "      <th>Timestamp</th>\n",
       "      <th>Age</th>\n",
       "      <th>Gender</th>\n",
       "      <th>Country</th>\n",
       "      <th>state</th>\n",
       "      <th>self_employed</th>\n",
       "      <th>family_history</th>\n",
       "      <th>treatment</th>\n",
       "      <th>work_interfere</th>\n",
       "      <th>no_employees</th>\n",
       "      <th>remote_work</th>\n",
       "      <th>tech_company</th>\n",
       "      <th>benefits</th>\n",
       "      <th>care_options</th>\n",
       "      <th>wellness_program</th>\n",
       "      <th>seek_help</th>\n",
       "      <th>anonymity</th>\n",
       "      <th>leave</th>\n",
       "      <th>mental_health_consequence</th>\n",
       "      <th>phys_health_consequence</th>\n",
       "      <th>coworkers</th>\n",
       "      <th>supervisor</th>\n",
       "      <th>mental_health_interview</th>\n",
       "      <th>phys_health_interview</th>\n",
       "      <th>mental_vs_physical</th>\n",
       "      <th>obs_consequence</th>\n",
       "      <th>comments</th>\n",
       "    </tr>\n",
       "  </thead>\n",
       "  <tbody>\n",
       "    <tr>\n",
       "      <th>0</th>\n",
       "      <td>2014-08-27 11:29:31</td>\n",
       "      <td>37</td>\n",
       "      <td>Female</td>\n",
       "      <td>United States</td>\n",
       "      <td>IL</td>\n",
       "      <td>NaN</td>\n",
       "      <td>No</td>\n",
       "      <td>Yes</td>\n",
       "      <td>Often</td>\n",
       "      <td>6-25</td>\n",
       "      <td>No</td>\n",
       "      <td>Yes</td>\n",
       "      <td>Yes</td>\n",
       "      <td>Not sure</td>\n",
       "      <td>No</td>\n",
       "      <td>Yes</td>\n",
       "      <td>Yes</td>\n",
       "      <td>Somewhat easy</td>\n",
       "      <td>No</td>\n",
       "      <td>No</td>\n",
       "      <td>Some of them</td>\n",
       "      <td>Yes</td>\n",
       "      <td>No</td>\n",
       "      <td>Maybe</td>\n",
       "      <td>Yes</td>\n",
       "      <td>No</td>\n",
       "      <td>NaN</td>\n",
       "    </tr>\n",
       "    <tr>\n",
       "      <th>1</th>\n",
       "      <td>2014-08-27 11:29:37</td>\n",
       "      <td>44</td>\n",
       "      <td>Male</td>\n",
       "      <td>United States</td>\n",
       "      <td>IN</td>\n",
       "      <td>NaN</td>\n",
       "      <td>No</td>\n",
       "      <td>No</td>\n",
       "      <td>Rarely</td>\n",
       "      <td>More than 1000</td>\n",
       "      <td>No</td>\n",
       "      <td>No</td>\n",
       "      <td>Don't know</td>\n",
       "      <td>No</td>\n",
       "      <td>Don't know</td>\n",
       "      <td>Don't know</td>\n",
       "      <td>Don't know</td>\n",
       "      <td>Don't know</td>\n",
       "      <td>Maybe</td>\n",
       "      <td>No</td>\n",
       "      <td>No</td>\n",
       "      <td>No</td>\n",
       "      <td>No</td>\n",
       "      <td>No</td>\n",
       "      <td>Don't know</td>\n",
       "      <td>No</td>\n",
       "      <td>NaN</td>\n",
       "    </tr>\n",
       "    <tr>\n",
       "      <th>2</th>\n",
       "      <td>2014-08-27 11:29:44</td>\n",
       "      <td>32</td>\n",
       "      <td>Male</td>\n",
       "      <td>Canada</td>\n",
       "      <td>NaN</td>\n",
       "      <td>NaN</td>\n",
       "      <td>No</td>\n",
       "      <td>No</td>\n",
       "      <td>Rarely</td>\n",
       "      <td>6-25</td>\n",
       "      <td>No</td>\n",
       "      <td>Yes</td>\n",
       "      <td>No</td>\n",
       "      <td>No</td>\n",
       "      <td>No</td>\n",
       "      <td>No</td>\n",
       "      <td>Don't know</td>\n",
       "      <td>Somewhat difficult</td>\n",
       "      <td>No</td>\n",
       "      <td>No</td>\n",
       "      <td>Yes</td>\n",
       "      <td>Yes</td>\n",
       "      <td>Yes</td>\n",
       "      <td>Yes</td>\n",
       "      <td>No</td>\n",
       "      <td>No</td>\n",
       "      <td>NaN</td>\n",
       "    </tr>\n",
       "    <tr>\n",
       "      <th>3</th>\n",
       "      <td>2014-08-27 11:29:46</td>\n",
       "      <td>31</td>\n",
       "      <td>Male</td>\n",
       "      <td>United Kingdom</td>\n",
       "      <td>NaN</td>\n",
       "      <td>NaN</td>\n",
       "      <td>Yes</td>\n",
       "      <td>Yes</td>\n",
       "      <td>Often</td>\n",
       "      <td>26-100</td>\n",
       "      <td>No</td>\n",
       "      <td>Yes</td>\n",
       "      <td>No</td>\n",
       "      <td>Yes</td>\n",
       "      <td>No</td>\n",
       "      <td>No</td>\n",
       "      <td>No</td>\n",
       "      <td>Somewhat difficult</td>\n",
       "      <td>Yes</td>\n",
       "      <td>Yes</td>\n",
       "      <td>Some of them</td>\n",
       "      <td>No</td>\n",
       "      <td>Maybe</td>\n",
       "      <td>Maybe</td>\n",
       "      <td>No</td>\n",
       "      <td>Yes</td>\n",
       "      <td>NaN</td>\n",
       "    </tr>\n",
       "    <tr>\n",
       "      <th>4</th>\n",
       "      <td>2014-08-27 11:30:22</td>\n",
       "      <td>31</td>\n",
       "      <td>Male</td>\n",
       "      <td>United States</td>\n",
       "      <td>TX</td>\n",
       "      <td>NaN</td>\n",
       "      <td>No</td>\n",
       "      <td>No</td>\n",
       "      <td>Never</td>\n",
       "      <td>100-500</td>\n",
       "      <td>Yes</td>\n",
       "      <td>Yes</td>\n",
       "      <td>Yes</td>\n",
       "      <td>No</td>\n",
       "      <td>Don't know</td>\n",
       "      <td>Don't know</td>\n",
       "      <td>Don't know</td>\n",
       "      <td>Don't know</td>\n",
       "      <td>No</td>\n",
       "      <td>No</td>\n",
       "      <td>Some of them</td>\n",
       "      <td>Yes</td>\n",
       "      <td>Yes</td>\n",
       "      <td>Yes</td>\n",
       "      <td>Don't know</td>\n",
       "      <td>No</td>\n",
       "      <td>NaN</td>\n",
       "    </tr>\n",
       "    <tr>\n",
       "      <th>...</th>\n",
       "      <td>...</td>\n",
       "      <td>...</td>\n",
       "      <td>...</td>\n",
       "      <td>...</td>\n",
       "      <td>...</td>\n",
       "      <td>...</td>\n",
       "      <td>...</td>\n",
       "      <td>...</td>\n",
       "      <td>...</td>\n",
       "      <td>...</td>\n",
       "      <td>...</td>\n",
       "      <td>...</td>\n",
       "      <td>...</td>\n",
       "      <td>...</td>\n",
       "      <td>...</td>\n",
       "      <td>...</td>\n",
       "      <td>...</td>\n",
       "      <td>...</td>\n",
       "      <td>...</td>\n",
       "      <td>...</td>\n",
       "      <td>...</td>\n",
       "      <td>...</td>\n",
       "      <td>...</td>\n",
       "      <td>...</td>\n",
       "      <td>...</td>\n",
       "      <td>...</td>\n",
       "      <td>...</td>\n",
       "    </tr>\n",
       "    <tr>\n",
       "      <th>1254</th>\n",
       "      <td>2015-09-12 11:17:21</td>\n",
       "      <td>26</td>\n",
       "      <td>Male</td>\n",
       "      <td>United Kingdom</td>\n",
       "      <td>NaN</td>\n",
       "      <td>No</td>\n",
       "      <td>No</td>\n",
       "      <td>Yes</td>\n",
       "      <td>NaN</td>\n",
       "      <td>26-100</td>\n",
       "      <td>No</td>\n",
       "      <td>Yes</td>\n",
       "      <td>No</td>\n",
       "      <td>No</td>\n",
       "      <td>No</td>\n",
       "      <td>No</td>\n",
       "      <td>Don't know</td>\n",
       "      <td>Somewhat easy</td>\n",
       "      <td>No</td>\n",
       "      <td>No</td>\n",
       "      <td>Some of them</td>\n",
       "      <td>Some of them</td>\n",
       "      <td>No</td>\n",
       "      <td>No</td>\n",
       "      <td>Don't know</td>\n",
       "      <td>No</td>\n",
       "      <td>NaN</td>\n",
       "    </tr>\n",
       "    <tr>\n",
       "      <th>1255</th>\n",
       "      <td>2015-09-26 01:07:35</td>\n",
       "      <td>32</td>\n",
       "      <td>Male</td>\n",
       "      <td>United States</td>\n",
       "      <td>IL</td>\n",
       "      <td>No</td>\n",
       "      <td>Yes</td>\n",
       "      <td>Yes</td>\n",
       "      <td>Often</td>\n",
       "      <td>26-100</td>\n",
       "      <td>Yes</td>\n",
       "      <td>Yes</td>\n",
       "      <td>Yes</td>\n",
       "      <td>Yes</td>\n",
       "      <td>No</td>\n",
       "      <td>No</td>\n",
       "      <td>Yes</td>\n",
       "      <td>Somewhat difficult</td>\n",
       "      <td>No</td>\n",
       "      <td>No</td>\n",
       "      <td>Some of them</td>\n",
       "      <td>Yes</td>\n",
       "      <td>No</td>\n",
       "      <td>No</td>\n",
       "      <td>Yes</td>\n",
       "      <td>No</td>\n",
       "      <td>NaN</td>\n",
       "    </tr>\n",
       "    <tr>\n",
       "      <th>1256</th>\n",
       "      <td>2015-11-07 12:36:58</td>\n",
       "      <td>34</td>\n",
       "      <td>Male</td>\n",
       "      <td>United States</td>\n",
       "      <td>CA</td>\n",
       "      <td>No</td>\n",
       "      <td>Yes</td>\n",
       "      <td>Yes</td>\n",
       "      <td>Sometimes</td>\n",
       "      <td>More than 1000</td>\n",
       "      <td>No</td>\n",
       "      <td>Yes</td>\n",
       "      <td>Yes</td>\n",
       "      <td>Yes</td>\n",
       "      <td>No</td>\n",
       "      <td>No</td>\n",
       "      <td>Don't know</td>\n",
       "      <td>Somewhat difficult</td>\n",
       "      <td>Yes</td>\n",
       "      <td>Yes</td>\n",
       "      <td>No</td>\n",
       "      <td>No</td>\n",
       "      <td>No</td>\n",
       "      <td>No</td>\n",
       "      <td>No</td>\n",
       "      <td>No</td>\n",
       "      <td>NaN</td>\n",
       "    </tr>\n",
       "    <tr>\n",
       "      <th>1257</th>\n",
       "      <td>2015-11-30 21:25:06</td>\n",
       "      <td>46</td>\n",
       "      <td>Female</td>\n",
       "      <td>United States</td>\n",
       "      <td>NC</td>\n",
       "      <td>No</td>\n",
       "      <td>No</td>\n",
       "      <td>No</td>\n",
       "      <td>NaN</td>\n",
       "      <td>100-500</td>\n",
       "      <td>Yes</td>\n",
       "      <td>Yes</td>\n",
       "      <td>No</td>\n",
       "      <td>Yes</td>\n",
       "      <td>No</td>\n",
       "      <td>No</td>\n",
       "      <td>Don't know</td>\n",
       "      <td>Don't know</td>\n",
       "      <td>Yes</td>\n",
       "      <td>No</td>\n",
       "      <td>No</td>\n",
       "      <td>No</td>\n",
       "      <td>No</td>\n",
       "      <td>No</td>\n",
       "      <td>No</td>\n",
       "      <td>No</td>\n",
       "      <td>NaN</td>\n",
       "    </tr>\n",
       "    <tr>\n",
       "      <th>1258</th>\n",
       "      <td>2016-02-01 23:04:31</td>\n",
       "      <td>25</td>\n",
       "      <td>Male</td>\n",
       "      <td>United States</td>\n",
       "      <td>IL</td>\n",
       "      <td>No</td>\n",
       "      <td>Yes</td>\n",
       "      <td>Yes</td>\n",
       "      <td>Sometimes</td>\n",
       "      <td>26-100</td>\n",
       "      <td>No</td>\n",
       "      <td>No</td>\n",
       "      <td>Yes</td>\n",
       "      <td>Yes</td>\n",
       "      <td>No</td>\n",
       "      <td>No</td>\n",
       "      <td>Yes</td>\n",
       "      <td>Don't know</td>\n",
       "      <td>Maybe</td>\n",
       "      <td>No</td>\n",
       "      <td>Some of them</td>\n",
       "      <td>No</td>\n",
       "      <td>No</td>\n",
       "      <td>No</td>\n",
       "      <td>Don't know</td>\n",
       "      <td>No</td>\n",
       "      <td>NaN</td>\n",
       "    </tr>\n",
       "  </tbody>\n",
       "</table>\n",
       "<p>1259 rows × 27 columns</p>\n",
       "</div>"
      ],
      "text/plain": [
       "               Timestamp  Age  Gender         Country state self_employed  \\\n",
       "0    2014-08-27 11:29:31   37  Female   United States    IL           NaN   \n",
       "1    2014-08-27 11:29:37   44    Male   United States    IN           NaN   \n",
       "2    2014-08-27 11:29:44   32    Male          Canada   NaN           NaN   \n",
       "3    2014-08-27 11:29:46   31    Male  United Kingdom   NaN           NaN   \n",
       "4    2014-08-27 11:30:22   31    Male   United States    TX           NaN   \n",
       "...                  ...  ...     ...             ...   ...           ...   \n",
       "1254 2015-09-12 11:17:21   26    Male  United Kingdom   NaN            No   \n",
       "1255 2015-09-26 01:07:35   32    Male   United States    IL            No   \n",
       "1256 2015-11-07 12:36:58   34    Male   United States    CA            No   \n",
       "1257 2015-11-30 21:25:06   46  Female   United States    NC            No   \n",
       "1258 2016-02-01 23:04:31   25    Male   United States    IL            No   \n",
       "\n",
       "     family_history treatment work_interfere    no_employees remote_work  \\\n",
       "0                No       Yes          Often            6-25          No   \n",
       "1                No        No         Rarely  More than 1000          No   \n",
       "2                No        No         Rarely            6-25          No   \n",
       "3               Yes       Yes          Often          26-100          No   \n",
       "4                No        No          Never         100-500         Yes   \n",
       "...             ...       ...            ...             ...         ...   \n",
       "1254             No       Yes            NaN          26-100          No   \n",
       "1255            Yes       Yes          Often          26-100         Yes   \n",
       "1256            Yes       Yes      Sometimes  More than 1000          No   \n",
       "1257             No        No            NaN         100-500         Yes   \n",
       "1258            Yes       Yes      Sometimes          26-100          No   \n",
       "\n",
       "     tech_company    benefits care_options wellness_program   seek_help  \\\n",
       "0             Yes         Yes     Not sure               No         Yes   \n",
       "1              No  Don't know           No       Don't know  Don't know   \n",
       "2             Yes          No           No               No          No   \n",
       "3             Yes          No          Yes               No          No   \n",
       "4             Yes         Yes           No       Don't know  Don't know   \n",
       "...           ...         ...          ...              ...         ...   \n",
       "1254          Yes          No           No               No          No   \n",
       "1255          Yes         Yes          Yes               No          No   \n",
       "1256          Yes         Yes          Yes               No          No   \n",
       "1257          Yes          No          Yes               No          No   \n",
       "1258           No         Yes          Yes               No          No   \n",
       "\n",
       "       anonymity               leave mental_health_consequence  \\\n",
       "0            Yes       Somewhat easy                        No   \n",
       "1     Don't know          Don't know                     Maybe   \n",
       "2     Don't know  Somewhat difficult                        No   \n",
       "3             No  Somewhat difficult                       Yes   \n",
       "4     Don't know          Don't know                        No   \n",
       "...          ...                 ...                       ...   \n",
       "1254  Don't know       Somewhat easy                        No   \n",
       "1255         Yes  Somewhat difficult                        No   \n",
       "1256  Don't know  Somewhat difficult                       Yes   \n",
       "1257  Don't know          Don't know                       Yes   \n",
       "1258         Yes          Don't know                     Maybe   \n",
       "\n",
       "     phys_health_consequence     coworkers    supervisor  \\\n",
       "0                         No  Some of them           Yes   \n",
       "1                         No            No            No   \n",
       "2                         No           Yes           Yes   \n",
       "3                        Yes  Some of them            No   \n",
       "4                         No  Some of them           Yes   \n",
       "...                      ...           ...           ...   \n",
       "1254                      No  Some of them  Some of them   \n",
       "1255                      No  Some of them           Yes   \n",
       "1256                     Yes            No            No   \n",
       "1257                      No            No            No   \n",
       "1258                      No  Some of them            No   \n",
       "\n",
       "     mental_health_interview phys_health_interview mental_vs_physical  \\\n",
       "0                         No                 Maybe                Yes   \n",
       "1                         No                    No         Don't know   \n",
       "2                        Yes                   Yes                 No   \n",
       "3                      Maybe                 Maybe                 No   \n",
       "4                        Yes                   Yes         Don't know   \n",
       "...                      ...                   ...                ...   \n",
       "1254                      No                    No         Don't know   \n",
       "1255                      No                    No                Yes   \n",
       "1256                      No                    No                 No   \n",
       "1257                      No                    No                 No   \n",
       "1258                      No                    No         Don't know   \n",
       "\n",
       "     obs_consequence comments  \n",
       "0                 No      NaN  \n",
       "1                 No      NaN  \n",
       "2                 No      NaN  \n",
       "3                Yes      NaN  \n",
       "4                 No      NaN  \n",
       "...              ...      ...  \n",
       "1254              No      NaN  \n",
       "1255              No      NaN  \n",
       "1256              No      NaN  \n",
       "1257              No      NaN  \n",
       "1258              No      NaN  \n",
       "\n",
       "[1259 rows x 27 columns]"
      ]
     },
     "execution_count": 32,
     "metadata": {},
     "output_type": "execute_result"
    }
   ],
   "source": [
    "# Phân nhóm giá trị là male và female\n",
    "male_vals = ['M', 'Male', 'male', 'm', 'Male-ish', 'Guy (-ish) ^_^', 'maile', 'Mal', 'Cis Male', 'Male (CIS)', 'Make', 'Male ', 'Man', 'msle', 'Mail', 'cis male', 'Malr', 'Cis man']\n",
    "female_vals = ['Female', 'female', 'F', 'Cis Female', 'f', 'Femake', 'Woman', 'woman', 'Female ', 'cis-female/feme', 'Female (cis)', 'femail']\n",
    "\n",
    "def standardize_gender(gender):\n",
    "    '''\n",
    "        Hàm chuẩn hóa giới tính đưa về 3 loại Male, Female và Others\n",
    "    '''\n",
    "    if gender in male_vals:\n",
    "        return 'Male'\n",
    "    elif gender in female_vals:\n",
    "        return 'Female'\n",
    "    else:\n",
    "        return'Others'\n",
    "\n",
    "raw_df['Gender'] = raw_df['Gender'].map(standardize_gender)\n",
    "raw_df"
   ]
  },
  {
   "cell_type": "markdown",
   "id": "395490d8-6e4d-495e-a8eb-f577e7053987",
   "metadata": {},
   "source": [
    "Theo dữ liệu đã được khám phá ở phần **I**, ta thấy `Gender` có rất nhiều giá trị đặc biệt, ta sẽ tiến hành phân tích những cột này:"
   ]
  },
  {
   "cell_type": "markdown",
   "id": "b092a0a9",
   "metadata": {},
   "source": [
    "Kiểm tra lại giá trị của `Gender`:"
   ]
  },
  {
   "cell_type": "code",
   "execution_count": 33,
   "id": "79972e1c",
   "metadata": {},
   "outputs": [
    {
     "data": {
      "text/plain": [
       "array(['Female', 'Male', 'Others'], dtype=object)"
      ]
     },
     "execution_count": 33,
     "metadata": {},
     "output_type": "execute_result"
    }
   ],
   "source": [
    "raw_df['Gender'].unique()"
   ]
  },
  {
   "cell_type": "markdown",
   "id": "1fc1dd4f-3469-482a-b5b1-103698a7304f",
   "metadata": {},
   "source": [
    "### Câu 1. Các công ty công nghệ có đang quan tâm vào sức khỏe tâm thần của nhân viên trong công ty hay không?"
   ]
  },
  {
   "cell_type": "markdown",
   "id": "7b8d69bf-6f0a-4ee0-9387-71b7ed0b8835",
   "metadata": {},
   "source": [
    "Để trả lời câu hỏi này, trước tiên ta cần xác định những cột phù hợp:"
   ]
  },
  {
   "cell_type": "code",
   "execution_count": 34,
   "id": "b7972bb3-2f5d-4e4a-826d-0ca07f7cfbbe",
   "metadata": {},
   "outputs": [
    {
     "data": {
      "text/html": [
       "<div>\n",
       "<style scoped>\n",
       "    .dataframe tbody tr th:only-of-type {\n",
       "        vertical-align: middle;\n",
       "    }\n",
       "\n",
       "    .dataframe tbody tr th {\n",
       "        vertical-align: top;\n",
       "    }\n",
       "\n",
       "    .dataframe thead th {\n",
       "        text-align: right;\n",
       "    }\n",
       "</style>\n",
       "<table border=\"1\" class=\"dataframe\">\n",
       "  <thead>\n",
       "    <tr style=\"text-align: right;\">\n",
       "      <th></th>\n",
       "      <th>leave</th>\n",
       "      <th>benefits</th>\n",
       "      <th>mental_health_consequence</th>\n",
       "      <th>wellness_program</th>\n",
       "      <th>seek_help</th>\n",
       "    </tr>\n",
       "  </thead>\n",
       "  <tbody>\n",
       "    <tr>\n",
       "      <th>num_diff_vals</th>\n",
       "      <td>5</td>\n",
       "      <td>3</td>\n",
       "      <td>3</td>\n",
       "      <td>3</td>\n",
       "      <td>3</td>\n",
       "    </tr>\n",
       "    <tr>\n",
       "      <th>distribution</th>\n",
       "      <td>{'Don't know': 456, 'Somewhat easy': 219, 'Very easy': 179, 'Somewhat difficult': 98, 'Very difficult': 79}</td>\n",
       "      <td>{'Yes': 373, 'Don't know': 335, 'No': 323}</td>\n",
       "      <td>{'No': 430, 'Maybe': 376, 'Yes': 225}</td>\n",
       "      <td>{'No': 708, 'Yes': 162, 'Don't know': 161}</td>\n",
       "      <td>{'No': 554, 'Don't know': 296, 'Yes': 181}</td>\n",
       "    </tr>\n",
       "  </tbody>\n",
       "</table>\n",
       "</div>"
      ],
      "text/plain": [
       "                                                                                                                     leave  \\\n",
       "num_diff_vals                                                                                                            5   \n",
       "distribution   {'Don't know': 456, 'Somewhat easy': 219, 'Very easy': 179, 'Somewhat difficult': 98, 'Very difficult': 79}   \n",
       "\n",
       "                                                 benefits  \\\n",
       "num_diff_vals                                           3   \n",
       "distribution   {'Yes': 373, 'Don't know': 335, 'No': 323}   \n",
       "\n",
       "                           mental_health_consequence  \\\n",
       "num_diff_vals                                      3   \n",
       "distribution   {'No': 430, 'Maybe': 376, 'Yes': 225}   \n",
       "\n",
       "                                         wellness_program  \\\n",
       "num_diff_vals                                           3   \n",
       "distribution   {'No': 708, 'Yes': 162, 'Don't know': 161}   \n",
       "\n",
       "                                                seek_help  \n",
       "num_diff_vals                                           3  \n",
       "distribution   {'No': 554, 'Don't know': 296, 'Yes': 181}  "
      ]
     },
     "execution_count": 34,
     "metadata": {},
     "output_type": "execute_result"
    }
   ],
   "source": [
    "# Lấy những nhân viên làm trong công ty công nghệ\n",
    "tech_comp_df = raw_df[raw_df['tech_company'] == 'Yes']\n",
    "# Những cột cung cấp một số thông tin về chế độ bảo vệ sức khỏe tâm thần cho nhân viên\n",
    "tech_com_df = tech_comp_df[['leave', 'benefits', 'mental_health_consequence', 'wellness_program', 'seek_help']]\n",
    "\n",
    "def num_diff_vals(col):\n",
    "    '''\n",
    "        Hàm sử dụng để tìm xem có bao nhiêu giá trị xuất hiện trong cột\n",
    "    '''\n",
    "    return col.nunique()\n",
    "    \n",
    "def distribution(col):\n",
    "    '''\n",
    "        Hàm sử dụng để tính sự phân bố của mỗi giá trị có trong cột\n",
    "    '''\n",
    "    return (col.value_counts()).to_dict()\n",
    "\n",
    "\n",
    "mental_policy_distribution = tech_com_df.agg([num_diff_vals, distribution])\n",
    "mental_policy_distribution"
   ]
  },
  {
   "cell_type": "code",
   "execution_count": 35,
   "id": "921deecc-286f-4608-9867-dbc40925d8e9",
   "metadata": {},
   "outputs": [
    {
     "data": {
      "image/png": "[encoded data removed]",
      "text/plain": [
       "<Figure size 2000x1000 with 5 Axes>"
      ]
     },
     "metadata": {},
     "output_type": "display_data"
    }
   ],
   "source": [
    "# Tạo grid subplots\n",
    "num_rows = 2\n",
    "num_cols = (len(mental_policy_distribution.columns) + 1) // num_rows\n",
    "fig, axes = plt.subplots(num_rows, num_cols, figsize=(20, 10))\n",
    "\n",
    "# Làm phẳng axes để đơn giản hóa vòng lặp\n",
    "axes = axes.flatten()\n",
    "\n",
    "# Tạo margin = 0.2\n",
    "margin = 0.2\n",
    "plt.subplots_adjust(wspace=margin, hspace=margin)\n",
    "\n",
    "# Tạo pie chart cho mỗi cột\n",
    "for i, (column, ax) in enumerate(zip(mental_policy_distribution.columns, axes), 1):\n",
    "    distribution = mental_policy_distribution[column][1]\n",
    "    labels, values = zip(*distribution.items())\n",
    "\n",
    "    wedges, texts, autotexts = ax.pie(values, labels=None, autopct='%1.1f%%', shadow=True, colors=sns.color_palette('Set2'),)\n",
    "    ax.set_title(column, pad=0)\n",
    "\n",
    "    # Tạo legend\n",
    "    legend_labels = [f'{label}' for label, value in zip(labels, values)]\n",
    "    ax.legend(legend_labels, loc='lower left', bbox_to_anchor=(0, 0), fontsize='x-small')\n",
    "\n",
    "# Xóa subplots rỗng\n",
    "for j in range(i, len(axes)):\n",
    "    fig.delaxes(axes[j])\n",
    "\n",
    "plt.suptitle('Những chính sách hỗ trợ chăm sóc sức khỏe tâm thần của công ty công nghệ đối với nhân viên')\n",
    "plt.tight_layout()\n",
    "plt.show()"
   ]
  },
  {
   "cell_type": "markdown",
   "id": "37e96676-e395-43ec-9606-e613d5206926",
   "metadata": {},
   "source": [
    "**Đánh giá tổng quan:**\n",
    "- Ta thấy vào từng biểu đồ đều có lượng người không biết là trong công ty của mình có hỗ trợ (trên 15%) và trên 30% những người làm trong các công ty không được hưởng những chính sách về chăm sóc sức khỏe tâm thần, ta phân tích cụ thể như sau:\n",
    "  - `leave` *(mức độ dễ dàng để xin nghỉ phép khi mắc vấn đề về tâm thần)*: số người không biết chiếm gần 1 nửa (44.2%), một số xin nghỉ phép tương đối khó (9.5%) và rất khó (7.7%).\n",
    "  - `benefits` *(phúc lợi được hưởng)*: số người không biết chiếm 36%, và không được cung cấp phúc lợi là 31%.\n",
    "  - `mental_health_consequence` *(hậu quả tiêu cực về tâm thần)*: số người không biết chiếm 36.5%, số người sẽ bị ảnh hưởng tiêu cực đến tâm thần là 21.8%.\n",
    "  - `wellness_program` *(vấn đề tâm thần trong chương trình chăm sóc sức khỏe)*: số người không biết chiếm 15.6%, số không được hưởng chương trình này là 68.7%.\n",
    "  - `seek_help` *(hỗ trợ tìm kiếm chăm sóc sức khỏe tâm thần)*: số người không biết chiếm 28.7%, không được hỗ trợ chiếm 53.7%.\n",
    "- Những thông số này nói lên điều gì?\n",
    "<blockquote>Ta có thể đánh giá được chính sách hỗ trợ sức khỏe của nhân viên tại một số công ty công nghệ tại thời điểm này là khá mơ hồ (vì có những người không biết) và dường như không quan tâm đến các vấn đề về sức khỏe tâm thần của nhân viên. Điều này ảnh hưởng rất lớn không chỉ đến sức khỏe của mỗi cá nhân trong công việc, mà còn gây ảnh hưởng đến sự phát triển của một công ty, làm dấy lên mối lo ngại về việc áp bức, bóc lột sức lao động của nhân viên tại các công ty này."
   ]
  },
  {
   "cell_type": "markdown",
   "id": "819469cd-f9c9-4037-85b5-17b4b2bc6e83",
   "metadata": {},
   "source": [
    "### Câu 2. Các vấn đề về tâm thần gây ảnh hưởng đến công việc của những người làm việc từ xa khác như thế nào so với những người làm việc trong văn phòng (theo mỗi giới tính)?"
   ]
  },
  {
   "cell_type": "markdown",
   "id": "7f503020-9b8f-4472-a4a6-c6340c8dec05",
   "metadata": {},
   "source": [
    "Ta lấy những cột cần thiết:"
   ]
  },
  {
   "cell_type": "code",
   "execution_count": 36,
   "id": "5242e1fd-5412-44a6-90a9-f1e300d8eeae",
   "metadata": {},
   "outputs": [
    {
     "data": {
      "text/html": [
       "<div>\n",
       "<style scoped>\n",
       "    .dataframe tbody tr th:only-of-type {\n",
       "        vertical-align: middle;\n",
       "    }\n",
       "\n",
       "    .dataframe tbody tr th {\n",
       "        vertical-align: top;\n",
       "    }\n",
       "\n",
       "    .dataframe thead th {\n",
       "        text-align: right;\n",
       "    }\n",
       "</style>\n",
       "<table border=\"1\" class=\"dataframe\">\n",
       "  <thead>\n",
       "    <tr style=\"text-align: right;\">\n",
       "      <th></th>\n",
       "      <th>Gender</th>\n",
       "      <th>work_interfere</th>\n",
       "      <th>remote_work</th>\n",
       "    </tr>\n",
       "  </thead>\n",
       "  <tbody>\n",
       "    <tr>\n",
       "      <th>0</th>\n",
       "      <td>Female</td>\n",
       "      <td>Often</td>\n",
       "      <td>No</td>\n",
       "    </tr>\n",
       "    <tr>\n",
       "      <th>1</th>\n",
       "      <td>Male</td>\n",
       "      <td>Rarely</td>\n",
       "      <td>No</td>\n",
       "    </tr>\n",
       "    <tr>\n",
       "      <th>2</th>\n",
       "      <td>Male</td>\n",
       "      <td>Rarely</td>\n",
       "      <td>No</td>\n",
       "    </tr>\n",
       "    <tr>\n",
       "      <th>3</th>\n",
       "      <td>Male</td>\n",
       "      <td>Often</td>\n",
       "      <td>No</td>\n",
       "    </tr>\n",
       "    <tr>\n",
       "      <th>4</th>\n",
       "      <td>Male</td>\n",
       "      <td>Never</td>\n",
       "      <td>Yes</td>\n",
       "    </tr>\n",
       "    <tr>\n",
       "      <th>...</th>\n",
       "      <td>...</td>\n",
       "      <td>...</td>\n",
       "      <td>...</td>\n",
       "    </tr>\n",
       "    <tr>\n",
       "      <th>1254</th>\n",
       "      <td>Male</td>\n",
       "      <td>NaN</td>\n",
       "      <td>No</td>\n",
       "    </tr>\n",
       "    <tr>\n",
       "      <th>1255</th>\n",
       "      <td>Male</td>\n",
       "      <td>Often</td>\n",
       "      <td>Yes</td>\n",
       "    </tr>\n",
       "    <tr>\n",
       "      <th>1256</th>\n",
       "      <td>Male</td>\n",
       "      <td>Sometimes</td>\n",
       "      <td>No</td>\n",
       "    </tr>\n",
       "    <tr>\n",
       "      <th>1257</th>\n",
       "      <td>Female</td>\n",
       "      <td>NaN</td>\n",
       "      <td>Yes</td>\n",
       "    </tr>\n",
       "    <tr>\n",
       "      <th>1258</th>\n",
       "      <td>Male</td>\n",
       "      <td>Sometimes</td>\n",
       "      <td>No</td>\n",
       "    </tr>\n",
       "  </tbody>\n",
       "</table>\n",
       "<p>1259 rows × 3 columns</p>\n",
       "</div>"
      ],
      "text/plain": [
       "      Gender work_interfere remote_work\n",
       "0     Female          Often          No\n",
       "1       Male         Rarely          No\n",
       "2       Male         Rarely          No\n",
       "3       Male          Often          No\n",
       "4       Male          Never         Yes\n",
       "...      ...            ...         ...\n",
       "1254    Male            NaN          No\n",
       "1255    Male          Often         Yes\n",
       "1256    Male      Sometimes          No\n",
       "1257  Female            NaN         Yes\n",
       "1258    Male      Sometimes          No\n",
       "\n",
       "[1259 rows x 3 columns]"
      ]
     },
     "execution_count": 36,
     "metadata": {},
     "output_type": "execute_result"
    }
   ],
   "source": [
    "work_n_remote_df = raw_df[['Gender', 'work_interfere', 'remote_work']]\n",
    "work_n_remote_df"
   ]
  },
  {
   "cell_type": "markdown",
   "id": "085b21f9-5ce3-40cd-bf92-81d57bd46480",
   "metadata": {},
   "source": [
    "Từ phần khám phá dữ liệu, ta thấy `work_interfere` những dữ liệu không có giá trị chiếm khoảng **20%**. Ta sẽ lấp đầy những cột trống này bằng giá trị có tần suất xuất hiện nhiều nhất trong dữ liệu:"
   ]
  },
  {
   "cell_type": "code",
   "execution_count": 37,
   "id": "e3f926db-c5bc-452d-a89f-e437085e5547",
   "metadata": {},
   "outputs": [
    {
     "data": {
      "text/html": [
       "<div>\n",
       "<style scoped>\n",
       "    .dataframe tbody tr th:only-of-type {\n",
       "        vertical-align: middle;\n",
       "    }\n",
       "\n",
       "    .dataframe tbody tr th {\n",
       "        vertical-align: top;\n",
       "    }\n",
       "\n",
       "    .dataframe thead th {\n",
       "        text-align: right;\n",
       "    }\n",
       "</style>\n",
       "<table border=\"1\" class=\"dataframe\">\n",
       "  <thead>\n",
       "    <tr style=\"text-align: right;\">\n",
       "      <th></th>\n",
       "      <th>Gender</th>\n",
       "      <th>work_interfere</th>\n",
       "      <th>remote_work</th>\n",
       "    </tr>\n",
       "  </thead>\n",
       "  <tbody>\n",
       "    <tr>\n",
       "      <th>0</th>\n",
       "      <td>Female</td>\n",
       "      <td>Often</td>\n",
       "      <td>No</td>\n",
       "    </tr>\n",
       "    <tr>\n",
       "      <th>1</th>\n",
       "      <td>Male</td>\n",
       "      <td>Rarely</td>\n",
       "      <td>No</td>\n",
       "    </tr>\n",
       "    <tr>\n",
       "      <th>2</th>\n",
       "      <td>Male</td>\n",
       "      <td>Rarely</td>\n",
       "      <td>No</td>\n",
       "    </tr>\n",
       "    <tr>\n",
       "      <th>3</th>\n",
       "      <td>Male</td>\n",
       "      <td>Often</td>\n",
       "      <td>No</td>\n",
       "    </tr>\n",
       "    <tr>\n",
       "      <th>4</th>\n",
       "      <td>Male</td>\n",
       "      <td>Never</td>\n",
       "      <td>Yes</td>\n",
       "    </tr>\n",
       "    <tr>\n",
       "      <th>...</th>\n",
       "      <td>...</td>\n",
       "      <td>...</td>\n",
       "      <td>...</td>\n",
       "    </tr>\n",
       "    <tr>\n",
       "      <th>1254</th>\n",
       "      <td>Male</td>\n",
       "      <td>Sometimes</td>\n",
       "      <td>No</td>\n",
       "    </tr>\n",
       "    <tr>\n",
       "      <th>1255</th>\n",
       "      <td>Male</td>\n",
       "      <td>Often</td>\n",
       "      <td>Yes</td>\n",
       "    </tr>\n",
       "    <tr>\n",
       "      <th>1256</th>\n",
       "      <td>Male</td>\n",
       "      <td>Sometimes</td>\n",
       "      <td>No</td>\n",
       "    </tr>\n",
       "    <tr>\n",
       "      <th>1257</th>\n",
       "      <td>Female</td>\n",
       "      <td>Sometimes</td>\n",
       "      <td>Yes</td>\n",
       "    </tr>\n",
       "    <tr>\n",
       "      <th>1258</th>\n",
       "      <td>Male</td>\n",
       "      <td>Sometimes</td>\n",
       "      <td>No</td>\n",
       "    </tr>\n",
       "  </tbody>\n",
       "</table>\n",
       "<p>1259 rows × 3 columns</p>\n",
       "</div>"
      ],
      "text/plain": [
       "      Gender work_interfere remote_work\n",
       "0     Female          Often          No\n",
       "1       Male         Rarely          No\n",
       "2       Male         Rarely          No\n",
       "3       Male          Often          No\n",
       "4       Male          Never         Yes\n",
       "...      ...            ...         ...\n",
       "1254    Male      Sometimes          No\n",
       "1255    Male          Often         Yes\n",
       "1256    Male      Sometimes          No\n",
       "1257  Female      Sometimes         Yes\n",
       "1258    Male      Sometimes          No\n",
       "\n",
       "[1259 rows x 3 columns]"
      ]
     },
     "execution_count": 37,
     "metadata": {},
     "output_type": "execute_result"
    }
   ],
   "source": [
    "work_n_remote_df['work_interfere'].fillna(raw_df['work_interfere'].mode().values[0], inplace=True)\n",
    "work_n_remote_df"
   ]
  },
  {
   "cell_type": "markdown",
   "id": "cb2fa22d-4754-4b6c-9e19-7f8b61c1e5d8",
   "metadata": {},
   "source": [
    "Ta lấy kích thước của từng bộ giá trị gom nhóm trong dữ liệu để lấy được số lượng người khảo sát theo `remote_work`, `Gender` và `work_interfere`"
   ]
  },
  {
   "cell_type": "code",
   "execution_count": 38,
   "id": "7535fcf5-5c17-420f-a481-9588770d1b9b",
   "metadata": {},
   "outputs": [
    {
     "data": {
      "text/html": [
       "<div>\n",
       "<style scoped>\n",
       "    .dataframe tbody tr th:only-of-type {\n",
       "        vertical-align: middle;\n",
       "    }\n",
       "\n",
       "    .dataframe tbody tr th {\n",
       "        vertical-align: top;\n",
       "    }\n",
       "\n",
       "    .dataframe thead th {\n",
       "        text-align: right;\n",
       "    }\n",
       "</style>\n",
       "<table border=\"1\" class=\"dataframe\">\n",
       "  <thead>\n",
       "    <tr style=\"text-align: right;\">\n",
       "      <th></th>\n",
       "      <th>work_interfere</th>\n",
       "      <th>Never</th>\n",
       "      <th>Often</th>\n",
       "      <th>Rarely</th>\n",
       "      <th>Sometimes</th>\n",
       "    </tr>\n",
       "    <tr>\n",
       "      <th>remote_work</th>\n",
       "      <th>Gender</th>\n",
       "      <th></th>\n",
       "      <th></th>\n",
       "      <th></th>\n",
       "      <th></th>\n",
       "    </tr>\n",
       "  </thead>\n",
       "  <tbody>\n",
       "    <tr>\n",
       "      <th rowspan=\"3\" valign=\"top\">No</th>\n",
       "      <th>Female</th>\n",
       "      <td>20.00</td>\n",
       "      <td>19.00</td>\n",
       "      <td>29.00</td>\n",
       "      <td>107.00</td>\n",
       "    </tr>\n",
       "    <tr>\n",
       "      <th>Male</th>\n",
       "      <td>136.00</td>\n",
       "      <td>71.00</td>\n",
       "      <td>87.00</td>\n",
       "      <td>400.00</td>\n",
       "    </tr>\n",
       "    <tr>\n",
       "      <th>Others</th>\n",
       "      <td>1.00</td>\n",
       "      <td>3.00</td>\n",
       "      <td>3.00</td>\n",
       "      <td>7.00</td>\n",
       "    </tr>\n",
       "    <tr>\n",
       "      <th rowspan=\"3\" valign=\"top\">Yes</th>\n",
       "      <th>Female</th>\n",
       "      <td>5.00</td>\n",
       "      <td>14.00</td>\n",
       "      <td>15.00</td>\n",
       "      <td>37.00</td>\n",
       "    </tr>\n",
       "    <tr>\n",
       "      <th>Male</th>\n",
       "      <td>51.00</td>\n",
       "      <td>34.00</td>\n",
       "      <td>39.00</td>\n",
       "      <td>173.00</td>\n",
       "    </tr>\n",
       "    <tr>\n",
       "      <th>Others</th>\n",
       "      <td>0.00</td>\n",
       "      <td>3.00</td>\n",
       "      <td>0.00</td>\n",
       "      <td>5.00</td>\n",
       "    </tr>\n",
       "  </tbody>\n",
       "</table>\n",
       "</div>"
      ],
      "text/plain": [
       "work_interfere      Never  Often  Rarely  Sometimes\n",
       "remote_work Gender                                 \n",
       "No          Female  20.00  19.00   29.00     107.00\n",
       "            Male   136.00  71.00   87.00     400.00\n",
       "            Others   1.00   3.00    3.00       7.00\n",
       "Yes         Female   5.00  14.00   15.00      37.00\n",
       "            Male    51.00  34.00   39.00     173.00\n",
       "            Others   0.00   3.00    0.00       5.00"
      ]
     },
     "execution_count": 38,
     "metadata": {},
     "output_type": "execute_result"
    }
   ],
   "source": [
    "frequencies_df = work_n_remote_df.groupby(['remote_work', 'Gender', 'work_interfere']).size().unstack()\n",
    "# thay những giá trị null bằng 0\n",
    "frequencies_df.fillna(0, inplace=True)\n",
    "frequencies_df"
   ]
  },
  {
   "cell_type": "markdown",
   "id": "291da04e-b9f6-41de-981d-d8b3704ce9cc",
   "metadata": {},
   "source": [
    "Đưa nó về dạng cột dài để thuận tiện cho thống kê số liệu lên biểu đồ:"
   ]
  },
  {
   "cell_type": "code",
   "execution_count": 39,
   "id": "ef142b9d-b70e-406a-a2d9-7dc5a98e345c",
   "metadata": {},
   "outputs": [
    {
     "data": {
      "text/html": [
       "<div>\n",
       "<style scoped>\n",
       "    .dataframe tbody tr th:only-of-type {\n",
       "        vertical-align: middle;\n",
       "    }\n",
       "\n",
       "    .dataframe tbody tr th {\n",
       "        vertical-align: top;\n",
       "    }\n",
       "\n",
       "    .dataframe thead th {\n",
       "        text-align: right;\n",
       "    }\n",
       "</style>\n",
       "<table border=\"1\" class=\"dataframe\">\n",
       "  <thead>\n",
       "    <tr style=\"text-align: right;\">\n",
       "      <th></th>\n",
       "      <th>Gender</th>\n",
       "      <th>remote_work</th>\n",
       "      <th>work_interfere</th>\n",
       "      <th>value</th>\n",
       "      <th>percentage</th>\n",
       "    </tr>\n",
       "  </thead>\n",
       "  <tbody>\n",
       "    <tr>\n",
       "      <th>0</th>\n",
       "      <td>Female</td>\n",
       "      <td>No</td>\n",
       "      <td>Never</td>\n",
       "      <td>20.00</td>\n",
       "      <td>11.43</td>\n",
       "    </tr>\n",
       "    <tr>\n",
       "      <th>1</th>\n",
       "      <td>Male</td>\n",
       "      <td>No</td>\n",
       "      <td>Never</td>\n",
       "      <td>136.00</td>\n",
       "      <td>19.60</td>\n",
       "    </tr>\n",
       "    <tr>\n",
       "      <th>2</th>\n",
       "      <td>Others</td>\n",
       "      <td>No</td>\n",
       "      <td>Never</td>\n",
       "      <td>1.00</td>\n",
       "      <td>7.14</td>\n",
       "    </tr>\n",
       "    <tr>\n",
       "      <th>3</th>\n",
       "      <td>Female</td>\n",
       "      <td>Yes</td>\n",
       "      <td>Never</td>\n",
       "      <td>5.00</td>\n",
       "      <td>7.04</td>\n",
       "    </tr>\n",
       "    <tr>\n",
       "      <th>4</th>\n",
       "      <td>Male</td>\n",
       "      <td>Yes</td>\n",
       "      <td>Never</td>\n",
       "      <td>51.00</td>\n",
       "      <td>17.17</td>\n",
       "    </tr>\n",
       "    <tr>\n",
       "      <th>5</th>\n",
       "      <td>Others</td>\n",
       "      <td>Yes</td>\n",
       "      <td>Never</td>\n",
       "      <td>0.00</td>\n",
       "      <td>0.00</td>\n",
       "    </tr>\n",
       "    <tr>\n",
       "      <th>6</th>\n",
       "      <td>Female</td>\n",
       "      <td>No</td>\n",
       "      <td>Often</td>\n",
       "      <td>19.00</td>\n",
       "      <td>10.86</td>\n",
       "    </tr>\n",
       "    <tr>\n",
       "      <th>7</th>\n",
       "      <td>Male</td>\n",
       "      <td>No</td>\n",
       "      <td>Often</td>\n",
       "      <td>71.00</td>\n",
       "      <td>10.23</td>\n",
       "    </tr>\n",
       "    <tr>\n",
       "      <th>8</th>\n",
       "      <td>Others</td>\n",
       "      <td>No</td>\n",
       "      <td>Often</td>\n",
       "      <td>3.00</td>\n",
       "      <td>21.43</td>\n",
       "    </tr>\n",
       "    <tr>\n",
       "      <th>9</th>\n",
       "      <td>Female</td>\n",
       "      <td>Yes</td>\n",
       "      <td>Often</td>\n",
       "      <td>14.00</td>\n",
       "      <td>19.72</td>\n",
       "    </tr>\n",
       "    <tr>\n",
       "      <th>10</th>\n",
       "      <td>Male</td>\n",
       "      <td>Yes</td>\n",
       "      <td>Often</td>\n",
       "      <td>34.00</td>\n",
       "      <td>11.45</td>\n",
       "    </tr>\n",
       "    <tr>\n",
       "      <th>11</th>\n",
       "      <td>Others</td>\n",
       "      <td>Yes</td>\n",
       "      <td>Often</td>\n",
       "      <td>3.00</td>\n",
       "      <td>37.50</td>\n",
       "    </tr>\n",
       "    <tr>\n",
       "      <th>12</th>\n",
       "      <td>Female</td>\n",
       "      <td>No</td>\n",
       "      <td>Rarely</td>\n",
       "      <td>29.00</td>\n",
       "      <td>16.57</td>\n",
       "    </tr>\n",
       "    <tr>\n",
       "      <th>13</th>\n",
       "      <td>Male</td>\n",
       "      <td>No</td>\n",
       "      <td>Rarely</td>\n",
       "      <td>87.00</td>\n",
       "      <td>12.54</td>\n",
       "    </tr>\n",
       "    <tr>\n",
       "      <th>14</th>\n",
       "      <td>Others</td>\n",
       "      <td>No</td>\n",
       "      <td>Rarely</td>\n",
       "      <td>3.00</td>\n",
       "      <td>21.43</td>\n",
       "    </tr>\n",
       "    <tr>\n",
       "      <th>15</th>\n",
       "      <td>Female</td>\n",
       "      <td>Yes</td>\n",
       "      <td>Rarely</td>\n",
       "      <td>15.00</td>\n",
       "      <td>21.13</td>\n",
       "    </tr>\n",
       "    <tr>\n",
       "      <th>16</th>\n",
       "      <td>Male</td>\n",
       "      <td>Yes</td>\n",
       "      <td>Rarely</td>\n",
       "      <td>39.00</td>\n",
       "      <td>13.13</td>\n",
       "    </tr>\n",
       "    <tr>\n",
       "      <th>17</th>\n",
       "      <td>Others</td>\n",
       "      <td>Yes</td>\n",
       "      <td>Rarely</td>\n",
       "      <td>0.00</td>\n",
       "      <td>0.00</td>\n",
       "    </tr>\n",
       "    <tr>\n",
       "      <th>18</th>\n",
       "      <td>Female</td>\n",
       "      <td>No</td>\n",
       "      <td>Sometimes</td>\n",
       "      <td>107.00</td>\n",
       "      <td>61.14</td>\n",
       "    </tr>\n",
       "    <tr>\n",
       "      <th>19</th>\n",
       "      <td>Male</td>\n",
       "      <td>No</td>\n",
       "      <td>Sometimes</td>\n",
       "      <td>400.00</td>\n",
       "      <td>57.64</td>\n",
       "    </tr>\n",
       "    <tr>\n",
       "      <th>20</th>\n",
       "      <td>Others</td>\n",
       "      <td>No</td>\n",
       "      <td>Sometimes</td>\n",
       "      <td>7.00</td>\n",
       "      <td>50.00</td>\n",
       "    </tr>\n",
       "    <tr>\n",
       "      <th>21</th>\n",
       "      <td>Female</td>\n",
       "      <td>Yes</td>\n",
       "      <td>Sometimes</td>\n",
       "      <td>37.00</td>\n",
       "      <td>52.11</td>\n",
       "    </tr>\n",
       "    <tr>\n",
       "      <th>22</th>\n",
       "      <td>Male</td>\n",
       "      <td>Yes</td>\n",
       "      <td>Sometimes</td>\n",
       "      <td>173.00</td>\n",
       "      <td>58.25</td>\n",
       "    </tr>\n",
       "    <tr>\n",
       "      <th>23</th>\n",
       "      <td>Others</td>\n",
       "      <td>Yes</td>\n",
       "      <td>Sometimes</td>\n",
       "      <td>5.00</td>\n",
       "      <td>62.50</td>\n",
       "    </tr>\n",
       "  </tbody>\n",
       "</table>\n",
       "</div>"
      ],
      "text/plain": [
       "    Gender remote_work work_interfere  value  percentage\n",
       "0   Female          No          Never  20.00       11.43\n",
       "1     Male          No          Never 136.00       19.60\n",
       "2   Others          No          Never   1.00        7.14\n",
       "3   Female         Yes          Never   5.00        7.04\n",
       "4     Male         Yes          Never  51.00       17.17\n",
       "5   Others         Yes          Never   0.00        0.00\n",
       "6   Female          No          Often  19.00       10.86\n",
       "7     Male          No          Often  71.00       10.23\n",
       "8   Others          No          Often   3.00       21.43\n",
       "9   Female         Yes          Often  14.00       19.72\n",
       "10    Male         Yes          Often  34.00       11.45\n",
       "11  Others         Yes          Often   3.00       37.50\n",
       "12  Female          No         Rarely  29.00       16.57\n",
       "13    Male          No         Rarely  87.00       12.54\n",
       "14  Others          No         Rarely   3.00       21.43\n",
       "15  Female         Yes         Rarely  15.00       21.13\n",
       "16    Male         Yes         Rarely  39.00       13.13\n",
       "17  Others         Yes         Rarely   0.00        0.00\n",
       "18  Female          No      Sometimes 107.00       61.14\n",
       "19    Male          No      Sometimes 400.00       57.64\n",
       "20  Others          No      Sometimes   7.00       50.00\n",
       "21  Female         Yes      Sometimes  37.00       52.11\n",
       "22    Male         Yes      Sometimes 173.00       58.25\n",
       "23  Others         Yes      Sometimes   5.00       62.50"
      ]
     },
     "execution_count": 39,
     "metadata": {},
     "output_type": "execute_result"
    }
   ],
   "source": [
    "melted_df = frequencies_df.reset_index().melt(id_vars=['Gender', 'remote_work'])\n",
    "melted_df['percentage'] = melted_df.groupby(['Gender', 'remote_work'])['value'].transform(lambda x: x / x.sum() * 100).round(2)\n",
    "melted_df"
   ]
  },
  {
   "cell_type": "code",
   "execution_count": 40,
   "id": "665667f2-0122-4edb-8fee-7e4ea0d32477",
   "metadata": {},
   "outputs": [
    {
     "data": {
      "application/vnd.plotly.v1+json": {
       "config": {
        "plotlyServerURL": "https://plot.ly"
       },
       "data": [
        {
         "marker": {
          "color": "#003f5c"
         },
         "name": "Never",
         "text": [
          20,
          136,
          1,
          5,
          51,
          0
         ],
         "type": "bar",
         "x": [
          [
           "Female",
           "Male",
           "Others",
           "Female",
           "Male",
           "Others"
          ],
          [
           "No",
           "No",
           "No",
           "Yes",
           "Yes",
           "Yes"
          ]
         ],
         "xaxis": "x",
         "y": [
          20,
          136,
          1,
          5,
          51,
          0
         ],
         "yaxis": "y"
        },
        {
         "marker": {
          "color": "#7a5195"
         },
         "name": "Often",
         "text": [
          19,
          71,
          3,
          14,
          34,
          3
         ],
         "type": "bar",
         "x": [
          [
           "Female",
           "Male",
           "Others",
           "Female",
           "Male",
           "Others"
          ],
          [
           "No",
           "No",
           "No",
           "Yes",
           "Yes",
           "Yes"
          ]
         ],
         "xaxis": "x",
         "y": [
          19,
          71,
          3,
          14,
          34,
          3
         ],
         "yaxis": "y"
        },
        {
         "marker": {
          "color": "#ef5675"
         },
         "name": "Rarely",
         "text": [
          29,
          87,
          3,
          15,
          39,
          0
         ],
         "type": "bar",
         "x": [
          [
           "Female",
           "Male",
           "Others",
           "Female",
           "Male",
           "Others"
          ],
          [
           "No",
           "No",
           "No",
           "Yes",
           "Yes",
           "Yes"
          ]
         ],
         "xaxis": "x",
         "y": [
          29,
          87,
          3,
          15,
          39,
          0
         ],
         "yaxis": "y"
        },
        {
         "marker": {
          "color": "#ffa600"
         },
         "name": "Sometimes",
         "text": [
          107,
          400,
          7,
          37,
          173,
          5
         ],
         "type": "bar",
         "x": [
          [
           "Female",
           "Male",
           "Others",
           "Female",
           "Male",
           "Others"
          ],
          [
           "No",
           "No",
           "No",
           "Yes",
           "Yes",
           "Yes"
          ]
         ],
         "xaxis": "x",
         "y": [
          107,
          400,
          7,
          37,
          173,
          5
         ],
         "yaxis": "y"
        },
        {
         "marker": {
          "color": "#003f5c"
         },
         "name": "Never",
         "showlegend": false,
         "text": [
          11.43,
          19.6,
          7.14,
          7.04,
          17.17,
          0
         ],
         "type": "bar",
         "x": [
          [
           "Female",
           "Male",
           "Others",
           "Female",
           "Male",
           "Others"
          ],
          [
           "No",
           "No",
           "No",
           "Yes",
           "Yes",
           "Yes"
          ]
         ],
         "xaxis": "x2",
         "y": [
          11.43,
          19.6,
          7.14,
          7.04,
          17.17,
          0
         ],
         "yaxis": "y2"
        },
        {
         "marker": {
          "color": "#7a5195"
         },
         "name": "Often",
         "showlegend": false,
         "text": [
          10.86,
          10.23,
          21.43,
          19.72,
          11.45,
          37.5
         ],
         "type": "bar",
         "x": [
          [
           "Female",
           "Male",
           "Others",
           "Female",
           "Male",
           "Others"
          ],
          [
           "No",
           "No",
           "No",
           "Yes",
           "Yes",
           "Yes"
          ]
         ],
         "xaxis": "x2",
         "y": [
          10.86,
          10.23,
          21.43,
          19.72,
          11.45,
          37.5
         ],
         "yaxis": "y2"
        },
        {
         "marker": {
          "color": "#ef5675"
         },
         "name": "Rarely",
         "showlegend": false,
         "text": [
          16.57,
          12.54,
          21.43,
          21.13,
          13.13,
          0
         ],
         "type": "bar",
         "x": [
          [
           "Female",
           "Male",
           "Others",
           "Female",
           "Male",
           "Others"
          ],
          [
           "No",
           "No",
           "No",
           "Yes",
           "Yes",
           "Yes"
          ]
         ],
         "xaxis": "x2",
         "y": [
          16.57,
          12.54,
          21.43,
          21.13,
          13.13,
          0
         ],
         "yaxis": "y2"
        },
        {
         "marker": {
          "color": "#ffa600"
         },
         "name": "Sometimes",
         "showlegend": false,
         "text": [
          61.14,
          57.64,
          50,
          52.11,
          58.25,
          62.5
         ],
         "type": "bar",
         "x": [
          [
           "Female",
           "Male",
           "Others",
           "Female",
           "Male",
           "Others"
          ],
          [
           "No",
           "No",
           "No",
           "Yes",
           "Yes",
           "Yes"
          ]
         ],
         "xaxis": "x2",
         "y": [
          61.14,
          57.64,
          50,
          52.11,
          58.25,
          62.5
         ],
         "yaxis": "y2"
        }
       ],
       "layout": {
        "annotations": [
         {
          "font": {
           "size": 16
          },
          "showarrow": false,
          "text": "Biểu đồ dưới dạng số lượng người khảo sát",
          "x": 0.225,
          "xanchor": "center",
          "xref": "paper",
          "y": 1,
          "yanchor": "bottom",
          "yref": "paper"
         },
         {
          "font": {
           "size": 16
          },
          "showarrow": false,
          "text": "Biểu đồ dưới dạng phần trăm người khảo sát (%)",
          "x": 0.775,
          "xanchor": "center",
          "xref": "paper",
          "y": 1,
          "yanchor": "bottom",
          "yref": "paper"
         }
        ],
        "barmode": "stack",
        "height": 500,
        "template": {
         "data": {
          "bar": [
           {
            "error_x": {
             "color": "rgb(36,36,36)"
            },
            "error_y": {
             "color": "rgb(36,36,36)"
            },
            "marker": {
             "line": {
              "color": "white",
              "width": 0.5
             },
             "pattern": {
              "fillmode": "overlay",
              "size": 10,
              "solidity": 0.2
             }
            },
            "type": "bar"
           }
          ],
          "barpolar": [
           {
            "marker": {
             "line": {
              "color": "white",
              "width": 0.5
             },
             "pattern": {
              "fillmode": "overlay",
              "size": 10,
              "solidity": 0.2
             }
            },
            "type": "barpolar"
           }
          ],
          "carpet": [
           {
            "aaxis": {
             "endlinecolor": "rgb(36,36,36)",
             "gridcolor": "white",
             "linecolor": "white",
             "minorgridcolor": "white",
             "startlinecolor": "rgb(36,36,36)"
            },
            "baxis": {
             "endlinecolor": "rgb(36,36,36)",
             "gridcolor": "white",
             "linecolor": "white",
             "minorgridcolor": "white",
             "startlinecolor": "rgb(36,36,36)"
            },
            "type": "carpet"
           }
          ],
          "choropleth": [
           {
            "colorbar": {
             "outlinewidth": 1,
             "tickcolor": "rgb(36,36,36)",
             "ticks": "outside"
            },
            "type": "choropleth"
           }
          ],
          "contour": [
           {
            "colorbar": {
             "outlinewidth": 1,
             "tickcolor": "rgb(36,36,36)",
             "ticks": "outside"
            },
            "colorscale": [
             [
              0,
              "#440154"
             ],
             [
              0.1111111111111111,
              "#482878"
             ],
             [
              0.2222222222222222,
              "#3e4989"
             ],
             [
              0.3333333333333333,
              "#31688e"
             ],
             [
              0.4444444444444444,
              "#26828e"
             ],
             [
              0.5555555555555556,
              "#1f9e89"
             ],
             [
              0.6666666666666666,
              "#35b779"
             ],
             [
              0.7777777777777778,
              "#6ece58"
             ],
             [
              0.8888888888888888,
              "#b5de2b"
             ],
             [
              1,
              "#fde725"
             ]
            ],
            "type": "contour"
           }
          ],
          "contourcarpet": [
           {
            "colorbar": {
             "outlinewidth": 1,
             "tickcolor": "rgb(36,36,36)",
             "ticks": "outside"
            },
            "type": "contourcarpet"
           }
          ],
          "heatmap": [
           {
            "colorbar": {
             "outlinewidth": 1,
             "tickcolor": "rgb(36,36,36)",
             "ticks": "outside"
            },
            "colorscale": [
             [
              0,
              "#440154"
             ],
             [
              0.1111111111111111,
              "#482878"
             ],
             [
              0.2222222222222222,
              "#3e4989"
             ],
             [
              0.3333333333333333,
              "#31688e"
             ],
             [
              0.4444444444444444,
              "#26828e"
             ],
             [
              0.5555555555555556,
              "#1f9e89"
             ],
             [
              0.6666666666666666,
              "#35b779"
             ],
             [
              0.7777777777777778,
              "#6ece58"
             ],
             [
              0.8888888888888888,
              "#b5de2b"
             ],
             [
              1,
              "#fde725"
             ]
            ],
            "type": "heatmap"
           }
          ],
          "heatmapgl": [
           {
            "colorbar": {
             "outlinewidth": 1,
             "tickcolor": "rgb(36,36,36)",
             "ticks": "outside"
            },
            "colorscale": [
             [
              0,
              "#440154"
             ],
             [
              0.1111111111111111,
              "#482878"
             ],
             [
              0.2222222222222222,
              "#3e4989"
             ],
             [
              0.3333333333333333,
              "#31688e"
             ],
             [
              0.4444444444444444,
              "#26828e"
             ],
             [
              0.5555555555555556,
              "#1f9e89"
             ],
             [
              0.6666666666666666,
              "#35b779"
             ],
             [
              0.7777777777777778,
              "#6ece58"
             ],
             [
              0.8888888888888888,
              "#b5de2b"
             ],
             [
              1,
              "#fde725"
             ]
            ],
            "type": "heatmapgl"
           }
          ],
          "histogram": [
           {
            "marker": {
             "line": {
              "color": "white",
              "width": 0.6
             }
            },
            "type": "histogram"
           }
          ],
          "histogram2d": [
           {
            "colorbar": {
             "outlinewidth": 1,
             "tickcolor": "rgb(36,36,36)",
             "ticks": "outside"
            },
            "colorscale": [
             [
              0,
              "#440154"
             ],
             [
              0.1111111111111111,
              "#482878"
             ],
             [
              0.2222222222222222,
              "#3e4989"
             ],
             [
              0.3333333333333333,
              "#31688e"
             ],
             [
              0.4444444444444444,
              "#26828e"
             ],
             [
              0.5555555555555556,
              "#1f9e89"
             ],
             [
              0.6666666666666666,
              "#35b779"
             ],
             [
              0.7777777777777778,
              "#6ece58"
             ],
             [
              0.8888888888888888,
              "#b5de2b"
             ],
             [
              1,
              "#fde725"
             ]
            ],
            "type": "histogram2d"
           }
          ],
          "histogram2dcontour": [
           {
            "colorbar": {
             "outlinewidth": 1,
             "tickcolor": "rgb(36,36,36)",
             "ticks": "outside"
            },
            "colorscale": [
             [
              0,
              "#440154"
             ],
             [
              0.1111111111111111,
              "#482878"
             ],
             [
              0.2222222222222222,
              "#3e4989"
             ],
             [
              0.3333333333333333,
              "#31688e"
             ],
             [
              0.4444444444444444,
              "#26828e"
             ],
             [
              0.5555555555555556,
              "#1f9e89"
             ],
             [
              0.6666666666666666,
              "#35b779"
             ],
             [
              0.7777777777777778,
              "#6ece58"
             ],
             [
              0.8888888888888888,
              "#b5de2b"
             ],
             [
              1,
              "#fde725"
             ]
            ],
            "type": "histogram2dcontour"
           }
          ],
          "mesh3d": [
           {
            "colorbar": {
             "outlinewidth": 1,
             "tickcolor": "rgb(36,36,36)",
             "ticks": "outside"
            },
            "type": "mesh3d"
           }
          ],
          "parcoords": [
           {
            "line": {
             "colorbar": {
              "outlinewidth": 1,
              "tickcolor": "rgb(36,36,36)",
              "ticks": "outside"
             }
            },
            "type": "parcoords"
           }
          ],
          "pie": [
           {
            "automargin": true,
            "type": "pie"
           }
          ],
          "scatter": [
           {
            "fillpattern": {
             "fillmode": "overlay",
             "size": 10,
             "solidity": 0.2
            },
            "type": "scatter"
           }
          ],
          "scatter3d": [
           {
            "line": {
             "colorbar": {
              "outlinewidth": 1,
              "tickcolor": "rgb(36,36,36)",
              "ticks": "outside"
             }
            },
            "marker": {
             "colorbar": {
              "outlinewidth": 1,
              "tickcolor": "rgb(36,36,36)",
              "ticks": "outside"
             }
            },
            "type": "scatter3d"
           }
          ],
          "scattercarpet": [
           {
            "marker": {
             "colorbar": {
              "outlinewidth": 1,
              "tickcolor": "rgb(36,36,36)",
              "ticks": "outside"
             }
            },
            "type": "scattercarpet"
           }
          ],
          "scattergeo": [
           {
            "marker": {
             "colorbar": {
              "outlinewidth": 1,
              "tickcolor": "rgb(36,36,36)",
              "ticks": "outside"
             }
            },
            "type": "scattergeo"
           }
          ],
          "scattergl": [
           {
            "marker": {
             "colorbar": {
              "outlinewidth": 1,
              "tickcolor": "rgb(36,36,36)",
              "ticks": "outside"
             }
            },
            "type": "scattergl"
           }
          ],
          "scattermapbox": [
           {
            "marker": {
             "colorbar": {
              "outlinewidth": 1,
              "tickcolor": "rgb(36,36,36)",
              "ticks": "outside"
             }
            },
            "type": "scattermapbox"
           }
          ],
          "scatterpolar": [
           {
            "marker": {
             "colorbar": {
              "outlinewidth": 1,
              "tickcolor": "rgb(36,36,36)",
              "ticks": "outside"
             }
            },
            "type": "scatterpolar"
           }
          ],
          "scatterpolargl": [
           {
            "marker": {
             "colorbar": {
              "outlinewidth": 1,
              "tickcolor": "rgb(36,36,36)",
              "ticks": "outside"
             }
            },
            "type": "scatterpolargl"
           }
          ],
          "scatterternary": [
           {
            "marker": {
             "colorbar": {
              "outlinewidth": 1,
              "tickcolor": "rgb(36,36,36)",
              "ticks": "outside"
             }
            },
            "type": "scatterternary"
           }
          ],
          "surface": [
           {
            "colorbar": {
             "outlinewidth": 1,
             "tickcolor": "rgb(36,36,36)",
             "ticks": "outside"
            },
            "colorscale": [
             [
              0,
              "#440154"
             ],
             [
              0.1111111111111111,
              "#482878"
             ],
             [
              0.2222222222222222,
              "#3e4989"
             ],
             [
              0.3333333333333333,
              "#31688e"
             ],
             [
              0.4444444444444444,
              "#26828e"
             ],
             [
              0.5555555555555556,
              "#1f9e89"
             ],
             [
              0.6666666666666666,
              "#35b779"
             ],
             [
              0.7777777777777778,
              "#6ece58"
             ],
             [
              0.8888888888888888,
              "#b5de2b"
             ],
             [
              1,
              "#fde725"
             ]
            ],
            "type": "surface"
           }
          ],
          "table": [
           {
            "cells": {
             "fill": {
              "color": "rgb(237,237,237)"
             },
             "line": {
              "color": "white"
             }
            },
            "header": {
             "fill": {
              "color": "rgb(217,217,217)"
             },
             "line": {
              "color": "white"
             }
            },
            "type": "table"
           }
          ]
         },
         "layout": {
          "annotationdefaults": {
           "arrowhead": 0,
           "arrowwidth": 1
          },
          "autotypenumbers": "strict",
          "coloraxis": {
           "colorbar": {
            "outlinewidth": 1,
            "tickcolor": "rgb(36,36,36)",
            "ticks": "outside"
           }
          },
          "colorscale": {
           "diverging": [
            [
             0,
             "rgb(103,0,31)"
            ],
            [
             0.1,
             "rgb(178,24,43)"
            ],
            [
             0.2,
             "rgb(214,96,77)"
            ],
            [
             0.3,
             "rgb(244,165,130)"
            ],
            [
             0.4,
             "rgb(253,219,199)"
            ],
            [
             0.5,
             "rgb(247,247,247)"
            ],
            [
             0.6,
             "rgb(209,229,240)"
            ],
            [
             0.7,
             "rgb(146,197,222)"
            ],
            [
             0.8,
             "rgb(67,147,195)"
            ],
            [
             0.9,
             "rgb(33,102,172)"
            ],
            [
             1,
             "rgb(5,48,97)"
            ]
           ],
           "sequential": [
            [
             0,
             "#440154"
            ],
            [
             0.1111111111111111,
             "#482878"
            ],
            [
             0.2222222222222222,
             "#3e4989"
            ],
            [
             0.3333333333333333,
             "#31688e"
            ],
            [
             0.4444444444444444,
             "#26828e"
            ],
            [
             0.5555555555555556,
             "#1f9e89"
            ],
            [
             0.6666666666666666,
             "#35b779"
            ],
            [
             0.7777777777777778,
             "#6ece58"
            ],
            [
             0.8888888888888888,
             "#b5de2b"
            ],
            [
             1,
             "#fde725"
            ]
           ],
           "sequentialminus": [
            [
             0,
             "#440154"
            ],
            [
             0.1111111111111111,
             "#482878"
            ],
            [
             0.2222222222222222,
             "#3e4989"
            ],
            [
             0.3333333333333333,
             "#31688e"
            ],
            [
             0.4444444444444444,
             "#26828e"
            ],
            [
             0.5555555555555556,
             "#1f9e89"
            ],
            [
             0.6666666666666666,
             "#35b779"
            ],
            [
             0.7777777777777778,
             "#6ece58"
            ],
            [
             0.8888888888888888,
             "#b5de2b"
            ],
            [
             1,
             "#fde725"
            ]
           ]
          },
          "colorway": [
           "#1F77B4",
           "#FF7F0E",
           "#2CA02C",
           "#D62728",
           "#9467BD",
           "#8C564B",
           "#E377C2",
           "#7F7F7F",
           "#BCBD22",
           "#17BECF"
          ],
          "font": {
           "color": "rgb(36,36,36)"
          },
          "geo": {
           "bgcolor": "white",
           "lakecolor": "white",
           "landcolor": "white",
           "showlakes": true,
           "showland": true,
           "subunitcolor": "white"
          },
          "hoverlabel": {
           "align": "left"
          },
          "hovermode": "closest",
          "mapbox": {
           "style": "light"
          },
          "paper_bgcolor": "white",
          "plot_bgcolor": "white",
          "polar": {
           "angularaxis": {
            "gridcolor": "rgb(232,232,232)",
            "linecolor": "rgb(36,36,36)",
            "showgrid": false,
            "showline": true,
            "ticks": "outside"
           },
           "bgcolor": "white",
           "radialaxis": {
            "gridcolor": "rgb(232,232,232)",
            "linecolor": "rgb(36,36,36)",
            "showgrid": false,
            "showline": true,
            "ticks": "outside"
           }
          },
          "scene": {
           "xaxis": {
            "backgroundcolor": "white",
            "gridcolor": "rgb(232,232,232)",
            "gridwidth": 2,
            "linecolor": "rgb(36,36,36)",
            "showbackground": true,
            "showgrid": false,
            "showline": true,
            "ticks": "outside",
            "zeroline": false,
            "zerolinecolor": "rgb(36,36,36)"
           },
           "yaxis": {
            "backgroundcolor": "white",
            "gridcolor": "rgb(232,232,232)",
            "gridwidth": 2,
            "linecolor": "rgb(36,36,36)",
            "showbackground": true,
            "showgrid": false,
            "showline": true,
            "ticks": "outside",
            "zeroline": false,
            "zerolinecolor": "rgb(36,36,36)"
           },
           "zaxis": {
            "backgroundcolor": "white",
            "gridcolor": "rgb(232,232,232)",
            "gridwidth": 2,
            "linecolor": "rgb(36,36,36)",
            "showbackground": true,
            "showgrid": false,
            "showline": true,
            "ticks": "outside",
            "zeroline": false,
            "zerolinecolor": "rgb(36,36,36)"
           }
          },
          "shapedefaults": {
           "fillcolor": "black",
           "line": {
            "width": 0
           },
           "opacity": 0.3
          },
          "ternary": {
           "aaxis": {
            "gridcolor": "rgb(232,232,232)",
            "linecolor": "rgb(36,36,36)",
            "showgrid": false,
            "showline": true,
            "ticks": "outside"
           },
           "baxis": {
            "gridcolor": "rgb(232,232,232)",
            "linecolor": "rgb(36,36,36)",
            "showgrid": false,
            "showline": true,
            "ticks": "outside"
           },
           "bgcolor": "white",
           "caxis": {
            "gridcolor": "rgb(232,232,232)",
            "linecolor": "rgb(36,36,36)",
            "showgrid": false,
            "showline": true,
            "ticks": "outside"
           }
          },
          "title": {
           "x": 0.05
          },
          "xaxis": {
           "automargin": true,
           "gridcolor": "rgb(232,232,232)",
           "linecolor": "rgb(36,36,36)",
           "showgrid": false,
           "showline": true,
           "ticks": "outside",
           "title": {
            "standoff": 15
           },
           "zeroline": false,
           "zerolinecolor": "rgb(36,36,36)"
          },
          "yaxis": {
           "automargin": true,
           "gridcolor": "rgb(232,232,232)",
           "linecolor": "rgb(36,36,36)",
           "showgrid": false,
           "showline": true,
           "ticks": "outside",
           "title": {
            "standoff": 15
           },
           "zeroline": false,
           "zerolinecolor": "rgb(36,36,36)"
          }
         }
        },
        "title": {
         "text": "So sánh tần suất ảnh hưởng đến công việc do vấn đề sức khỏe tâm thần đối với những người làm từ xa và văn phòng theo giới tính"
        },
        "width": 1400,
        "xaxis": {
         "anchor": "y",
         "domain": [
          0,
          0.45
         ],
         "title": {
          "text": "Giới tính"
         }
        },
        "xaxis2": {
         "anchor": "y2",
         "domain": [
          0.55,
          1
         ],
         "title": {
          "text": "Giới tính"
         }
        },
        "yaxis": {
         "anchor": "x",
         "domain": [
          0,
          1
         ],
         "title": {
          "text": "Số lượng"
         }
        },
        "yaxis2": {
         "anchor": "x2",
         "domain": [
          0,
          1
         ],
         "title": {
          "text": "Phần trăm"
         }
        }
       }
      }
     },
     "metadata": {},
     "output_type": "display_data"
    }
   ],
   "source": [
    "# tạo subplots\n",
    "fig = make_subplots(rows=1, cols=2, subplot_titles=[\"Biểu đồ dưới dạng số lượng người khảo sát\", \"Biểu đồ dưới dạng phần trăm người khảo sát (%)\"])\n",
    "\n",
    "# thiết kế layout cho biểu đồ\n",
    "fig.update_layout(\n",
    "    template=\"simple_white\",\n",
    "    barmode=\"stack\",\n",
    "    height=500,\n",
    "    width=1400,\n",
    "    title_text=\"So sánh tần suất ảnh hưởng đến công việc do vấn đề sức khỏe tâm thần đối với những người làm từ xa và văn phòng theo giới tính\"\n",
    ")\n",
    "\n",
    "# color pallete\n",
    "colors = ['#003f5c', \"#7a5195\", \"#ef5675\", '#ffa600']\n",
    "\n",
    "# vòng lặp vẽ từng giá trị theo work_interfere dạng stack\n",
    "for r, c in zip(melted_df.work_interfere.unique(), colors):\n",
    "    plot_df = melted_df[melted_df.work_interfere == r]\n",
    "    fig.add_trace(\n",
    "        go.Bar(x=[plot_df.Gender, plot_df.remote_work], y=plot_df.value, name=r, marker_color=c, text=plot_df.value),\n",
    "         row=1, col=1\n",
    "    )\n",
    "for r, c in zip(melted_df.work_interfere.unique(), colors):\n",
    "    plot_df = melted_df[melted_df.work_interfere == r]\n",
    "    fig.add_trace(\n",
    "        go.Bar(x=[plot_df.Gender, plot_df.remote_work], y=plot_df.percentage, name=r, marker_color=c,  text=plot_df.percentage, showlegend=False, ),\n",
    "        row=1, col=2\n",
    "    )\n",
    "# thêm các title cho axis\n",
    "fig.update_yaxes(title_text=\"Số lượng\", row=1, col=1)\n",
    "fig.update_xaxes(title_text=\"Giới tính\", row=1, col=1)\n",
    "fig.update_yaxes(title_text=\"Phần trăm\", row=1, col=2)\n",
    "fig.update_xaxes(title_text=\"Giới tính\", row=1, col=2)\n",
    "fig"
   ]
  },
  {
   "cell_type": "markdown",
   "id": "8ec0852e-a02c-4d02-9f8e-40abb334ab25",
   "metadata": {},
   "source": [
    "Nhìn vào 2 biểu đồ, ta có thể phân tích một số thông tin như sau:\n",
    "- Về số lượng và mức độ chênh lệch về giới tính và môi trường làm việc:\n",
    "    - Số lượng người khảo sát chiếm phần lớn là nam ($\\geqslant$ 50%) kể cả làm từ xa hoặc không (gần 1000 người), với **70%** là làm việc văn phòng, **30%** là làm việc từ xa.\n",
    "    - Số lượng nữ khá khiêm tốn khi tổng số người khảo sát chưa tới 300 người, trong đó khoảng **71%** là làm việc văn phòng, **29%** là làm việc từ xa. Vậy tỉ lệ làm việc ở 2 môi trường của nữ là gần như tương đồng với nam.\n",
    "    - Số còn lại (Others) chiếm rất thấp và không đáng kể trong dữ liệu (chưa tới 30 người), với khoảng **64%** là làm việc trong văn phòng và **36%** là làm việc từ xa.\n",
    "- Về tần suất ảnh hưởng đến công việc do các vấn đề về sức khỏe tâm thần:\n",
    "    - Ở cả 3 `Gender`, phần lớn những người này đều thỉnh thoảng bị ảnh hưởng đến công việc cho các vấn đề về tâm thần (bằng chứng là tỉ lệ `Sometimes` ở cả hai môi trường đều rất cao, chiếm hơn 50% của mỗi cột). \n",
    "    - Những tần suất còn lại chiếm khá ít và mỗi tần suất thường chiếm khoảng từ **10% - 22%** (đặc biệt `Others` làm việc từ xa thường xuyên bị ảnh hưởng là **37.5%*8) trong mỗi `Gender`, trong đó:\n",
    "      - `Often`: `Female` thường xuyên bị ảnh hưởng khi làm việc trong văn phòng là khoảng **11%**, làm từ xa là **20%**, `Male` làm trong văn phòng là khoảng **10%** và từ xa là **11.5%**, còn lại `Others` làm việc trong văn phòng là **21.5%** và từ xa là **37.5%** \\\n",
    "      -> Ta thấy tỉ lệ số người thường xuyên bị ảnh hưởng trong văn phòng lại luôn thấp hơn làm việc từ xa, điều này có kết luận gì?\n",
    "      - `Rarely`: Tương tự như `Often`, tỉ lệ tần suất hiếm khi bị cản trở công việc khi làm việc trong văn phòng luôn thấp hơn làm từ xa (đối với Nam va Nữ). `Others` thì số lượng hiếm khi bị ảnh hưởng khi làm việc trong văn phòng là khoảng **21.5%**, còn làm từ xa là không có.\n",
    "      - `Never`: Tỉ lệ phân bố của tần suất này thì lại ngược với `Often`, khi mà tỉ lệ những người làm việc tại văn phòng thì không bị ảnh hưởng đến công việc chiếm nhiều hơn so với làm việc từ xa.\n",
    "**Dự đoán khả năng:** Với sự phân bố về số lượng cũng như tỉ lệ mỗi tần suất chiếm trong mỗi cột cho ta một số dự đoán như sau:\n",
    "- Tỉ lệ `Sometimes` của mỗi cột đều khá đồng đều với nhau, chứng tỏ dù ở môi trường nào cũng sẽ có thế bị ảnh hưởng đến công việc do vấn đề về sức khỏe tâm thần (có thể đa phần đến từ khối lượng công việc và một số yếu tố tác động bên ngoài).\n",
    "- Tỉ lệ phân bố trong giới tính khác `Others` có một chút khác biệt so với hai giới tính còn lại, khả năng là do số lượng những người khảo sát trong khoảng này là rất ít nên phân bố bị lệch khá nhiều, chiếm không đáng kể trong tập dữ liệu nên ta sẽ tập trung vào `Male` và `Female`.\n",
    "- Tại sao tỉ lệ thường xuyên bị ảnh hưởng công việc (`Often`) do các vấn đề về tâm thần của những người đi làm việc văn phòng lại thấp hơn khi làm từ xa? Thường có khả năng là do môi trường làm việc bên ngoài bị ảnh hưởng khá nhiều do các yếu tố bên ngoài (tiếng ồn xung quanh, chuyện gia đình, cá nhân,...), còn khi làm việc trong văn phòng, thì đây là một môi trường chuyên làm việc, do đó nó rất ít bị ảnh hưởng đến những yếu tố bên ngoài nên tỉ lệ chiếm ít hơn là làm việc từ xa. Có thể tỉ lệ phân bố của `Never` và `Rarely` cũng là do nguyên nhân này.\n",
    "<blockquote> Những thông số này cho ta biết được cho dù môi trường thay đổi thì vẫn sẽ có những lúc công việc bị ảnh hưởng do các vấn đề về tâm thần, việc gặp nhiều hay ít còn tùy vào công việc, đời sống sinh hoạt và một số tác nhân khác."
   ]
  },
  {
   "cell_type": "markdown",
   "id": "184de077",
   "metadata": {},
   "source": [
    "### Câu 3: Tình trạng sức khỏe tâm thần của nhân viên (từng giới) công ty công nghệ hiện nay như thế nào và họ quan tâm thế nào đến sức khỏe tâm thần của bản thân ?"
   ]
  },
  {
   "cell_type": "markdown",
   "id": "c6e46a0f",
   "metadata": {},
   "source": [
    "Bước 1: Lọc lấy cái dòng dữ liệu của công ty công nghệ"
   ]
  },
  {
   "cell_type": "code",
   "execution_count": 41,
   "id": "a039f01b",
   "metadata": {},
   "outputs": [
    {
     "data": {
      "text/plain": [
       "tech_company\n",
       "Yes    1031\n",
       "Name: count, dtype: int64"
      ]
     },
     "execution_count": 41,
     "metadata": {},
     "output_type": "execute_result"
    }
   ],
   "source": [
    "copy_df = raw_df.copy()\n",
    "copy_df = copy_df[copy_df['tech_company'] == 'Yes']\n",
    "copy_df['tech_company'].value_counts()"
   ]
  },
  {
   "cell_type": "markdown",
   "id": "ab75488b",
   "metadata": {},
   "source": [
    "Bước 2: Xóa bỏ cột `tech_company` trước khi khai thác"
   ]
  },
  {
   "cell_type": "code",
   "execution_count": 42,
   "id": "a02e31f0",
   "metadata": {},
   "outputs": [],
   "source": [
    "copy_df.drop(columns = ['tech_company'], inplace = True)"
   ]
  },
  {
   "cell_type": "markdown",
   "id": "58847b8a",
   "metadata": {},
   "source": [
    "Bước 3: Tình hình sức khỏe tâm thần của nhân viên theo giới của các công ty công nghệ như thế nào?"
   ]
  },
  {
   "cell_type": "code",
   "execution_count": 43,
   "id": "e90e475f",
   "metadata": {},
   "outputs": [
    {
     "data": {
      "image/png": "[encoded data removed]",
      "text/plain": [
       "<Figure size 1300.25x600 with 2 Axes>"
      ]
     },
     "metadata": {},
     "output_type": "display_data"
    }
   ],
   "source": [
    "def annotate_bars(ax):\n",
    "    for p in ax.patches:\n",
    "        ax.annotate(format(p.get_height(), '.0f'), \n",
    "                    (p.get_x() + p.get_width() / 2., p.get_height()), \n",
    "                    ha = 'center', \n",
    "                    va = 'center', \n",
    "                    xytext = (0, 10), \n",
    "                    textcoords = 'offset points')\n",
    "\n",
    "g = sns.FacetGrid(copy_df, col=\"family_history\", height=6)\n",
    "g.map(sns.countplot, 'treatment', hue=copy_df['Gender'], order=[\"Yes\", \"No\"], hue_order=['Male', 'Female', 'Others'], palette = ['#750E21', '#E3651D', '#BED754'])\n",
    "g.set_axis_labels('Treatment', 'Frequency of taking mental treatment')\n",
    "\n",
    "plt.subplots_adjust(top=0.9)\n",
    "g.fig.suptitle('Mental Health Treatment Frequency for Tech Company Employees by Gender and Family History')\n",
    "\n",
    "for ax in g.axes.flat:\n",
    "    annotate_bars(ax)\n",
    "\n",
    "g.add_legend()\n",
    "\n",
    "plt.show()"
   ]
  },
  {
   "cell_type": "markdown",
   "id": "b13b0dab",
   "metadata": {},
   "source": [
    "**Kết luận 1:** \n",
    "- Nhân viên với gia đình có *tiền sử bệnh tâm thần* thì nhân viên có xu hướng đã tiếp nhận điều trị tâm thần ròi và số lượng nhiều nhất ở Nam giới, tiếp đến là Nữ giới \n",
    "- Ngược lại ở nhân viên với gia đình không có tiền sử bệnh tâm thần, việc không tiếp nhận điều trị tâm thần có số lượng rất lớn, bên cạnh đó cũng phải nhắc đến mặc dù gia đình không có tiền sử bệnh tâm thần nhưng có tổng **164** Nam giới, **46** Nữ giới, và **11** giới khác tiếp nhận điều trị tâm thần khi so sánh với giới tương ứng khi nhân viên với gia đình có tiền sử bệnh tâm thần là **206**, **77**, và **10**"
   ]
  },
  {
   "cell_type": "markdown",
   "id": "c27915cd",
   "metadata": {},
   "source": [
    "Bước 4: Sử dụng 2 cột dữ liệu mental_health_interviews và care_options để đánh giá mức độ quan tâm sức khỏe tâm thần của bản thân nhân viên. \n",
    "\n",
    "Cụ thể: Ta nhận thấy giá trị *Not Sure* của cột `care_options` mang ý nghĩa không chắc chắn như *Maybe* ở cột `mental_health_interview`, nên ta sẽ đưa *Not Sure* thành *Maybe* luôn để tiện so sánh, và vẽ đồ thị."
   ]
  },
  {
   "cell_type": "code",
   "execution_count": 44,
   "id": "3154fb21",
   "metadata": {},
   "outputs": [
    {
     "data": {
      "image/png": "[encoded data removed]",
      "text/plain": [
       "<Figure size 640x480 with 1 Axes>"
      ]
     },
     "metadata": {},
     "output_type": "display_data"
    }
   ],
   "source": [
    "# replace 'Not sure' in column care_options by 'Maybe'\n",
    "copy_df['care_options'] = copy_df['care_options'].replace('Not sure', 'Maybe')\n",
    "\n",
    "mental_health_interview_counts = copy_df['mental_health_interview'].value_counts()\n",
    "care_options_counts = copy_df['care_options'].value_counts()\n",
    "\n",
    "df_counts = pd.DataFrame({'Mental Health Interview': mental_health_interview_counts, \n",
    "                          'Care Options': care_options_counts})\n",
    "\n",
    "\n",
    "labels = df_counts.index\n",
    "width = 0.35  # the width of the bars\n",
    "\n",
    "fig, ax = plt.subplots()\n",
    "\n",
    "rects1 = ax.bar(np.arange(len(labels)) - width/2, df_counts['Mental Health Interview'], width, label='Mental Health Interview')\n",
    "rects2 = ax.bar(np.arange(len(labels)) + width/2, df_counts['Care Options'], width, label='Care Options')\n",
    "\n",
    "# Add some text for labels, title and custom x-axis tick labels, etc.\n",
    "ax.set_ylabel('Attitude towards their mental health')\n",
    "ax.set_title('Mental Health Interview and Care Options Responses')\n",
    "ax.set_xticks(np.arange(len(labels)))\n",
    "ax.set_xticklabels(labels)\n",
    "ax.legend()\n",
    "\n",
    "plt.tight_layout()\n",
    "plt.show()"
   ]
  },
  {
   "cell_type": "markdown",
   "id": "343b8fa3",
   "metadata": {},
   "source": [
    "**Kết luận 2:** Đa số nhân viên công ty công nghệ chưa thật sự quan tâm đến sức khỏe tâm thần của bản thân khi ta có thể thấy rằng: \n",
    "- Phần lớn lựa chọn **No** cả về việc có nêu vấn đề sức khỏe tâm thần với nhà tuyển dụng và sự hiểu biết các lựa chọn chăm sóc tâm thần của chủ lao động cung cấp \n",
    "- Nhưng ta thấy sự an ủi ở việc nhân viên cũng có biết về các lựa chọn chăm sóc được chủ lao động cung cấp (356/1031 said **Yes**) mặc dù không có ý định sẽ bàn luận trong cuộc phỏng vấn với nhà tuyển dụng tiềm năng\n",
    "- **261** ý kiến cho rằng không chắc chắn là biết về các lựa chọn chăm sóc sức khỏe tâm của chủ lao động cung cấp cùng với **182** lựa chọn lưỡng lự trong việc bàn luận sức khỏe tâm thần khi tham gia phỏng vấn tuyển dụng"
   ]
  },
  {
   "cell_type": "code",
   "execution_count": 45,
   "id": "5fd897a2",
   "metadata": {},
   "outputs": [
    {
     "name": "stdout",
     "output_type": "stream",
     "text": [
      "mental_health_interview\n",
      "No       809\n",
      "Maybe    182\n",
      "Yes       40\n",
      "Name: count, dtype: int64 care_options\n",
      "No       414\n",
      "Yes      356\n",
      "Maybe    261\n",
      "Name: count, dtype: int64\n"
     ]
    }
   ],
   "source": [
    "print(mental_health_interview_counts, care_options_counts)"
   ]
  },
  {
   "cell_type": "markdown",
   "id": "8393e1d1",
   "metadata": {},
   "source": [
    "<div style=\"text-align: center; background-color: #b1d1ff; font-family: 'Trebuchet MS', Arial, sans-serif; color: white; padding: 20px; font-size: 40px; font-weight: bold; border-radius: 0 0 0 0; box-shadow: 0px 6px 8px rgba(0, 0, 0, 0.2);\">\n",
    "  Review\n",
    "</div>"
   ]
  },
  {
   "cell_type": "markdown",
   "id": "4cbfecfe",
   "metadata": {},
   "source": [
    "Sau khi hoàn thành đồ án Lập trình cho Khoa học dữ liệu, chúng em đã có nhiều trải nghiệm quý giá và học hỏi được nhiều kiến thức mới. Đồ án này không chỉ giúp chúng em nắm bắt được lý thuyết mà còn cung cấp cơ hội để áp dụng những kiến thức đã học vào thực tế.\n",
    "\n",
    "Báo cáo này sẽ tóm tắt quá trình thực hiện đồ án, những khó khăn mà chúng em đã gặp phải, cũng như những bài học rút ra được. Chúng em hy vọng rằng những trải nghiệm và kiến thức đã học được từ đồ án này sẽ là nền tảng vững chắc cho những dự án Khoa học dữ liệu trong tương lai."
   ]
  },
  {
   "cell_type": "markdown",
   "id": "57696d4a",
   "metadata": {},
   "source": [
    "## I. Khó khăn\n",
    "### 1. Khó khăn chung:\n",
    "- Quản lí thời gian để vừa học và nghiên cứu cho đồ án, vừa ôn thi cuối kì và làm những đồ án môn khác.\n",
    "\n",
    "### 2. Từng thành viên:\n",
    "- Trần Đình Nhật Trí:\n",
    "    - Khó khăn trong việc merge code trên jupyter notebook do vấn đề về phần mềm và môi trường\n",
    "    - Đắn đo trong việc lựa chọn và đưa ra câu hỏi hay và nặng ý nghĩa trong đồ án, liệu câu hỏi này có phù hợp hay không?\n",
    "    - Khó khăn trong việc trình bày, mô tả quá trình và tổ chức code\n",
    "\n",
    "- Nguyễn Thủy Uyên:\n",
    "    - Cào dữ liệu mất nhiều thời gian và phải liên tục chỉnh sửa code do kết nối mạng và thay đổi bộ dữ liệu\n",
    "    - Chưa thể tìm hiểu kĩ và hiểu rõ về các kiến thức ML, DL\n",
    "    - Đắn đo trong việc lựa chọn và đưa ra câu hỏi\n",
    "    - Tinh chỉnh siêu tham số chưa phù hợp dẫn đến mất thời gian\n",
    "\n",
    "-  Nguyễn Ngọc Gia Minh:\n",
    "    - Merge code dễ gây conflict vì tổ chức file không tương đồng, file notebook khó để merge\n",
    "    - Tìm hiểu và khai thác được các câu hỏi thật sự mang ý nghĩa (cần kết hợp các cột dữ liệu ra sao, lựa chọn biểu đồ như thế nào, các bước giải quyết, nhận xét và đưa ra kết luận)"
   ]
  },
  {
   "cell_type": "markdown",
   "id": "a978067e",
   "metadata": {},
   "source": [
    "## II. Bài học kinh nghiệm của từng thành viên:\n",
    "- Trần Đình Nhật Trí:\n",
    "    - Cách xử lí conflict khi merge code.\n",
    "    -Rèn dũa kĩ năng thảo luận, đóng góp và hỗ trợ các thành viên trong nhóm.\n",
    "    - Quy trình làm một dự án dữ liệu hoàn chỉnh, rèn luyện được những kĩ năng cứng và mềm trong một dự án khoa học dữ liệu.\n",
    "    - Tự học và nghiên cứu, tìm cách đưa ra vấn đề và giải quyết.\n",
    "    - Học thêm được nhiều kiến thức mới lạ, thú vị trong chuyên ngành và biết cách triển khai một sản phẩm ra cho người dùng.\n",
    "\n",
    "- Nguyễn Thủy Uyên:\n",
    "    - Kĩ năng sử dụng github, kĩ năng thảo luận và làm việc nhóm.\n",
    "    - Quản lí thời gian phù hợp và hiệu quả.\n",
    "    - Tự học hỏi các kiến thức mới, cách giải quyết vấn đề trong python (sử dụng các function...).\n",
    "    - Học được từ phần công việc của teammate (như Pipeline, deploy mô hình,...)\n",
    "    - Quy trình hoàn thiện một dự án Khoa Học Dữ Liệu.\n",
    "\n",
    "-  Nguyễn Ngọc Gia Minh:\n",
    "    - Các bước thực hiện một project dữ liệu hoàn chỉnh là như thể nào?\n",
    "    - Khả năng chịu đựng áp lực, bất đồng giữa thành viên trong nhóm\n",
    "    - Khả năng sử dụng Git, Github gia tăng\n",
    "    - Tự học được thêm nhiều thư viện, hàm hỗ trợ trong Python; các mô hình học máy, chọn lựa tham số tối ưu cho mô hình, triển khai mô hình\n",
    "    - Cách làm việc trong một đội nhóm thật sự"
   ]
  },
  {
   "cell_type": "markdown",
   "id": "50535f07",
   "metadata": {},
   "source": [
    "## III. Nếu có nhiều thời gian hơn, nhóm sẽ:\n",
    "Nhóm em sẽ thực hiện thêm một số thứ như sau: \n",
    "- Tiến hành cào thêm các cột dữ liệu như đánh giá của từng người chơi game (số giờ chơi, bình luận về game, đề xuất game hay không, số người dùng thấy đánh giá hữu ích, vui vẻ, ....)\n",
    "- Sentiment analysis trên tập dữ liệu đó, xây dụng NLP, Recommender System, ....\n",
    "- Khai thác nhiều hơn thông tin của từng game cào được như System requirements (hệ điều hành tương thích, lưu trữ tối thiểu cần có, RAM, ....) để cụ thể hơn việc khai thác thị trường người chơi game\n",
    "- Thử cào dữ liệu bằng các cách mang lại hiệu suất cao hơn (ít tốn thời gian và tài nguyên máy tính hơn)\n",
    "- Tìm hiểu thêm các mô hình của học máy dùng để xử lý text\n",
    "- Tìm hiểu và cài đặt fine tuning cho mô hình được lựa chọn tốt hơn"
   ]
  }
 ],
 "metadata": {
  "kernelspec": {
   "display_name": "Python 3 (ipykernel)",
   "language": "python",
   "name": "python3"
  },
  "language_info": {
   "codemirror_mode": {
    "name": "ipython",
    "version": 3
   },
   "file_extension": ".py",
   "mimetype": "text/x-python",
   "name": "python",
   "nbconvert_exporter": "python",
   "pygments_lexer": "ipython3",
   "version": "3.10.11"
  }
 },
 "nbformat": 4,
 "nbformat_minor": 5
}
