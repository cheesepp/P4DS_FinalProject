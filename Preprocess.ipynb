{
 "cells": [
  {
   "cell_type": "markdown",
   "metadata": {},
   "source": [
    "<div style=\"text-align: center; background-color: #b1d1ff; font-family: 'Trebuchet MS', Arial, sans-serif; color: white; padding: 20px; font-size: 40px; font-weight: bold; border-radius: 0 0 0 0; box-shadow: 0px 6px 8px rgba(0, 0, 0, 0.2);\">\n",
    "   Preprocessing\n",
    "</div>"
   ]
  },
  {
   "cell_type": "markdown",
   "metadata": {},
   "source": [
    "## Import thư viện"
   ]
  },
  {
   "cell_type": "code",
   "execution_count": 42,
   "metadata": {},
   "outputs": [],
   "source": [
    "import numpy as np\n",
    "import pandas as pd\n",
    "\n",
    "import warnings\n",
    "warnings.filterwarnings('ignore')"
   ]
  },
  {
   "cell_type": "markdown",
   "metadata": {},
   "source": [
    "## Khám phá dữ liệu"
   ]
  },
  {
   "cell_type": "markdown",
   "metadata": {},
   "source": [
    "### Đọc file dữ liệu"
   ]
  },
  {
   "cell_type": "code",
   "execution_count": 44,
   "metadata": {},
   "outputs": [
    {
     "data": {
      "text/html": [
       "<div>\n",
       "<style scoped>\n",
       "    .dataframe tbody tr th:only-of-type {\n",
       "        vertical-align: middle;\n",
       "    }\n",
       "\n",
       "    .dataframe tbody tr th {\n",
       "        vertical-align: top;\n",
       "    }\n",
       "\n",
       "    .dataframe thead th {\n",
       "        text-align: right;\n",
       "    }\n",
       "</style>\n",
       "<table border=\"1\" class=\"dataframe\">\n",
       "  <thead>\n",
       "    <tr style=\"text-align: right;\">\n",
       "      <th></th>\n",
       "      <th>Timestamp</th>\n",
       "      <th>Age</th>\n",
       "      <th>Gender</th>\n",
       "      <th>Country</th>\n",
       "      <th>state</th>\n",
       "      <th>self_employed</th>\n",
       "      <th>family_history</th>\n",
       "      <th>treatment</th>\n",
       "      <th>work_interfere</th>\n",
       "      <th>no_employees</th>\n",
       "      <th>...</th>\n",
       "      <th>leave</th>\n",
       "      <th>mental_health_consequence</th>\n",
       "      <th>phys_health_consequence</th>\n",
       "      <th>coworkers</th>\n",
       "      <th>supervisor</th>\n",
       "      <th>mental_health_interview</th>\n",
       "      <th>phys_health_interview</th>\n",
       "      <th>mental_vs_physical</th>\n",
       "      <th>obs_consequence</th>\n",
       "      <th>comments</th>\n",
       "    </tr>\n",
       "  </thead>\n",
       "  <tbody>\n",
       "    <tr>\n",
       "      <th>0</th>\n",
       "      <td>2014-08-27 11:29:31</td>\n",
       "      <td>37</td>\n",
       "      <td>Female</td>\n",
       "      <td>United States</td>\n",
       "      <td>IL</td>\n",
       "      <td>NaN</td>\n",
       "      <td>No</td>\n",
       "      <td>Yes</td>\n",
       "      <td>Often</td>\n",
       "      <td>6-25</td>\n",
       "      <td>...</td>\n",
       "      <td>Somewhat easy</td>\n",
       "      <td>No</td>\n",
       "      <td>No</td>\n",
       "      <td>Some of them</td>\n",
       "      <td>Yes</td>\n",
       "      <td>No</td>\n",
       "      <td>Maybe</td>\n",
       "      <td>Yes</td>\n",
       "      <td>No</td>\n",
       "      <td>NaN</td>\n",
       "    </tr>\n",
       "    <tr>\n",
       "      <th>1</th>\n",
       "      <td>2014-08-27 11:29:37</td>\n",
       "      <td>44</td>\n",
       "      <td>M</td>\n",
       "      <td>United States</td>\n",
       "      <td>IN</td>\n",
       "      <td>NaN</td>\n",
       "      <td>No</td>\n",
       "      <td>No</td>\n",
       "      <td>Rarely</td>\n",
       "      <td>More than 1000</td>\n",
       "      <td>...</td>\n",
       "      <td>Don't know</td>\n",
       "      <td>Maybe</td>\n",
       "      <td>No</td>\n",
       "      <td>No</td>\n",
       "      <td>No</td>\n",
       "      <td>No</td>\n",
       "      <td>No</td>\n",
       "      <td>Don't know</td>\n",
       "      <td>No</td>\n",
       "      <td>NaN</td>\n",
       "    </tr>\n",
       "    <tr>\n",
       "      <th>2</th>\n",
       "      <td>2014-08-27 11:29:44</td>\n",
       "      <td>32</td>\n",
       "      <td>Male</td>\n",
       "      <td>Canada</td>\n",
       "      <td>NaN</td>\n",
       "      <td>NaN</td>\n",
       "      <td>No</td>\n",
       "      <td>No</td>\n",
       "      <td>Rarely</td>\n",
       "      <td>6-25</td>\n",
       "      <td>...</td>\n",
       "      <td>Somewhat difficult</td>\n",
       "      <td>No</td>\n",
       "      <td>No</td>\n",
       "      <td>Yes</td>\n",
       "      <td>Yes</td>\n",
       "      <td>Yes</td>\n",
       "      <td>Yes</td>\n",
       "      <td>No</td>\n",
       "      <td>No</td>\n",
       "      <td>NaN</td>\n",
       "    </tr>\n",
       "    <tr>\n",
       "      <th>3</th>\n",
       "      <td>2014-08-27 11:29:46</td>\n",
       "      <td>31</td>\n",
       "      <td>Male</td>\n",
       "      <td>United Kingdom</td>\n",
       "      <td>NaN</td>\n",
       "      <td>NaN</td>\n",
       "      <td>Yes</td>\n",
       "      <td>Yes</td>\n",
       "      <td>Often</td>\n",
       "      <td>26-100</td>\n",
       "      <td>...</td>\n",
       "      <td>Somewhat difficult</td>\n",
       "      <td>Yes</td>\n",
       "      <td>Yes</td>\n",
       "      <td>Some of them</td>\n",
       "      <td>No</td>\n",
       "      <td>Maybe</td>\n",
       "      <td>Maybe</td>\n",
       "      <td>No</td>\n",
       "      <td>Yes</td>\n",
       "      <td>NaN</td>\n",
       "    </tr>\n",
       "    <tr>\n",
       "      <th>4</th>\n",
       "      <td>2014-08-27 11:30:22</td>\n",
       "      <td>31</td>\n",
       "      <td>Male</td>\n",
       "      <td>United States</td>\n",
       "      <td>TX</td>\n",
       "      <td>NaN</td>\n",
       "      <td>No</td>\n",
       "      <td>No</td>\n",
       "      <td>Never</td>\n",
       "      <td>100-500</td>\n",
       "      <td>...</td>\n",
       "      <td>Don't know</td>\n",
       "      <td>No</td>\n",
       "      <td>No</td>\n",
       "      <td>Some of them</td>\n",
       "      <td>Yes</td>\n",
       "      <td>Yes</td>\n",
       "      <td>Yes</td>\n",
       "      <td>Don't know</td>\n",
       "      <td>No</td>\n",
       "      <td>NaN</td>\n",
       "    </tr>\n",
       "  </tbody>\n",
       "</table>\n",
       "<p>5 rows × 27 columns</p>\n",
       "</div>"
      ],
      "text/plain": [
       "             Timestamp  Age  Gender         Country state self_employed  \\\n",
       "0  2014-08-27 11:29:31   37  Female   United States    IL           NaN   \n",
       "1  2014-08-27 11:29:37   44       M   United States    IN           NaN   \n",
       "2  2014-08-27 11:29:44   32    Male          Canada   NaN           NaN   \n",
       "3  2014-08-27 11:29:46   31    Male  United Kingdom   NaN           NaN   \n",
       "4  2014-08-27 11:30:22   31    Male   United States    TX           NaN   \n",
       "\n",
       "  family_history treatment work_interfere    no_employees  ...  \\\n",
       "0             No       Yes          Often            6-25  ...   \n",
       "1             No        No         Rarely  More than 1000  ...   \n",
       "2             No        No         Rarely            6-25  ...   \n",
       "3            Yes       Yes          Often          26-100  ...   \n",
       "4             No        No          Never         100-500  ...   \n",
       "\n",
       "                leave mental_health_consequence phys_health_consequence  \\\n",
       "0       Somewhat easy                        No                      No   \n",
       "1          Don't know                     Maybe                      No   \n",
       "2  Somewhat difficult                        No                      No   \n",
       "3  Somewhat difficult                       Yes                     Yes   \n",
       "4          Don't know                        No                      No   \n",
       "\n",
       "      coworkers supervisor mental_health_interview phys_health_interview  \\\n",
       "0  Some of them        Yes                      No                 Maybe   \n",
       "1            No         No                      No                    No   \n",
       "2           Yes        Yes                     Yes                   Yes   \n",
       "3  Some of them         No                   Maybe                 Maybe   \n",
       "4  Some of them        Yes                     Yes                   Yes   \n",
       "\n",
       "  mental_vs_physical obs_consequence comments  \n",
       "0                Yes              No      NaN  \n",
       "1         Don't know              No      NaN  \n",
       "2                 No              No      NaN  \n",
       "3                 No             Yes      NaN  \n",
       "4         Don't know              No      NaN  \n",
       "\n",
       "[5 rows x 27 columns]"
      ]
     },
     "execution_count": 44,
     "metadata": {},
     "output_type": "execute_result"
    }
   ],
   "source": [
    "raw_df = pd.read_csv('survey.csv')\n",
    "raw_df.head()"
   ]
  },
  {
   "cell_type": "markdown",
   "metadata": {},
   "source": [
    "### Dataset có bao nhiêu dòng và cột"
   ]
  },
  {
   "cell_type": "code",
   "execution_count": 45,
   "metadata": {},
   "outputs": [
    {
     "data": {
      "text/plain": [
       "(1259, 27)"
      ]
     },
     "execution_count": 45,
     "metadata": {},
     "output_type": "execute_result"
    }
   ],
   "source": [
    "raw_df.shape"
   ]
  },
  {
   "cell_type": "markdown",
   "metadata": {},
   "source": [
    "Có 1259 dòng và 27 cột dữ liệu\n",
    "\n",
    "### Ý nghĩa của từng dòng dữ liệu\n",
    "\n",
    "- Tập dữ liệu này lấy từ một cuộc khảo sát năm 2014 nhằm đo lường thái độ đối với sức khỏe tâm thần và tần suất rối loạn sức khỏe tâm thần tại nơi làm việc.\n",
    "- Mỗi dòng là câu trả lời của một người tham gia khảo sát, và thể hiện được các phần như: Thông tin cơ bản của người trả lời (ẩn danh); Thái độ đối với vấn đề sức khỏe tinh thần của chính mình; Cách các công ty, tổ chức cung cấp quyền lợi cho nhân viên có vấn đề sức khỏe tinh thần và thể chất như thế nào;..."
   ]
  },
  {
   "cell_type": "markdown",
   "metadata": {},
   "source": [
    "### Ý nghĩa các trường dữ liệu\n",
    "\n",
    "Đọc file `description.csv` trong để hiểu rõ hơn về các cột ta đang làm việc. Lưu vào DataFrame `col_meaning_df` và index chính là `Title` - tên các trường dữ liệu."
   ]
  },
  {
   "cell_type": "code",
   "execution_count": 54,
   "metadata": {},
   "outputs": [
    {
     "data": {
      "text/html": [
       "<div>\n",
       "<style scoped>\n",
       "    .dataframe tbody tr th:only-of-type {\n",
       "        vertical-align: middle;\n",
       "    }\n",
       "\n",
       "    .dataframe tbody tr th {\n",
       "        vertical-align: top;\n",
       "    }\n",
       "\n",
       "    .dataframe thead th {\n",
       "        text-align: right;\n",
       "    }\n",
       "</style>\n",
       "<table border=\"1\" class=\"dataframe\">\n",
       "  <thead>\n",
       "    <tr style=\"text-align: right;\">\n",
       "      <th></th>\n",
       "      <th>Meaning</th>\n",
       "    </tr>\n",
       "    <tr>\n",
       "      <th>Title</th>\n",
       "      <th></th>\n",
       "    </tr>\n",
       "  </thead>\n",
       "  <tbody>\n",
       "    <tr>\n",
       "      <th>Timestamp</th>\n",
       "      <td>Thời gian nộp khảo sát</td>\n",
       "    </tr>\n",
       "    <tr>\n",
       "      <th>Age</th>\n",
       "      <td>Tuổi</td>\n",
       "    </tr>\n",
       "    <tr>\n",
       "      <th>Gender</th>\n",
       "      <td>Giới tính</td>\n",
       "    </tr>\n",
       "    <tr>\n",
       "      <th>Country</th>\n",
       "      <td>Quốc gia sinh sống</td>\n",
       "    </tr>\n",
       "    <tr>\n",
       "      <th>state</th>\n",
       "      <td>Tên tiểu bang sinh sống</td>\n",
       "    </tr>\n",
       "    <tr>\n",
       "      <th>self_employed</th>\n",
       "      <td>Bạn có tự kinh doanh không?</td>\n",
       "    </tr>\n",
       "    <tr>\n",
       "      <th>family_history</th>\n",
       "      <td>Gia đình có tiền sử bệnh tâm thần không?</td>\n",
       "    </tr>\n",
       "    <tr>\n",
       "      <th>treatment</th>\n",
       "      <td>Bạn đã tìm cách điều trị tình trạng sức khỏe tâm thần chưa?</td>\n",
       "    </tr>\n",
       "    <tr>\n",
       "      <th>work_interfere</th>\n",
       "      <td>Nếu bạn có vấn đề về sức khỏe tâm thần, bạn có cảm thấy nó cản trở công việc của mình không?</td>\n",
       "    </tr>\n",
       "    <tr>\n",
       "      <th>no_employees</th>\n",
       "      <td>Công ty hoặc tổ chức của bạn có bao nhiêu nhân viên?</td>\n",
       "    </tr>\n",
       "    <tr>\n",
       "      <th>remote_work</th>\n",
       "      <td>Bạn có làm việc từ xa (bên ngoài văn phòng) ít nhất 50% thời gian không?</td>\n",
       "    </tr>\n",
       "    <tr>\n",
       "      <th>tech_company</th>\n",
       "      <td>Chủ lao động của bạn chủ yếu là một công ty/tổ chức công nghệ phải không?</td>\n",
       "    </tr>\n",
       "    <tr>\n",
       "      <th>benefits</th>\n",
       "      <td>Chủ lao động của bạn có cung cấp các phúc lợi về sức khỏe tâm thần không?</td>\n",
       "    </tr>\n",
       "    <tr>\n",
       "      <th>care_options</th>\n",
       "      <td>Bạn có biết các lựa chọn chăm sóc sức khỏe tâm thần mà chủ lao động của bạn cung cấp không?</td>\n",
       "    </tr>\n",
       "    <tr>\n",
       "      <th>wellness_program</th>\n",
       "      <td>Chủ lao động của bạn đã bao giờ thảo luận về sức khỏe tâm thần như một phần của chương trình chăm sóc sức khỏe cho nhân viên chưa?</td>\n",
       "    </tr>\n",
       "    <tr>\n",
       "      <th>seek_help</th>\n",
       "      <td>Chủ lao động của bạn có cung cấp các nguồn lực để tìm hiểu thêm về các vấn đề sức khỏe tâm thần và cách tìm kiếm sự giúp đỡ không?</td>\n",
       "    </tr>\n",
       "    <tr>\n",
       "      <th>anonymity</th>\n",
       "      <td>Danh tính của bạn có được bảo vệ nếu bạn chọn tận dụng các nguồn lực điều trị sức khỏe tâm thần hoặc lạm dụng thuốc không?</td>\n",
       "    </tr>\n",
       "    <tr>\n",
       "      <th>leave</th>\n",
       "      <td>Bạn có thể xin nghỉ phép vì tình trạng sức khỏe tâm thần dễ dàng không?</td>\n",
       "    </tr>\n",
       "    <tr>\n",
       "      <th>mental_health_consequence</th>\n",
       "      <td>Bạn có nghĩ rằng việc thảo luận về vấn đề sức khỏe tâm thần với chủ lao động của bạn sẽ gây ra hậu quả tiêu cực không?</td>\n",
       "    </tr>\n",
       "    <tr>\n",
       "      <th>phys_health_consequence</th>\n",
       "      <td>Bạn có nghĩ rằng việc thảo luận về vấn đề sức khỏe thể chất với chủ lao động của bạn sẽ gây ra hậu quả tiêu cực không?</td>\n",
       "    </tr>\n",
       "    <tr>\n",
       "      <th>coworkers</th>\n",
       "      <td>Bạn có sẵn lòng thảo luận vấn đề sức khỏe tâm thần với đồng nghiệp của mình không?</td>\n",
       "    </tr>\n",
       "    <tr>\n",
       "      <th>supervisor</th>\n",
       "      <td>Bạn có sẵn lòng thảo luận vấn đề sức khỏe tâm thần với (những) người giám sát trực tiếp của bạn không?</td>\n",
       "    </tr>\n",
       "    <tr>\n",
       "      <th>mental_health_interview</th>\n",
       "      <td>Bạn có nêu vấn đề sức khỏe tâm thần với nhà tuyển dụng tiềm năng trong một cuộc phỏng vấn không?</td>\n",
       "    </tr>\n",
       "    <tr>\n",
       "      <th>phys_health_interview</th>\n",
       "      <td>Bạn có nêu vấn đề sức khỏe thể chất với nhà tuyển dụng tiềm năng trong một cuộc phỏng vấn không?</td>\n",
       "    </tr>\n",
       "    <tr>\n",
       "      <th>mental_vs_physical</th>\n",
       "      <td>Bạn có cảm thấy rằng chủ lao động của bạn coi trọng sức khỏe tinh thần cũng như sức khỏe thể chất không?</td>\n",
       "    </tr>\n",
       "    <tr>\n",
       "      <th>obs_consequence</th>\n",
       "      <td>Bạn đã từng nghe hoặc quan sát thấy những hậu quả tiêu cực đối với đồng nghiệp mắc bệnh tâm thần ở nơi làm việc của bạn chưa?</td>\n",
       "    </tr>\n",
       "    <tr>\n",
       "      <th>comments</th>\n",
       "      <td>Bất kỳ ghi chú hoặc ý kiến ​​bổ sung.</td>\n",
       "    </tr>\n",
       "  </tbody>\n",
       "</table>\n",
       "</div>"
      ],
      "text/plain": [
       "                                                                                                                                                      Meaning\n",
       "Title                                                                                                                                                        \n",
       "Timestamp                                                                                                                              Thời gian nộp khảo sát\n",
       "Age                                                                                                                                                      Tuổi\n",
       "Gender                                                                                                                                              Giới tính\n",
       "Country                                                                                                                                    Quốc gia sinh sống\n",
       "state                                                                                                                                 Tên tiểu bang sinh sống\n",
       "self_employed                                                                                                                     Bạn có tự kinh doanh không?\n",
       "family_history                                                                                                       Gia đình có tiền sử bệnh tâm thần không?\n",
       "treatment                                                                                         Bạn đã tìm cách điều trị tình trạng sức khỏe tâm thần chưa?\n",
       "work_interfere                                                   Nếu bạn có vấn đề về sức khỏe tâm thần, bạn có cảm thấy nó cản trở công việc của mình không?\n",
       "no_employees                                                                                             Công ty hoặc tổ chức của bạn có bao nhiêu nhân viên?\n",
       "remote_work                                                                          Bạn có làm việc từ xa (bên ngoài văn phòng) ít nhất 50% thời gian không?\n",
       "tech_company                                                                        Chủ lao động của bạn chủ yếu là một công ty/tổ chức công nghệ phải không?\n",
       "benefits                                                                            Chủ lao động của bạn có cung cấp các phúc lợi về sức khỏe tâm thần không?\n",
       "care_options                                                      Bạn có biết các lựa chọn chăm sóc sức khỏe tâm thần mà chủ lao động của bạn cung cấp không?\n",
       "wellness_program           Chủ lao động của bạn đã bao giờ thảo luận về sức khỏe tâm thần như một phần của chương trình chăm sóc sức khỏe cho nhân viên chưa?\n",
       "seek_help                  Chủ lao động của bạn có cung cấp các nguồn lực để tìm hiểu thêm về các vấn đề sức khỏe tâm thần và cách tìm kiếm sự giúp đỡ không?\n",
       "anonymity                          Danh tính của bạn có được bảo vệ nếu bạn chọn tận dụng các nguồn lực điều trị sức khỏe tâm thần hoặc lạm dụng thuốc không?\n",
       "leave                                                                                 Bạn có thể xin nghỉ phép vì tình trạng sức khỏe tâm thần dễ dàng không?\n",
       "mental_health_consequence              Bạn có nghĩ rằng việc thảo luận về vấn đề sức khỏe tâm thần với chủ lao động của bạn sẽ gây ra hậu quả tiêu cực không?\n",
       "phys_health_consequence                Bạn có nghĩ rằng việc thảo luận về vấn đề sức khỏe thể chất với chủ lao động của bạn sẽ gây ra hậu quả tiêu cực không?\n",
       "coworkers                                                                  Bạn có sẵn lòng thảo luận vấn đề sức khỏe tâm thần với đồng nghiệp của mình không?\n",
       "supervisor                                             Bạn có sẵn lòng thảo luận vấn đề sức khỏe tâm thần với (những) người giám sát trực tiếp của bạn không?\n",
       "mental_health_interview                                      Bạn có nêu vấn đề sức khỏe tâm thần với nhà tuyển dụng tiềm năng trong một cuộc phỏng vấn không?\n",
       "phys_health_interview                                        Bạn có nêu vấn đề sức khỏe thể chất với nhà tuyển dụng tiềm năng trong một cuộc phỏng vấn không?\n",
       "mental_vs_physical                                   Bạn có cảm thấy rằng chủ lao động của bạn coi trọng sức khỏe tinh thần cũng như sức khỏe thể chất không?\n",
       "obs_consequence                 Bạn đã từng nghe hoặc quan sát thấy những hậu quả tiêu cực đối với đồng nghiệp mắc bệnh tâm thần ở nơi làm việc của bạn chưa?\n",
       "comments                                                                                                                Bất kỳ ghi chú hoặc ý kiến ​​bổ sung."
      ]
     },
     "execution_count": 54,
     "metadata": {},
     "output_type": "execute_result"
    }
   ],
   "source": [
    "pd.set_option('display.max_colwidth', 500)\n",
    "\n",
    "col_meaning_df = pd.read_csv('description.csv', index_col='Title')\n",
    "col_meaning_df "
   ]
  },
  {
   "cell_type": "markdown",
   "metadata": {},
   "source": [
    "### Xem thử các dòng trong data có bị trùng lặp hay không"
   ]
  },
  {
   "cell_type": "code",
   "execution_count": 32,
   "metadata": {},
   "outputs": [
    {
     "data": {
      "text/plain": [
       "False"
      ]
     },
     "execution_count": 32,
     "metadata": {},
     "output_type": "execute_result"
    }
   ],
   "source": [
    "duplicated = raw_df.duplicated().any()\n",
    "duplicated"
   ]
  },
  {
   "cell_type": "markdown",
   "metadata": {},
   "source": [
    "Vậy dữ liệu không có dòng trùng lặp. Ta tiến hành bước tiếp theo\n",
    "\n",
    "### Loại dữ liệu của mỗi cột là gì? Chúng có phù hợp để xử lí sau này không?\n",
    "\n",
    "Ta xem xét loại dữ liệu của toàn bộ các cột"
   ]
  },
  {
   "cell_type": "code",
   "execution_count": 33,
   "metadata": {},
   "outputs": [
    {
     "data": {
      "text/plain": [
       "Timestamp                    object\n",
       "Age                           int64\n",
       "Gender                       object\n",
       "Country                      object\n",
       "state                        object\n",
       "self_employed                object\n",
       "family_history               object\n",
       "treatment                    object\n",
       "work_interfere               object\n",
       "no_employees                 object\n",
       "remote_work                  object\n",
       "tech_company                 object\n",
       "benefits                     object\n",
       "care_options                 object\n",
       "wellness_program             object\n",
       "seek_help                    object\n",
       "anonymity                    object\n",
       "leave                        object\n",
       "mental_health_consequence    object\n",
       "phys_health_consequence      object\n",
       "coworkers                    object\n",
       "supervisor                   object\n",
       "mental_health_interview      object\n",
       "phys_health_interview        object\n",
       "mental_vs_physical           object\n",
       "obs_consequence              object\n",
       "comments                     object\n",
       "dtype: object"
      ]
     },
     "execution_count": 33,
     "metadata": {},
     "output_type": "execute_result"
    }
   ],
   "source": [
    "raw_df.dtypes"
   ]
  },
  {
   "cell_type": "markdown",
   "metadata": {},
   "source": [
    "Các cột có kiểu dữ liệu phù hợp. Tuy nhiên ở cột `Timestamp` ta sẽ chuyển thành kiểu `datetime`.\n",
    "\n"
   ]
  },
  {
   "cell_type": "code",
   "execution_count": 38,
   "metadata": {},
   "outputs": [
    {
     "data": {
      "text/plain": [
       "Timestamp                    datetime64[ns]\n",
       "Age                                   int64\n",
       "Gender                               object\n",
       "Country                              object\n",
       "state                                object\n",
       "self_employed                        object\n",
       "family_history                       object\n",
       "treatment                            object\n",
       "work_interfere                       object\n",
       "no_employees                         object\n",
       "remote_work                          object\n",
       "tech_company                         object\n",
       "benefits                             object\n",
       "care_options                         object\n",
       "wellness_program                     object\n",
       "seek_help                            object\n",
       "anonymity                            object\n",
       "leave                                object\n",
       "mental_health_consequence            object\n",
       "phys_health_consequence              object\n",
       "coworkers                            object\n",
       "supervisor                           object\n",
       "mental_health_interview              object\n",
       "phys_health_interview                object\n",
       "mental_vs_physical                   object\n",
       "obs_consequence                      object\n",
       "comments                             object\n",
       "dtype: object"
      ]
     },
     "execution_count": 38,
     "metadata": {},
     "output_type": "execute_result"
    }
   ],
   "source": [
    "raw_df['Timestamp'] = pd.to_datetime(raw_df['Timestamp'])\n",
    "raw_df.dtypes"
   ]
  },
  {
   "cell_type": "markdown",
   "metadata": {},
   "source": [
    "Các cột đã được đưa về đúng kiểu dữ liệu\n",
    "### Kiểm tra sự phân bố dữ liệu các cột loại numerical"
   ]
  },
  {
   "cell_type": "code",
   "execution_count": 37,
   "metadata": {},
   "outputs": [
    {
     "data": {
      "text/html": [
       "<div>\n",
       "<style scoped>\n",
       "    .dataframe tbody tr th:only-of-type {\n",
       "        vertical-align: middle;\n",
       "    }\n",
       "\n",
       "    .dataframe tbody tr th {\n",
       "        vertical-align: top;\n",
       "    }\n",
       "\n",
       "    .dataframe thead th {\n",
       "        text-align: right;\n",
       "    }\n",
       "</style>\n",
       "<table border=\"1\" class=\"dataframe\">\n",
       "  <thead>\n",
       "    <tr style=\"text-align: right;\">\n",
       "      <th></th>\n",
       "      <th>Age</th>\n",
       "    </tr>\n",
       "  </thead>\n",
       "  <tbody>\n",
       "    <tr>\n",
       "      <th>count</th>\n",
       "      <td>1259.00</td>\n",
       "    </tr>\n",
       "    <tr>\n",
       "      <th>mean</th>\n",
       "      <td>79428148.31</td>\n",
       "    </tr>\n",
       "    <tr>\n",
       "      <th>std</th>\n",
       "      <td>2818299442.98</td>\n",
       "    </tr>\n",
       "    <tr>\n",
       "      <th>min</th>\n",
       "      <td>-1726.00</td>\n",
       "    </tr>\n",
       "    <tr>\n",
       "      <th>25%</th>\n",
       "      <td>27.00</td>\n",
       "    </tr>\n",
       "    <tr>\n",
       "      <th>50%</th>\n",
       "      <td>31.00</td>\n",
       "    </tr>\n",
       "    <tr>\n",
       "      <th>75%</th>\n",
       "      <td>36.00</td>\n",
       "    </tr>\n",
       "    <tr>\n",
       "      <th>max</th>\n",
       "      <td>99999999999.00</td>\n",
       "    </tr>\n",
       "  </tbody>\n",
       "</table>\n",
       "</div>"
      ],
      "text/plain": [
       "                 Age\n",
       "count        1259.00\n",
       "mean     79428148.31\n",
       "std    2818299442.98\n",
       "min         -1726.00\n",
       "25%            27.00\n",
       "50%            31.00\n",
       "75%            36.00\n",
       "max   99999999999.00"
      ]
     },
     "execution_count": 37,
     "metadata": {},
     "output_type": "execute_result"
    }
   ],
   "source": [
    "pd.set_option('display.float_format', lambda x : '%.2f' %x)\n",
    "\n",
    "raw_df.drop(columns='Timestamp').describe()"
   ]
  },
  {
   "cell_type": "markdown",
   "metadata": {},
   "source": [
    "**Nhận xét**:\n",
    "- Max của cột `Age` là một số rất lớn nằm ngoài khoảng **Tuổi** của một người. Vì vậy ta phải loại bỏ các dòng có số tuổi không đúng. \n",
    "- Min cũng tương tự.\n",
    "\n",
    "Ta sẽ đặt khoảng giá trị của **Tuổi** từ [18, 99], bởi vì hầu hết các quốc gia chỉ định 18 tuổi là độ tuổi hợp pháp để bắt đầu làm việc."
   ]
  },
  {
   "cell_type": "code",
   "execution_count": null,
   "metadata": {},
   "outputs": [],
   "source": []
  }
 ],
 "metadata": {
  "kernelspec": {
   "display_name": "base",
   "language": "python",
   "name": "python3"
  },
  "language_info": {
   "codemirror_mode": {
    "name": "ipython",
    "version": 3
   },
   "file_extension": ".py",
   "mimetype": "text/x-python",
   "name": "python",
   "nbconvert_exporter": "python",
   "pygments_lexer": "ipython3",
   "version": "3.10.9"
  }
 },
 "nbformat": 4,
 "nbformat_minor": 2
}
